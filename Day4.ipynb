{
  "nbformat": 4,
  "nbformat_minor": 0,
  "metadata": {
    "colab": {
      "name": "Day4",
      "provenance": [],
      "authorship_tag": "ABX9TyMFCOrAG0RcirW1ztepTr2E",
      "include_colab_link": true
    },
    "kernelspec": {
      "name": "python3",
      "display_name": "Python 3"
    },
    "language_info": {
      "name": "python"
    }
  },
  "cells": [
    {
      "cell_type": "markdown",
      "metadata": {
        "id": "view-in-github",
        "colab_type": "text"
      },
      "source": [
        "<a href=\"https://colab.research.google.com/github/AnnyangEH/MNFpython/blob/main/Day4.ipynb\" target=\"_parent\"><img src=\"https://colab.research.google.com/assets/colab-badge.svg\" alt=\"Open In Colab\"/></a>"
      ]
    },
    {
      "cell_type": "code",
      "metadata": {
        "id": "fDeLRNzGkJbo",
        "colab": {
          "base_uri": "https://localhost:8080/",
          "height": 34
        },
        "outputId": "c6248d7a-c65d-48d5-9dbb-9a1160892aa3"
      },
      "source": [
        "\"\"\"\n",
        "7일 동안 파이썬 마스터하기! 도전 4일차(21.05.23)\n",
        "'왕초보를 위한 Python'의 wikidocs 를 통해서 공부합니당\n",
        "첫 단계인 만큼 추후 목표는 머신러닝을 파이썬을 통해 공부할 것이고\n",
        "7일 동안 파이썬과 익숙해지면 나만의 게임도 만들거임\n",
        "\"\"\"\n",
        "#4일차는 데이터타입을 배우는 날임"
      ],
      "execution_count": null,
      "outputs": [
        {
          "output_type": "execute_result",
          "data": {
            "application/vnd.google.colaboratory.intrinsic+json": {
              "type": "string"
            },
            "text/plain": [
              "\"\\n7일 동안 파이썬 마스터하기! 도전 4일차(21.05.23)\\n'왕초보를 위한 Python'의 wikidocs 를 통해서 공부합니당\\n첫 단계인 만큼 추후 목표는 머신러닝을 파이썬을 통해 공부할 것이고\\n7일 동안 파이썬과 익숙해지면 나만의 게임도 만들거임\\n\""
            ]
          },
          "metadata": {
            "tags": []
          },
          "execution_count": 110
        }
      ]
    },
    {
      "cell_type": "code",
      "metadata": {
        "id": "qTSr5NRxkxl3",
        "colab": {
          "base_uri": "https://localhost:8080/",
          "height": 34
        },
        "outputId": "62176530-4e28-46ce-e268-d9cbf3dc0a3f"
      },
      "source": [
        "'''\n",
        "컴퓨터는 모든 숫자, 문자를 모두 이진수로 확인하기 때문에\n",
        "01000001가 숫자 65인지, 알파벳 A인지 판별할 수 없어서\n",
        "사용자이던 컴퓨터이던 자료형을 통해 구분지어 주는 것임\n",
        "'''"
      ],
      "execution_count": null,
      "outputs": [
        {
          "output_type": "execute_result",
          "data": {
            "application/vnd.google.colaboratory.intrinsic+json": {
              "type": "string"
            },
            "text/plain": [
              "'\\n컴퓨터는 모든 숫자, 문자를 모두 이진수로 확인하기 때문에\\n01000001가 숫자 65인지, 알파벳 A인지 판별할 수 없어서\\n사용자이던 컴퓨터이던 자료형을 통해 구분지어 주는 것임\\n'"
            ]
          },
          "metadata": {
            "tags": []
          },
          "execution_count": 111
        }
      ]
    },
    {
      "cell_type": "code",
      "metadata": {
        "id": "bI1JAbMikmwp"
      },
      "source": [
        "#파이썬의 자료형은 크게 수치형(numbers), 순서형(sequence), 매핑형(mapping) 등으로 나눌 수 있음"
      ],
      "execution_count": null,
      "outputs": []
    },
    {
      "cell_type": "code",
      "metadata": {
        "colab": {
          "base_uri": "https://localhost:8080/"
        },
        "id": "6L2q6ve1ki3O",
        "outputId": "7fba6504-4679-4e3a-9f2d-f42d8d3415da"
      },
      "source": [
        "type(5)"
      ],
      "execution_count": null,
      "outputs": [
        {
          "output_type": "execute_result",
          "data": {
            "text/plain": [
              "int"
            ]
          },
          "metadata": {
            "tags": []
          },
          "execution_count": 113
        }
      ]
    },
    {
      "cell_type": "code",
      "metadata": {
        "colab": {
          "base_uri": "https://localhost:8080/"
        },
        "id": "197H88lfklXi",
        "outputId": "2c51aba9-00b8-4304-f64f-fe3a41cb02e2"
      },
      "source": [
        "type('안녕')"
      ],
      "execution_count": null,
      "outputs": [
        {
          "output_type": "execute_result",
          "data": {
            "text/plain": [
              "str"
            ]
          },
          "metadata": {
            "tags": []
          },
          "execution_count": 114
        }
      ]
    },
    {
      "cell_type": "code",
      "metadata": {
        "id": "3qYx9YCelLnU"
      },
      "source": [
        "#수치형 수치형에는 정수(int), 부동소수점수(float), 복소수(complex)가 있음"
      ],
      "execution_count": null,
      "outputs": []
    },
    {
      "cell_type": "code",
      "metadata": {
        "colab": {
          "base_uri": "https://localhost:8080/"
        },
        "id": "0iZSzctElYjr",
        "outputId": "2d494b16-915b-48ce-db68-e3a4d710b0aa"
      },
      "source": [
        "type(100000)    #정수형"
      ],
      "execution_count": null,
      "outputs": [
        {
          "output_type": "execute_result",
          "data": {
            "text/plain": [
              "int"
            ]
          },
          "metadata": {
            "tags": []
          },
          "execution_count": 116
        }
      ]
    },
    {
      "cell_type": "code",
      "metadata": {
        "colab": {
          "base_uri": "https://localhost:8080/"
        },
        "id": "P_VUFWLHlZsv",
        "outputId": "143cea35-b61b-45fb-a7c5-67c2a57a5666"
      },
      "source": [
        "type(2.2)   #부동소수점수"
      ],
      "execution_count": null,
      "outputs": [
        {
          "output_type": "execute_result",
          "data": {
            "text/plain": [
              "float"
            ]
          },
          "metadata": {
            "tags": []
          },
          "execution_count": 117
        }
      ]
    },
    {
      "cell_type": "code",
      "metadata": {
        "colab": {
          "base_uri": "https://localhost:8080/"
        },
        "id": "gcJuK6ODlida",
        "outputId": "76e0dcb3-3309-4b28-c367-b8f35b6cbbca"
      },
      "source": [
        "type(3+4j)  #망할 복소수"
      ],
      "execution_count": null,
      "outputs": [
        {
          "output_type": "execute_result",
          "data": {
            "text/plain": [
              "complex"
            ]
          },
          "metadata": {
            "tags": []
          },
          "execution_count": 118
        }
      ]
    },
    {
      "cell_type": "code",
      "metadata": {
        "id": "d4gXXTW0lk18"
      },
      "source": [
        "#순서형 문자열(string), 리스트(list), 튜플(tuple), 사용자 정의 클래스가 순서형에 속함"
      ],
      "execution_count": null,
      "outputs": []
    },
    {
      "cell_type": "code",
      "metadata": {
        "colab": {
          "base_uri": "https://localhost:8080/"
        },
        "id": "MRFiIlPDlt0v",
        "outputId": "bcb8d3a2-494c-4e52-f7df-b5cfa074019f"
      },
      "source": [
        "type(\"today i don't feel like doing anything\")"
      ],
      "execution_count": null,
      "outputs": [
        {
          "output_type": "execute_result",
          "data": {
            "text/plain": [
              "str"
            ]
          },
          "metadata": {
            "tags": []
          },
          "execution_count": 120
        }
      ]
    },
    {
      "cell_type": "code",
      "metadata": {
        "colab": {
          "base_uri": "https://localhost:8080/"
        },
        "id": "hKzGDojrmA_I",
        "outputId": "25de2af1-70eb-4a68-f3a5-fc36818e1b5d"
      },
      "source": [
        "type(['Mom','Pop','Bro','Me'])"
      ],
      "execution_count": null,
      "outputs": [
        {
          "output_type": "execute_result",
          "data": {
            "text/plain": [
              "list"
            ]
          },
          "metadata": {
            "tags": []
          },
          "execution_count": 121
        }
      ]
    },
    {
      "cell_type": "code",
      "metadata": {
        "colab": {
          "base_uri": "https://localhost:8080/"
        },
        "id": "o8jAMdHRmGPy",
        "outputId": "a4b4ba7e-b598-4ef4-881b-3794d176a2f3"
      },
      "source": [
        "type(('love','is','always','painful'))"
      ],
      "execution_count": null,
      "outputs": [
        {
          "output_type": "execute_result",
          "data": {
            "text/plain": [
              "tuple"
            ]
          },
          "metadata": {
            "tags": []
          },
          "execution_count": 122
        }
      ]
    },
    {
      "cell_type": "code",
      "metadata": {
        "id": "m9H3sJlbmXSd"
      },
      "source": [
        "#매핑형 딕셔너리(dict)는 키(key)와 값(value)의 짝으로 이룸, 이런 것을 매핑형이라함"
      ],
      "execution_count": null,
      "outputs": []
    },
    {
      "cell_type": "code",
      "metadata": {
        "colab": {
          "base_uri": "https://localhost:8080/"
        },
        "id": "2GwbVAWImqbQ",
        "outputId": "67ac8f99-642e-46f4-9d27-246045877f39"
      },
      "source": [
        "type({'one' : 1, 'two' : 2, 'three' : 3})"
      ],
      "execution_count": null,
      "outputs": [
        {
          "output_type": "execute_result",
          "data": {
            "text/plain": [
              "dict"
            ]
          },
          "metadata": {
            "tags": []
          },
          "execution_count": 124
        }
      ]
    },
    {
      "cell_type": "code",
      "metadata": {
        "id": "XaU2wWHtm4FZ"
      },
      "source": [
        "#불 참(True),거짓(False)를 표현하는 불(bool)도 있음, 참고로 bool은 boolean의 줄임말임"
      ],
      "execution_count": null,
      "outputs": []
    },
    {
      "cell_type": "code",
      "metadata": {
        "colab": {
          "base_uri": "https://localhost:8080/"
        },
        "id": "V4yDxEJVnGDs",
        "outputId": "d8ab96b5-1979-40a5-dd35-fa0e34349d63"
      },
      "source": [
        "type(False)"
      ],
      "execution_count": null,
      "outputs": [
        {
          "output_type": "execute_result",
          "data": {
            "text/plain": [
              "bool"
            ]
          },
          "metadata": {
            "tags": []
          },
          "execution_count": 126
        }
      ]
    },
    {
      "cell_type": "code",
      "metadata": {
        "id": "a1knsbEOnH1f"
      },
      "source": [
        "#세트 집합을 의미하는 세트(set)"
      ],
      "execution_count": null,
      "outputs": []
    },
    {
      "cell_type": "code",
      "metadata": {
        "colab": {
          "base_uri": "https://localhost:8080/"
        },
        "id": "qQ4vzGyvnLl7",
        "outputId": "8f070e91-9009-400a-9994-60dd9c4873f7"
      },
      "source": [
        "number = {'하나', '둘', '삼'}\n",
        "type(number)"
      ],
      "execution_count": null,
      "outputs": [
        {
          "output_type": "execute_result",
          "data": {
            "text/plain": [
              "set"
            ]
          },
          "metadata": {
            "tags": []
          },
          "execution_count": 128
        }
      ]
    },
    {
      "cell_type": "code",
      "metadata": {
        "colab": {
          "base_uri": "https://localhost:8080/",
          "height": 34
        },
        "id": "6PsEQGKknV_C",
        "outputId": "f4446364-f682-4327-bf2d-6ebca690a491"
      },
      "source": [
        "'Python'[::-1]  #문자열 슬라이싱(slicing)을 이용해, 문자열에 속한 문자들을 거꾸로 배열하고 얻을 수 있음"
      ],
      "execution_count": null,
      "outputs": [
        {
          "output_type": "execute_result",
          "data": {
            "application/vnd.google.colaboratory.intrinsic+json": {
              "type": "string"
            },
            "text/plain": [
              "'nohtyP'"
            ]
          },
          "metadata": {
            "tags": []
          },
          "execution_count": 129
        }
      ]
    },
    {
      "cell_type": "code",
      "metadata": {
        "colab": {
          "base_uri": "https://localhost:8080/",
          "height": 34
        },
        "id": "-FitC7RWoD3U",
        "outputId": "b02f36dc-4a04-47ae-f70a-5ce998cf3dc3"
      },
      "source": [
        "'Python'[:6]"
      ],
      "execution_count": null,
      "outputs": [
        {
          "output_type": "execute_result",
          "data": {
            "application/vnd.google.colaboratory.intrinsic+json": {
              "type": "string"
            },
            "text/plain": [
              "'Python'"
            ]
          },
          "metadata": {
            "tags": []
          },
          "execution_count": 130
        }
      ]
    },
    {
      "cell_type": "markdown",
      "metadata": {
        "id": "cFSDrZV9onjK"
      },
      "source": [
        "**문자열 슬라이싱**\n",
        "\n",
        "문자열 슬라이싱을 이용해 문자열의 일부를 복사할 수 있습니다.\n",
        ">>> p = 'Python'\n",
        ">>> p[0:2]\n",
        "'Py'\n",
        "\n",
        "아래처럼 인덱스 0을 생략할 수도 있습니다.\n",
        ">>> p[:2]\n",
        "'Py'\n",
        "\n",
        "문자열의 뒷부분을 복사할 수도 있습니다.\n",
        ">>> p[-2:]\n",
        "'on'\n",
        "\n",
        "다음과 같은 방법으로 문자열 전부를 복사할 수도 있습니다.\n",
        ">>> p[:]\n",
        "'Python'\n",
        "\n",
        "역순으로 복사하는 것도 가능합니다.\n",
        ">>> p[::-1]\n",
        "'nohtyP'\n",
        "\n",
        "문자열의 lower() 메서드를 이용해 소문자만으로 이루어진 문자열을 얻을 수 있습니다.\n",
        ">>> 'Python'.lower()\n",
        "'python'\n",
        "\n",
        "그리고 replace() 메서드를 이용해 문자열 일부를 다른 문자열로 바꾼 문자열을 얻을 수 있습니다.\n",
        ">>> 'Python'.replace('P', 'J')\n",
        "'Jython'"
      ]
    },
    {
      "cell_type": "markdown",
      "metadata": {
        "id": "gg0o0dT_pJKz"
      },
      "source": [
        "**문제**\n",
        "\n",
        "거꾸로 배열해도 같은 단어 혹은 문장이 되는 것을 ‘회문(palindrome)’이라고 합니다.\n",
        "\n",
        "Anna\n",
        "Civic\n",
        "Kayak\n",
        "Level\n"
      ]
    },
    {
      "cell_type": "markdown",
      "metadata": {
        "id": "AEbfkdgKpVX5"
      },
      "source": [
        "**문제 1**\n",
        "\n",
        "주어진 단어가 회문인지 판별하는 함수 palindrome()을 작성하세요. 단, 문자열 입력은 모두 소문자로 이뤄지며 공백을 포함하지 않는다고 가정합니다.\n",
        "\n",
        ">>> palindrome('anna')\n",
        "\n",
        "True\n",
        "\n",
        ">>> palindrome('banana')\n",
        "\n",
        "False"
      ]
    },
    {
      "cell_type": "code",
      "metadata": {
        "id": "vxENlp9rpnYi"
      },
      "source": [
        "def pailndrome(s):\n",
        "    if str(s) == str(s[::-1]):\n",
        "        return True\n",
        "    else:\n",
        "        return False"
      ],
      "execution_count": null,
      "outputs": []
    },
    {
      "cell_type": "code",
      "metadata": {
        "colab": {
          "base_uri": "https://localhost:8080/"
        },
        "id": "ULHnTh3rpkWG",
        "outputId": "626034ac-a077-403a-d6ae-8efdc2cd4d50"
      },
      "source": [
        "print(pailndrome('sos'))\n",
        "print(pailndrome('island'))\n",
        "print(pailndrome('anna'))"
      ],
      "execution_count": null,
      "outputs": [
        {
          "output_type": "stream",
          "text": [
            "True\n",
            "False\n",
            "True\n"
          ],
          "name": "stdout"
        }
      ]
    },
    {
      "cell_type": "markdown",
      "metadata": {
        "id": "J2MW9XTMphaP"
      },
      "source": [
        "**문제 2**\n",
        "\n",
        "대문자와 소문자가 섞여 있더라도 회문으로 판정하도록 함수를 개선하세요.\n",
        "\n",
        ">>> palindrome('Anna')\n",
        "\n",
        "True"
      ]
    },
    {
      "cell_type": "code",
      "metadata": {
        "id": "PzCIyDBPp71J"
      },
      "source": [
        "def cappailndrome(s):\n",
        "    if str(s.lower()) == str(s.lower()[::-1]):\n",
        "        return True\n",
        "    else:\n",
        "        return False"
      ],
      "execution_count": null,
      "outputs": []
    },
    {
      "cell_type": "code",
      "metadata": {
        "colab": {
          "base_uri": "https://localhost:8080/"
        },
        "id": "0-gIvsBIrNA-",
        "outputId": "881d71c8-228d-41ad-f8b0-be00b368c8e8"
      },
      "source": [
        "print(cappailndrome('Sos'))\n",
        "print(cappailndrome('Island'))\n",
        "print(cappailndrome('Anna'))"
      ],
      "execution_count": null,
      "outputs": [
        {
          "output_type": "stream",
          "text": [
            "True\n",
            "False\n",
            "True\n"
          ],
          "name": "stdout"
        }
      ]
    },
    {
      "cell_type": "markdown",
      "metadata": {
        "id": "v7Je42H2ryzv"
      },
      "source": [
        "**문제 3**\n",
        "\n",
        "공백이 섞여 있더라도 회문으로 판정하도록 함수를 개선하세요.\n",
        "\n",
        ">>> palindrome('My gym')\n",
        "\n",
        "True"
      ]
    },
    {
      "cell_type": "code",
      "metadata": {
        "id": "7dhwCFNXrPyt"
      },
      "source": [
        "def gopalindrome(s):\n",
        "    s = str(s.replace(' ',''))\n",
        "    if str(s.lower()) == str(s.lower()[::-1]):\n",
        "        return True\n",
        "    else:\n",
        "        return False"
      ],
      "execution_count": null,
      "outputs": []
    },
    {
      "cell_type": "code",
      "metadata": {
        "colab": {
          "base_uri": "https://localhost:8080/"
        },
        "id": "iuusFXebs6dt",
        "outputId": "904e8e6d-9b76-42f7-b5b8-e535912043fe"
      },
      "source": [
        "print(gopalindrome('S O s'))\n",
        "print(gopalindrome('Annn'))\n",
        "print(gopalindrome('Island'))\n",
        "print(gopalindrome('An na'))"
      ],
      "execution_count": null,
      "outputs": [
        {
          "output_type": "stream",
          "text": [
            "True\n",
            "False\n",
            "False\n",
            "True\n"
          ],
          "name": "stdout"
        }
      ]
    },
    {
      "cell_type": "code",
      "metadata": {
        "id": "8FQN4ZwRtIi9"
      },
      "source": [
        "#21.05.23(SUN) 상하이 vs 퓨전전 옵치리그 1시간 정도 보고 아마존 웹서비스 프랙티션 영상 조금 챙겨보구,, 나머지 하느라 조금밖에 못했음! 낼 개인정비 시간에 더 해야쥐"
      ],
      "execution_count": null,
      "outputs": []
    },
    {
      "cell_type": "markdown",
      "metadata": {
        "id": "wntY1oGWe-5E"
      },
      "source": [
        "**문자열**"
      ]
    },
    {
      "cell_type": "code",
      "metadata": {
        "id": "_VeKpB2Zd8y5"
      },
      "source": [
        "x = 'banana'"
      ],
      "execution_count": null,
      "outputs": []
    },
    {
      "cell_type": "code",
      "metadata": {
        "id": "_abUUqOIeBqE",
        "colab": {
          "base_uri": "https://localhost:8080/",
          "height": 34
        },
        "outputId": "9ba18c44-36f2-4945-b08c-f835eb884adb"
      },
      "source": [
        "x[0]    #0번 글자는?"
      ],
      "execution_count": null,
      "outputs": [
        {
          "output_type": "execute_result",
          "data": {
            "application/vnd.google.colaboratory.intrinsic+json": {
              "type": "string"
            },
            "text/plain": [
              "'b'"
            ]
          },
          "metadata": {
            "tags": []
          },
          "execution_count": 139
        }
      ]
    },
    {
      "cell_type": "code",
      "metadata": {
        "id": "gjwvHYVceETC",
        "colab": {
          "base_uri": "https://localhost:8080/",
          "height": 34
        },
        "outputId": "be54aaee-5991-4d02-8ec9-3eb2cbd2e157"
      },
      "source": [
        "x[2:4]  # 2번부터 4번 앞(3번)까지는?"
      ],
      "execution_count": null,
      "outputs": [
        {
          "output_type": "execute_result",
          "data": {
            "application/vnd.google.colaboratory.intrinsic+json": {
              "type": "string"
            },
            "text/plain": [
              "'na'"
            ]
          },
          "metadata": {
            "tags": []
          },
          "execution_count": 140
        }
      ]
    },
    {
      "cell_type": "code",
      "metadata": {
        "id": "OTQG_9HUeCQ1",
        "colab": {
          "base_uri": "https://localhost:8080/",
          "height": 34
        },
        "outputId": "15a9a916-388a-4ffa-ebb4-1fa765f05a1e"
      },
      "source": [
        "x[:3]   # 처음부터 3번 앞(2번)까지는?"
      ],
      "execution_count": null,
      "outputs": [
        {
          "output_type": "execute_result",
          "data": {
            "application/vnd.google.colaboratory.intrinsic+json": {
              "type": "string"
            },
            "text/plain": [
              "'ban'"
            ]
          },
          "metadata": {
            "tags": []
          },
          "execution_count": 141
        }
      ]
    },
    {
      "cell_type": "code",
      "metadata": {
        "id": "0-yQ5TYNeDFI",
        "colab": {
          "base_uri": "https://localhost:8080/",
          "height": 34
        },
        "outputId": "679caa37-f774-4515-c9f9-e6a420a5c275"
      },
      "source": [
        "x[3:]   # 3번부터 끝까지는?"
      ],
      "execution_count": null,
      "outputs": [
        {
          "output_type": "execute_result",
          "data": {
            "application/vnd.google.colaboratory.intrinsic+json": {
              "type": "string"
            },
            "text/plain": [
              "'ana'"
            ]
          },
          "metadata": {
            "tags": []
          },
          "execution_count": 142
        }
      ]
    },
    {
      "cell_type": "code",
      "metadata": {
        "id": "-zhXvZNZeMWW",
        "colab": {
          "base_uri": "https://localhost:8080/",
          "height": 170
        },
        "outputId": "1bdd0d32-5c22-4790-8d53-1c521147dae2"
      },
      "source": [
        "x[0] = 'n'"
      ],
      "execution_count": null,
      "outputs": [
        {
          "output_type": "error",
          "ename": "TypeError",
          "evalue": "ignored",
          "traceback": [
            "\u001b[0;31m---------------------------------------------------------------------------\u001b[0m",
            "\u001b[0;31mTypeError\u001b[0m                                 Traceback (most recent call last)",
            "\u001b[0;32m<ipython-input-143-bbded5e142fa>\u001b[0m in \u001b[0;36m<module>\u001b[0;34m()\u001b[0m\n\u001b[0;32m----> 1\u001b[0;31m \u001b[0mx\u001b[0m\u001b[0;34m[\u001b[0m\u001b[0;36m0\u001b[0m\u001b[0;34m]\u001b[0m \u001b[0;34m=\u001b[0m \u001b[0;34m'n'\u001b[0m\u001b[0;34m\u001b[0m\u001b[0;34m\u001b[0m\u001b[0m\n\u001b[0m",
            "\u001b[0;31mTypeError\u001b[0m: 'str' object does not support item assignment"
          ]
        }
      ]
    },
    {
      "cell_type": "code",
      "metadata": {
        "id": "K-wLmppJesdQ"
      },
      "source": [
        "x = 'n' + x[1:]"
      ],
      "execution_count": null,
      "outputs": []
    },
    {
      "cell_type": "code",
      "metadata": {
        "id": "nwgVko2ce4PZ"
      },
      "source": [
        "x"
      ],
      "execution_count": null,
      "outputs": []
    },
    {
      "cell_type": "markdown",
      "metadata": {
        "id": "jjVKGLghfHgE"
      },
      "source": [
        "**리스트**"
      ]
    },
    {
      "cell_type": "code",
      "metadata": {
        "id": "7N7fHI2Ge4lf"
      },
      "source": [
        "prime = [3, 7, 11]"
      ],
      "execution_count": null,
      "outputs": []
    },
    {
      "cell_type": "code",
      "metadata": {
        "id": "tCpCja74fImW"
      },
      "source": [
        "prime.append(5)     #append()함수를 통해 원소 5를 추가"
      ],
      "execution_count": null,
      "outputs": []
    },
    {
      "cell_type": "code",
      "metadata": {
        "id": "O88uHKfnfOVr"
      },
      "source": [
        "prime"
      ],
      "execution_count": null,
      "outputs": []
    },
    {
      "cell_type": "markdown",
      "metadata": {
        "id": "TKy5CQVMfUBz"
      },
      "source": [
        "**sort()** 함수를 사용하면 정렬을 간단하게 할 수 있씀"
      ]
    },
    {
      "cell_type": "code",
      "metadata": {
        "id": "PWGQ_-vvfQkQ"
      },
      "source": [
        "prime.sort()"
      ],
      "execution_count": null,
      "outputs": []
    },
    {
      "cell_type": "code",
      "metadata": {
        "id": "lnMHwaGJfVg-"
      },
      "source": [
        "prime"
      ],
      "execution_count": null,
      "outputs": []
    },
    {
      "cell_type": "code",
      "metadata": {
        "id": "eZblqWzuffkf"
      },
      "source": [
        "prime.insert(0,2)   #0번 자리에 2를 추가!"
      ],
      "execution_count": null,
      "outputs": []
    },
    {
      "cell_type": "code",
      "metadata": {
        "id": "WjxtqzNKfmna"
      },
      "source": [
        "prime"
      ],
      "execution_count": null,
      "outputs": []
    },
    {
      "cell_type": "code",
      "metadata": {
        "id": "_lbL7MMzfnGu"
      },
      "source": [
        "del prime[4]    #4번 원소를 삭제"
      ],
      "execution_count": null,
      "outputs": []
    },
    {
      "cell_type": "code",
      "metadata": {
        "id": "cUYSoAUSfsZJ"
      },
      "source": [
        "prime"
      ],
      "execution_count": null,
      "outputs": []
    },
    {
      "cell_type": "code",
      "metadata": {
        "id": "tIJqiehUf2TS"
      },
      "source": [
        "prime[0] = 1    #문자열과는 달리 리스트에서는 변경할 수 있음\n",
        "prime"
      ],
      "execution_count": null,
      "outputs": []
    },
    {
      "cell_type": "code",
      "metadata": {
        "id": "S-TCPrQef58T"
      },
      "source": [
        "orders = ['potato', ['pizza', 'Coke', 'salad'], 'hamburger']    #리스트에 리스트를 넣을 수도 있음\n",
        "orders[1]   #potato 는 0, hamburger 는 2"
      ],
      "execution_count": null,
      "outputs": []
    },
    {
      "cell_type": "code",
      "metadata": {
        "id": "w0eIaWdRgQqg"
      },
      "source": [
        "orders[1][2]    "
      ],
      "execution_count": null,
      "outputs": []
    },
    {
      "cell_type": "code",
      "metadata": {
        "id": "E2ot1iuxgYvY"
      },
      "source": [
        "matrix = [[1, 2, 3], [4, 5, 6], [7, 8, 9]]  #리스트를 통한 행렬도 표현 가능"
      ],
      "execution_count": null,
      "outputs": []
    },
    {
      "cell_type": "markdown",
      "metadata": {
        "id": "Ee_xqN60hHOp"
      },
      "source": [
        "**문자열을 리스트로 바꾸기**"
      ]
    },
    {
      "cell_type": "code",
      "metadata": {
        "id": "BBZnAljJhC1b"
      },
      "source": [
        "characters = []\n",
        "sentence = 'Im the one'\n",
        "for char in sentence:\n",
        "    characters.append(char)     #빈 리스트에 append 함수를 통해 sentence의 문자열을 반복해서 하나씩 추가\n",
        "\n",
        "characters"
      ],
      "execution_count": null,
      "outputs": []
    },
    {
      "cell_type": "markdown",
      "metadata": {
        "id": "5zLL0S7ti9iv"
      },
      "source": [
        "**숫자를 문자열로 바꾸기**"
      ]
    },
    {
      "cell_type": "code",
      "metadata": {
        "id": "_lXHztGbhIRM"
      },
      "source": [
        "in_in = 123\n",
        "type(in_in)"
      ],
      "execution_count": null,
      "outputs": []
    },
    {
      "cell_type": "code",
      "metadata": {
        "id": "HwO3elEkhni2"
      },
      "source": [
        "str(in_in)  #문자열로 변경시킴 보면 작은 따옴표가 두개 생김"
      ],
      "execution_count": null,
      "outputs": []
    },
    {
      "cell_type": "code",
      "metadata": {
        "id": "tqeF3zHnjHnW"
      },
      "source": [
        "type(str(in_in))    #type() 함수를 통해 보아도 문자열로 바뀐 것을 확인가능"
      ],
      "execution_count": null,
      "outputs": []
    },
    {
      "cell_type": "code",
      "metadata": {
        "id": "CCawRgMEjLFx"
      },
      "source": [
        "my_str = str(in_in)     #이렇게 얻은 문자열을 새로운 변수에 할당하면 됌"
      ],
      "execution_count": null,
      "outputs": []
    },
    {
      "cell_type": "code",
      "metadata": {
        "id": "t7oDNtgVjtEU"
      },
      "source": [
        "#어떻게 보면 숫자를 문자열로 바꾼 것이 아니라 >> 숫자값을 통해 새로운 문자열을 얻은 것임"
      ],
      "execution_count": null,
      "outputs": []
    },
    {
      "cell_type": "markdown",
      "metadata": {
        "id": "bS4RXuaTkAhF"
      },
      "source": [
        "**문자열을 숫자로 바꾸기**\n",
        "\n",
        "역으로, 숫자를 나타낸 문자열에서 숫자를 얻어낼 수도 있음"
      ]
    },
    {
      "cell_type": "code",
      "metadata": {
        "id": "Ce2kMeThkDvV"
      },
      "source": [
        "int('123')"
      ],
      "execution_count": null,
      "outputs": []
    },
    {
      "cell_type": "code",
      "metadata": {
        "id": "XN4yZ4WKkNIv"
      },
      "source": [
        "float('123')"
      ],
      "execution_count": null,
      "outputs": []
    },
    {
      "cell_type": "markdown",
      "metadata": {
        "id": "9bXrwgGokVrb"
      },
      "source": [
        "**리스트 원소들의 합 구하기**"
      ]
    },
    {
      "cell_type": "code",
      "metadata": {
        "id": "m3O9BMVwkQKH"
      },
      "source": [
        "one_to_ten = list(range(1,11))\n",
        "one_to_ten"
      ],
      "execution_count": null,
      "outputs": []
    },
    {
      "cell_type": "code",
      "metadata": {
        "id": "cgbG94KBkhhn"
      },
      "source": [
        "sum(one_to_ten)     #합계를 구하는 함수 sum()"
      ],
      "execution_count": null,
      "outputs": []
    },
    {
      "cell_type": "code",
      "metadata": {
        "id": "tWrZI4hAkjqr"
      },
      "source": [
        "chulsu = [90, 85, 70]\n",
        "younghee = [88, 79, 92]\n",
        "yong = [20, 50, 10]\n",
        "me = [96, 99, 100]\n",
        "minsu = [90, 60, 70]\n",
        "\n",
        "students = [chulsu, younghee, yong, me, minsu]"
      ],
      "execution_count": null,
      "outputs": []
    },
    {
      "cell_type": "code",
      "metadata": {
        "id": "NtufWm4Ik83n"
      },
      "source": [
        "for scores in students:\n",
        "    print(scores)"
      ],
      "execution_count": null,
      "outputs": []
    },
    {
      "cell_type": "code",
      "metadata": {
        "id": "xzo5r8Pik_wt"
      },
      "source": [
        "for scores in students:\n",
        "    total = 0\n",
        "    for s in scores:\n",
        "        total += s\n",
        "    average = total/3\n",
        "    print(scores, total, average)"
      ],
      "execution_count": null,
      "outputs": []
    },
    {
      "cell_type": "markdown",
      "metadata": {
        "id": "qG9WOSm2lzNu"
      },
      "source": [
        "**연습 문제**: 각 자리 숫자의 합을 구하는 함수(리스트를 이용)\n",
        "\n",
        "정수 num을 매개변수로 받아 각 자리 숫자(digit)의 합을 계산하는 sumOfDigits() 함수를 작성하세요. 단, 나눗셈을 이용하지 말고 풀어보세요.\n",
        "\n",
        "예 1\n",
        "입력:\n",
        "643\n",
        "\n",
        "출력(6 + 4 + 3 = 13):\n",
        "13\n",
        "\n",
        "예 2\n",
        "입력:\n",
        "47253\n",
        "\n",
        "출력:\n",
        "21"
      ]
    },
    {
      "cell_type": "code",
      "metadata": {
        "id": "PoqENC7Gm6i8"
      },
      "source": [
        "def sumOfDigits(num):\n",
        "    sum = 0\n",
        "    for c in list(str(num)):\n",
        "        sum += int(c)\n",
        "    return sum\n",
        "\n",
        "print(sumOfDigits(643))\n",
        "print(sumOfDigits(47253))"
      ],
      "execution_count": null,
      "outputs": []
    },
    {
      "cell_type": "code",
      "metadata": {
        "id": "BmoJiiL3o9ZU"
      },
      "source": [
        ""
      ],
      "execution_count": null,
      "outputs": []
    },
    {
      "cell_type": "markdown",
      "metadata": {
        "id": "rz6GfKn0qa4b"
      },
      "source": [
        "**연습 문제: 줄기와 잎 그림**\n",
        "\n",
        "문제\n",
        "농구팀에 속한 12명의 득점을 다음과 같이 score 리스트로 나타냈습니다.\n",
        "\n",
        ">>> score = [0, 0, 2, 4, 7, 7, 9]\n",
        "\n",
        ">>> score += [11, 11, 13, 18]\n",
        "\n",
        ">>> score += [20]\n",
        "\n",
        ">>> score\n",
        "\n",
        "[0, 0, 2, 4, 7, 7, 9, 11, 11, 13, 18, 20]\n",
        "\n",
        "다음과 같이 stem_leaf 리스트를 만들어 선수들의 득점을 줄기와 잎 그림 형식으로 저장하려고합니다.\n",
        "\n",
        ">>> stem_leaf = [[], [], []]\n",
        "\n",
        "\n",
        "**문제 1**\n",
        "stem_leaf에 데이터를 채우는 프로그램을 작성하세요. 데이터가 채워진 결과는 다음과 같습니다.\n",
        "\n",
        ">>> stem_leaf\n",
        "\n",
        "[[0, 0, 2, 4, 7, 7, 9], [1, 1, 3, 8], [0]]\n",
        "\n",
        ">>> stem_leaf[0]\n",
        "\n",
        "[0, 0, 2, 4, 7, 7, 9]\n",
        "\n",
        ">>> stem_leaf[1]\n",
        "\n",
        "[1, 1, 3, 8]\n",
        "\n",
        ">>> stem_leaf[2]\n",
        "\n",
        "[0]\n",
        "\n",
        "**문제 2**\n",
        "stem_leaf를 다음과 같은 형태로 프린트하는 프로그램을 작성하세요.\n",
        "\n",
        "0: [0, 0, 2, 4, 7, 7, 9]\n",
        "\n",
        "1: [1, 1, 3, 8]\n",
        "\n",
        "2: [0]"
      ]
    },
    {
      "cell_type": "code",
      "metadata": {
        "id": "2EcuyAvQq0qe"
      },
      "source": [
        ""
      ],
      "execution_count": null,
      "outputs": []
    },
    {
      "cell_type": "code",
      "metadata": {
        "id": "L4ACSIVK2_cJ"
      },
      "source": [
        "def stem_leaf(x):\n",
        "    stem_leaf = [[ ], [ ], [ ]]\n",
        "\n",
        "    score = [0, 0, 2, 4, 7, 7, 9]\n",
        "    score += [11, 11, 13, 18]\n",
        "    score += [20]\n",
        "    for s in score:\n",
        "        if s - 10 <= 0:\n",
        "            stem_leaf[0].append(s)\n",
        "        elif (s - 10) > 0 and (s - 10) < 10:\n",
        "            stem_leaf[1].append(s)\n",
        "        else:\n",
        "            stem_leaf[2].append(s)\n",
        "    if x == 1:\n",
        "        return stem_leaf\n",
        "    else:\n",
        "        return print('0:',stem_leaf[0],'\\n1:',stem_leaf[1],'\\n2:',stem_leaf[2])"
      ],
      "execution_count": null,
      "outputs": []
    },
    {
      "cell_type": "code",
      "metadata": {
        "id": "ficnjWmF3s5E"
      },
      "source": [
        "stem_leaf(1)"
      ],
      "execution_count": null,
      "outputs": []
    },
    {
      "cell_type": "markdown",
      "metadata": {
        "id": "OChFUoY1_0XZ"
      },
      "source": [
        "**문제1**\n",
        "\n",
        "어떤 수(number)의 각 자리 숫자(digit)의 합을 계산하는 sumOfDigits()라는 재귀 \n",
        "\n",
        "함수를 작성하자. 입력한 수를 읽어 sumOfDigits() 함수를 호출하며, 이 함수는 \n",
        "\n",
        "합산할 숫자가 남지 않을 때까지 자신을 호출해, 최종적인 합을 사용자에게 표시한다.\n",
        "\n",
        "sumOfDigits()는 다음과 같은 원리로 작동한다.\n",
        "\n",
        "예 1\n",
        "\n",
        "입력:\n",
        "47253\n",
        "\n",
        "출력:\n",
        "21\n",
        "\n",
        "예 2\n",
        "\n",
        "입력:\n",
        "643\n",
        "\n",
        "출력:\n",
        "13"
      ]
    },
    {
      "cell_type": "code",
      "metadata": {
        "id": "UpirKHQN4Hgs"
      },
      "source": [
        "def sumOfDigitss(num):\n",
        "    if num >= 1:\n",
        "        return num % 10 + sumOfDigitss(num // 10)\n",
        "    else:\n",
        "        return 0\n"
      ],
      "execution_count": null,
      "outputs": []
    },
    {
      "cell_type": "code",
      "metadata": {
        "id": "MSf9xjJpCUZH",
        "colab": {
          "base_uri": "https://localhost:8080/"
        },
        "outputId": "ae3841de-72d7-47f2-ac95-cbac3eaf009b"
      },
      "source": [
        "sumOfDigitss(47253)"
      ],
      "execution_count": null,
      "outputs": [
        {
          "output_type": "execute_result",
          "data": {
            "text/plain": [
              "21"
            ]
          },
          "metadata": {
            "tags": []
          },
          "execution_count": 148
        }
      ]
    },
    {
      "cell_type": "markdown",
      "metadata": {
        "id": "1VJZZhkMJEH5"
      },
      "source": [
        "1 과 자기 자신으로만 나누어떨어지는 자연수를 소수(素數, prime number)라고 합니다(칸 아카데미).\n",
        "\n",
        "위키백과에는 '자신보다 작은 두 개의 자연수를 곱하여 만들 수 없는 1보다 큰 자연수이다'라고 설명되어 있습니다.\n",
        "\n",
        "다음은 소수입니다.\n",
        "\n",
        "2, 3, 5, 7, 11, 13, 17, 19, 23, 29, ...\n",
        "소수를 구하는 방법은 다음과 같습니다.\n",
        "\n",
        "찾고자 하는 범위의 자연수를 나열한다.\n",
        "\n",
        "2부터 시작하여, 2의 배수를 지워나간다.\n",
        "\n",
        "다음 소수의 배수를 모두 지운다 \n"
      ]
    },
    {
      "cell_type": "code",
      "metadata": {
        "id": "5qbJmu_sCbd7"
      },
      "source": [
        "def soSu(x):\n",
        "    l = list(range(2, x + 1))\n",
        "    y = 2\n",
        "    for i in l:\n",
        "        for y in l:\n",
        "            if y % i == 0 and y != i:\n",
        "                l.remove(y)\n",
        "            elif y / i == 1:\n",
        "                y += 1\n",
        "    return l"
      ],
      "execution_count": null,
      "outputs": []
    },
    {
      "cell_type": "code",
      "metadata": {
        "id": "YloAlpuOp5oH",
        "colab": {
          "base_uri": "https://localhost:8080/"
        },
        "outputId": "d9a4ee90-4cd8-4e4a-f235-476f6fd6cb4d"
      },
      "source": [
        "soSu(23)"
      ],
      "execution_count": null,
      "outputs": [
        {
          "output_type": "execute_result",
          "data": {
            "text/plain": [
              "[2, 3, 5, 7, 11, 13, 17, 19, 23]"
            ]
          },
          "metadata": {
            "tags": []
          },
          "execution_count": 111
        }
      ]
    },
    {
      "cell_type": "code",
      "metadata": {
        "id": "SpqTDfrurOlf"
      },
      "source": [
        "#위 소수 계산기 푸는데 2일 정도 걸림(실제론 교육훈련 후 피곤해서 공부시간이 절대적으로 부족하긴 헀지만)\n",
        "#그래도 너무 오래걸려서 속상했으나 정답도 안보고 혼자 직접 푼거라 뭔가 기분은 좋았음"
      ],
      "execution_count": null,
      "outputs": []
    },
    {
      "cell_type": "markdown",
      "metadata": {
        "id": "BECZm45VbAqi"
      },
      "source": [
        "**연습 문제: 진법 변환**\n",
        "\n",
        "문제\n",
        "\n",
        "십진수를 입력받아 그 숫자에 해당하는 이진수의 각 자리를 리스트로 출력하는 \n",
        "\n",
        "프로그램을 작성하세요. (순서에 유의)"
      ]
    },
    {
      "cell_type": "code",
      "metadata": {
        "id": "fse7buzXMlp_"
      },
      "source": [
        "def ten2two(x):\n",
        "    l = []\n",
        "    while True:\n",
        "        x, x1 = divmod(x, 2)\n",
        "        l.insert(0, x1)\n",
        "        if x == 0:\n",
        "            return l\n",
        "            break"
      ],
      "execution_count": null,
      "outputs": []
    },
    {
      "cell_type": "code",
      "metadata": {
        "id": "lx0LAQHCt0QM",
        "colab": {
          "base_uri": "https://localhost:8080/"
        },
        "outputId": "eb84038a-56c0-494d-d3e4-b65d496e9565"
      },
      "source": [
        "ten2two(123)"
      ],
      "execution_count": null,
      "outputs": [
        {
          "output_type": "execute_result",
          "data": {
            "text/plain": [
              "[1, 1, 1, 1, 0, 1, 1]"
            ]
          },
          "metadata": {
            "tags": []
          },
          "execution_count": 9
        }
      ]
    },
    {
      "cell_type": "markdown",
      "metadata": {
        "id": "-Z2fbVy4u7rL"
      },
      "source": [
        "**튜플(tuple)**"
      ]
    },
    {
      "cell_type": "code",
      "metadata": {
        "id": "bRqfSezluo8Q",
        "colab": {
          "base_uri": "https://localhost:8080/"
        },
        "outputId": "38ed6bfd-30a2-4b49-8fc8-6cea9711a88d"
      },
      "source": [
        "a = 10\n",
        "b = 20\n",
        "temp = a\n",
        "a = b\n",
        "b = temp\n",
        "print(a, b)"
      ],
      "execution_count": null,
      "outputs": [
        {
          "output_type": "stream",
          "text": [
            "20 10\n"
          ],
          "name": "stdout"
        }
      ]
    },
    {
      "cell_type": "code",
      "metadata": {
        "id": "SYvLGSQ9vTtN",
        "colab": {
          "base_uri": "https://localhost:8080/"
        },
        "outputId": "5f337116-8538-4fb5-f6ab-56685e3c347b"
      },
      "source": [
        "c = 10\n",
        "d = 20\n",
        "c, d = d, c     #고딩때 자바로 풀던거 생각나네;; 갓갓 파이썬\n",
        "print(c, d)"
      ],
      "execution_count": null,
      "outputs": [
        {
          "output_type": "stream",
          "text": [
            "20 10\n"
          ],
          "name": "stdout"
        }
      ]
    },
    {
      "cell_type": "code",
      "metadata": {
        "id": "6CybfgRNve1B"
      },
      "source": [
        "def magu_print(x, y, *reset):\n",
        "    print(x, y, reset)"
      ],
      "execution_count": null,
      "outputs": []
    },
    {
      "cell_type": "code",
      "metadata": {
        "id": "ooVjKe9p1qKZ",
        "colab": {
          "base_uri": "https://localhost:8080/"
        },
        "outputId": "b498d58d-2506-488c-d0a2-5b711999f53f"
      },
      "source": [
        "magu_print(1,2,30)"
      ],
      "execution_count": null,
      "outputs": [
        {
          "output_type": "stream",
          "text": [
            "1 2 (30,)\n"
          ],
          "name": "stdout"
        }
      ]
    },
    {
      "cell_type": "code",
      "metadata": {
        "id": "gAiZGmOr1smJ"
      },
      "source": [
        "t = ('a','b','c')\n",
        "#튜플을 만들 때는 위와 같이 괄호를 써도 되고 안 써도 됩니다"
      ],
      "execution_count": null,
      "outputs": []
    },
    {
      "cell_type": "code",
      "metadata": {
        "id": "2vZLgxkMDOdy"
      },
      "source": [
        "empty = ()\n",
        "#원소가 없는 튜플을 만들 때는 괄호를 꼭 써야함."
      ],
      "execution_count": null,
      "outputs": []
    },
    {
      "cell_type": "code",
      "metadata": {
        "id": "Ry0FsnSADSS8",
        "colab": {
          "base_uri": "https://localhost:8080/",
          "height": 136
        },
        "outputId": "72a57d85-3632-4057-a6d8-d1a5ce2d718d"
      },
      "source": [
        "one = 5,\n",
        "#원소를 하나만 가진 튜플을 만들 땐 원소 뒤에 콤마(,)를 꼭 찍어주시구요."
      ],
      "execution_count": null,
      "outputs": [
        {
          "output_type": "error",
          "ename": "SyntaxError",
          "evalue": "ignored",
          "traceback": [
            "\u001b[0;36m  File \u001b[0;32m\"<ipython-input-8-f4a0411ec20c>\"\u001b[0;36m, line \u001b[0;32m2\u001b[0m\n\u001b[0;31m    원소를 하나만 가진 튜플을 만들 땐 원소 뒤에 콤마(,)를 꼭 찍어주시구요.\u001b[0m\n\u001b[0m          ^\u001b[0m\n\u001b[0;31mSyntaxError\u001b[0m\u001b[0;31m:\u001b[0m invalid syntax\n"
          ]
        }
      ]
    },
    {
      "cell_type": "code",
      "metadata": {
        "id": "2YyWSAqxEBoS",
        "outputId": "1de095e4-acc6-4bb8-9d42-a311559ed4d4",
        "colab": {
          "base_uri": "https://localhost:8080/"
        }
      },
      "source": [
        "p = ('1','2','3')\n",
        "q = list(p)\n",
        "type(q)"
      ],
      "execution_count": 4,
      "outputs": [
        {
          "output_type": "execute_result",
          "data": {
            "text/plain": [
              "list"
            ]
          },
          "metadata": {
            "tags": []
          },
          "execution_count": 4
        }
      ]
    },
    {
      "cell_type": "code",
      "metadata": {
        "id": "_CcmTFha7U7S",
        "outputId": "1648ca26-54ac-48f3-9873-00ee136e5abc",
        "colab": {
          "base_uri": "https://localhost:8080/"
        }
      },
      "source": [
        "l = ['1','2','3']\n",
        "r = tuple(l)\n",
        "type(r)"
      ],
      "execution_count": 5,
      "outputs": [
        {
          "output_type": "execute_result",
          "data": {
            "text/plain": [
              "tuple"
            ]
          },
          "metadata": {
            "tags": []
          },
          "execution_count": 5
        }
      ]
    },
    {
      "cell_type": "markdown",
      "metadata": {
        "id": "qVXdQppy7qjG"
      },
      "source": [
        "**연습 문제: 내일의 날짜 구하기**\n",
        "\n",
        "문제1\n",
        "\n",
        "사용자로부터 날짜를 나타내는 세 개의 숫자를 입력받습니다. 첫 번째 숫자는 연도를 \n",
        "\n",
        "나타내는 네 자리 숫자이고, 두 번째 숫자는 월을, 세 번째 숫자는 일을 나타냅니다.\n",
        "\n",
        "\n",
        "입력받은 날짜를 mm/dd/yyyy 형식으로 출력합니다. 월을 두 자리 숫자(01, 02, 03, ..\n",
        "., 12)로, 일을 두 자리 숫자(01, 02, 03, ..., 31)로, 연도를 네 자리 숫자로 \n",
        "\n",
        "나타냅니다.\n",
        "\n",
        "입력받은 날짜의 다음 날에 해당하는 날짜도 같은 형식으로 출력합니다. \n",
        "\n",
        "단, 윤년은 무시합니다(2월은 항상 28일까지 있다고 가정합니다)."
      ]
    },
    {
      "cell_type": "code",
      "metadata": {
        "id": "JkNFSXr-7-YS"
      },
      "source": [
        "def tomW(y, m, d):\n",
        "    td = d\n",
        "    tm = m\n",
        "    ty = y\n",
        "    if m == 1 or m == 3 or m == 5 or m == 7 or m == 8 or m == 10 or m == 12:\n",
        "        if d == 31:\n",
        "            m += 1\n",
        "            d = 1\n",
        "        elif d >= 32:\n",
        "            return '올바른 숫자를 입력해주세요'\n",
        "        else:\n",
        "            d += 1\n",
        "    elif m == 4 or m == 6 or m == 9 or m == 11:\n",
        "        if d == 30:\n",
        "            m += 1\n",
        "            d = 1\n",
        "        elif d >= 31:\n",
        "            return '올바른 숫자를 입력해주세요'\n",
        "        else:\n",
        "            d += 1\n",
        "    elif m == 2:\n",
        "        if d == 28:\n",
        "            m += 1\n",
        "            d = 1\n",
        "        elif d >= 29:\n",
        "            return '올바른 숫자를 입력해주세요'\n",
        "        else:\n",
        "            d += 1\n",
        "    return print(td,'/',tm,'/',ty,'\\n',d,'/',m,'/',y)\n",
        "            "
      ],
      "execution_count": 33,
      "outputs": []
    },
    {
      "cell_type": "code",
      "metadata": {
        "id": "QimNbEx3G_Xr",
        "outputId": "057f4384-bdcc-47ac-c4a0-2aa49eec4f9f",
        "colab": {
          "base_uri": "https://localhost:8080/"
        }
      },
      "source": [
        "tomW(2018, 10, 2)"
      ],
      "execution_count": 34,
      "outputs": [
        {
          "output_type": "stream",
          "text": [
            "2 / 10 / 2018 \n",
            " 3 / 10 / 2018\n"
          ],
          "name": "stdout"
        }
      ]
    },
    {
      "cell_type": "code",
      "metadata": {
        "id": "j9HIRAa3HYz-",
        "outputId": "e052c794-0419-4f70-e713-ae5616d39653",
        "colab": {
          "base_uri": "https://localhost:8080/"
        }
      },
      "source": [
        "tomW(2018, 11, 30)"
      ],
      "execution_count": 35,
      "outputs": [
        {
          "output_type": "stream",
          "text": [
            "30 / 11 / 2018 \n",
            " 1 / 12 / 2018\n"
          ],
          "name": "stdout"
        }
      ]
    },
    {
      "cell_type": "code",
      "metadata": {
        "id": "VUvNvadcJZaF",
        "outputId": "6761e77a-89f0-4d0f-bbc9-d37b7b111b9b",
        "colab": {
          "base_uri": "https://localhost:8080/"
        }
      },
      "source": [
        "tomW(2018, 12, 31)"
      ],
      "execution_count": 36,
      "outputs": [
        {
          "output_type": "stream",
          "text": [
            "31 / 12 / 2018 \n",
            " 1 / 13 / 2018\n"
          ],
          "name": "stdout"
        }
      ]
    },
    {
      "cell_type": "code",
      "metadata": {
        "id": "E5rUUSK8Jh5W"
      },
      "source": [
        "#내가 짜려던 코드는 이건데 뭔가 노가다가 너무 심해서 예제의 답을 봤음"
      ],
      "execution_count": 37,
      "outputs": []
    },
    {
      "cell_type": "code",
      "metadata": {
        "id": "se0HqUeYKJH2",
        "outputId": "49e49a25-5edc-4cb3-fa7b-1f6f7766a9f0",
        "colab": {
          "base_uri": "https://localhost:8080/"
        }
      },
      "source": [
        "def read_date():\n",
        "    year, month, day = tuple(map(int, input().split()))\n",
        "    return year, month, day\n",
        "\n",
        "def print_date(date):\n",
        "    year, month, day = date\n",
        "    print(\"%02d/%02d/%04d\" % (month, day, year))\n",
        "\n",
        "def advance_day(date):\n",
        "    year, month, day = date\n",
        "    \n",
        "    # end_of_month = (month == 1 and day == 31) or \\\n",
        "               # (month == 2 and day == 28) or \\\n",
        "               # (month == 3 and day == 31) or \\\n",
        "               # (month == 4 and day == 30) or \\\n",
        "               # (month == 5 and day == 31) or \\\n",
        "               # (month == 6 and day == 30) or \\\n",
        "               # (month == 7 and day == 31) or \\\n",
        "               # (month == 8 and day == 31) or \\\n",
        "               # (month == 9 and day == 30) or \\\n",
        "               # (month == 10 and day == 31) or \\\n",
        "               # (month == 11 and day == 30) or \\\n",
        "               # (month == 12 and day == 31)\n",
        "    \n",
        "    #end_of_month = (month in [1, 3, 5, 7, 8, 10, 12] and day == 31) or \\\n",
        "    #                     (month in [4, 6, 9, 11] and day == 30) or \\\n",
        "    #                     (month == 2 and day == 28)\n",
        "    \n",
        "    end_of_month = (month, day) in [(1, 31), (2, 28), (3, 31), (4, 30), (5,\n",
        "        31), (6, 30), (7, 31), (8, 31), (9, 30), (10, 31), (11, 30), (12, 31)]\n",
        "    \n",
        "    end_of_year = month == 12 and day == 31\n",
        "    \n",
        "    if end_of_month:\n",
        "        if end_of_year:\n",
        "            year += 1\n",
        "            month = 1\n",
        "            day = 1\n",
        "        else:\n",
        "            month += 1\n",
        "            day = 1\n",
        "    else:\n",
        "        day += 1\n",
        "    \n",
        "    return year, month, day\n",
        "    \n",
        "if __name__ == \"__main__\":\n",
        "    today = read_date()\n",
        "    print_date(today)\n",
        "    tomorrow = advance_day(today)\n",
        "    print_date(tomorrow)"
      ],
      "execution_count": 38,
      "outputs": [
        {
          "output_type": "stream",
          "text": [
            "2018 02 28\n",
            "02/28/2018\n",
            "03/01/2018\n"
          ],
          "name": "stdout"
        }
      ]
    },
    {
      "cell_type": "code",
      "metadata": {
        "id": "MHEa6P48KL2W"
      },
      "source": [
        "#너무 깔끔해서 눈물이 흘렀다.."
      ],
      "execution_count": 39,
      "outputs": []
    },
    {
      "cell_type": "markdown",
      "metadata": {
        "id": "v791mJB5Kbox"
      },
      "source": [
        "**딕셔너리(dict) 사전형**"
      ]
    },
    {
      "cell_type": "code",
      "metadata": {
        "id": "XpTVpSv9KTj_",
        "outputId": "ad5ac8ce-6a16-466e-d212-d79d1c69ea93",
        "colab": {
          "base_uri": "https://localhost:8080/",
          "height": 36
        }
      },
      "source": [
        "dic = {}               # dic이라는 이름으로 비어있는 딕셔너리를 만든다.\n",
        "dic['dictionary'] = '1. A reference book containing an ...'\n",
        "dic['python'] = 'Any of various nonvenomous snakes of the ...'\n",
        "dic['dictionary']      # dic아, 'dictionary'가 뭐니?"
      ],
      "execution_count": 42,
      "outputs": [
        {
          "output_type": "execute_result",
          "data": {
            "application/vnd.google.colaboratory.intrinsic+json": {
              "type": "string"
            },
            "text/plain": [
              "'1. A reference book containing an ...'"
            ]
          },
          "metadata": {
            "tags": []
          },
          "execution_count": 42
        }
      ]
    },
    {
      "cell_type": "code",
      "metadata": {
        "id": "3FVrH0D-KbPt",
        "outputId": "e2130afa-4cff-48f6-d62e-dc9bf060061b",
        "colab": {
          "base_uri": "https://localhost:8080/",
          "height": 36
        }
      },
      "source": [
        "smalldic = {'dictionary': 'reference', 'python': 'snake'}\n",
        "smalldic['python']"
      ],
      "execution_count": 43,
      "outputs": [
        {
          "output_type": "execute_result",
          "data": {
            "application/vnd.google.colaboratory.intrinsic+json": {
              "type": "string"
            },
            "text/plain": [
              "'snake'"
            ]
          },
          "metadata": {
            "tags": []
          },
          "execution_count": 43
        }
      ]
    },
    {
      "cell_type": "code",
      "metadata": {
        "id": "GGpimvkDK6gb",
        "outputId": "5ffeb692-3ec8-4bca-f5a1-67ce628449ae",
        "colab": {
          "base_uri": "https://localhost:8080/"
        }
      },
      "source": [
        "smalldic"
      ],
      "execution_count": 44,
      "outputs": [
        {
          "output_type": "execute_result",
          "data": {
            "text/plain": [
              "{'dictionary': 'reference', 'python': 'snake'}"
            ]
          },
          "metadata": {
            "tags": []
          },
          "execution_count": 44
        }
      ]
    },
    {
      "cell_type": "code",
      "metadata": {
        "id": "2ZKJl_HXK9Ch"
      },
      "source": [
        "#이와 같이 딕셔너리 자료형은 키(key)와 값(value)의 쌍으로 이루짐. "
      ],
      "execution_count": 45,
      "outputs": []
    },
    {
      "cell_type": "code",
      "metadata": {
        "id": "xjM90k7GLOq0",
        "outputId": "1021f5d6-0474-4652-deab-7077f7019741",
        "colab": {
          "base_uri": "https://localhost:8080/",
          "height": 218
        }
      },
      "source": [
        "del smalldic['dictionary']\n",
        "#삭제하는 방법"
      ],
      "execution_count": 47,
      "outputs": [
        {
          "output_type": "error",
          "ename": "KeyError",
          "evalue": "ignored",
          "traceback": [
            "\u001b[0;31m---------------------------------------------------------------------------\u001b[0m",
            "\u001b[0;31mKeyError\u001b[0m                                  Traceback (most recent call last)",
            "\u001b[0;32m<ipython-input-47-c96bd84ac3c9>\u001b[0m in \u001b[0;36m<module>\u001b[0;34m()\u001b[0m\n\u001b[0;32m----> 1\u001b[0;31m \u001b[0;32mdel\u001b[0m \u001b[0msmalldic\u001b[0m\u001b[0;34m[\u001b[0m\u001b[0;34m'dictionary'\u001b[0m\u001b[0;34m]\u001b[0m\u001b[0;34m\u001b[0m\u001b[0;34m\u001b[0m\u001b[0m\n\u001b[0m\u001b[1;32m      2\u001b[0m \u001b[0;31m#삭제하는 방법\u001b[0m\u001b[0;34m\u001b[0m\u001b[0;34m\u001b[0m\u001b[0;34m\u001b[0m\u001b[0m\n\u001b[1;32m      3\u001b[0m \u001b[0msamlldic\u001b[0m\u001b[0;34m\u001b[0m\u001b[0;34m\u001b[0m\u001b[0m\n",
            "\u001b[0;31mKeyError\u001b[0m: 'dictionary'"
          ]
        }
      ]
    },
    {
      "cell_type": "code",
      "metadata": {
        "id": "0aEWMTPPNlxl",
        "outputId": "998968d4-d0a9-45fe-b804-4fb1fa20b9e1",
        "colab": {
          "base_uri": "https://localhost:8080/"
        }
      },
      "source": [
        "smalldic"
      ],
      "execution_count": 49,
      "outputs": [
        {
          "output_type": "execute_result",
          "data": {
            "text/plain": [
              "{'python': 'snake'}"
            ]
          },
          "metadata": {
            "tags": []
          },
          "execution_count": 49
        }
      ]
    },
    {
      "cell_type": "markdown",
      "metadata": {
        "id": "zySzEWflOL0T"
      },
      "source": [
        "**연습 문제: 숫자 읽기(0~9)**\n",
        "\n",
        "매개변수로 입력받은 정수에 해당하는 한글 문자열을 반환하는 함수 korean_number()\n",
        "\n",
        "를 if 문을 사용하지 말고 작성하세요. 단, 사용자는 0 이상 9 이하의 정수 중 \n",
        "\n",
        "하나를 입력한다고 가정합니다.\n",
        "\n"
      ]
    },
    {
      "cell_type": "code",
      "metadata": {
        "id": "sN6PM6zwNuui"
      },
      "source": [
        "def red"
      ],
      "execution_count": null,
      "outputs": []
    }
  ]
}