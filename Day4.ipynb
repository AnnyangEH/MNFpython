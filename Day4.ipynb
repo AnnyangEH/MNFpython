{
  "nbformat": 4,
  "nbformat_minor": 0,
  "metadata": {
    "colab": {
      "name": "Day4",
      "provenance": [],
      "authorship_tag": "ABX9TyOIt1zM9Uclow+u/XNUg/jb",
      "include_colab_link": true
    },
    "kernelspec": {
      "name": "python3",
      "display_name": "Python 3"
    },
    "language_info": {
      "name": "python"
    }
  },
  "cells": [
    {
      "cell_type": "markdown",
      "metadata": {
        "id": "view-in-github",
        "colab_type": "text"
      },
      "source": [
        "<a href=\"https://colab.research.google.com/github/AnnyangEH/MNFpython/blob/main/Day4.ipynb\" target=\"_parent\"><img src=\"https://colab.research.google.com/assets/colab-badge.svg\" alt=\"Open In Colab\"/></a>"
      ]
    },
    {
      "cell_type": "code",
      "metadata": {
        "id": "fDeLRNzGkJbo"
      },
      "source": [
        "\"\"\"\n",
        "7일 동안 파이썬 마스터하기! 도전 4일차(21.05.23)\n",
        "'왕초보를 위한 Python'의 wikidocs 를 통해서 공부합니당\n",
        "첫 단계인 만큼 추후 목표는 머신러닝을 파이썬을 통해 공부할 것이고\n",
        "7일 동안 파이썬과 익숙해지면 나만의 게임도 만들거임\n",
        "\"\"\"\n",
        "#4일차는 데이터타입을 배우는 날임"
      ],
      "execution_count": null,
      "outputs": []
    },
    {
      "cell_type": "code",
      "metadata": {
        "id": "qTSr5NRxkxl3"
      },
      "source": [
        "'''\n",
        "컴퓨터는 모든 숫자, 문자를 모두 이진수로 확인하기 때문에\n",
        "01000001가 숫자 65인지, 알파벳 A인지 판별할 수 없어서\n",
        "사용자이던 컴퓨터이던 자료형을 통해 구분지어 주는 것임\n",
        "'''"
      ],
      "execution_count": null,
      "outputs": []
    },
    {
      "cell_type": "code",
      "metadata": {
        "id": "bI1JAbMikmwp"
      },
      "source": [
        "#파이썬의 자료형은 크게 수치형(numbers), 순서형(sequence), 매핑형(mapping) 등으로 나눌 수 있음"
      ],
      "execution_count": 5,
      "outputs": []
    },
    {
      "cell_type": "code",
      "metadata": {
        "colab": {
          "base_uri": "https://localhost:8080/"
        },
        "id": "6L2q6ve1ki3O",
        "outputId": "984c9cf7-2de7-4c4e-e659-1b191f87ae2b"
      },
      "source": [
        "type(5)"
      ],
      "execution_count": 2,
      "outputs": [
        {
          "output_type": "execute_result",
          "data": {
            "text/plain": [
              "int"
            ]
          },
          "metadata": {
            "tags": []
          },
          "execution_count": 2
        }
      ]
    },
    {
      "cell_type": "code",
      "metadata": {
        "colab": {
          "base_uri": "https://localhost:8080/"
        },
        "id": "197H88lfklXi",
        "outputId": "595db227-34e1-477c-fa26-32d24a8ac813"
      },
      "source": [
        "type('안녕')"
      ],
      "execution_count": 3,
      "outputs": [
        {
          "output_type": "execute_result",
          "data": {
            "text/plain": [
              "str"
            ]
          },
          "metadata": {
            "tags": []
          },
          "execution_count": 3
        }
      ]
    },
    {
      "cell_type": "code",
      "metadata": {
        "id": "3qYx9YCelLnU"
      },
      "source": [
        "#수치형 수치형에는 정수(int), 부동소수점수(float), 복소수(complex)가 있음"
      ],
      "execution_count": null,
      "outputs": []
    },
    {
      "cell_type": "code",
      "metadata": {
        "colab": {
          "base_uri": "https://localhost:8080/"
        },
        "id": "0iZSzctElYjr",
        "outputId": "987e49da-ddf1-473e-9506-bf5c991666f1"
      },
      "source": [
        "type(100000)    #정수형"
      ],
      "execution_count": 7,
      "outputs": [
        {
          "output_type": "execute_result",
          "data": {
            "text/plain": [
              "int"
            ]
          },
          "metadata": {
            "tags": []
          },
          "execution_count": 7
        }
      ]
    },
    {
      "cell_type": "code",
      "metadata": {
        "colab": {
          "base_uri": "https://localhost:8080/"
        },
        "id": "P_VUFWLHlZsv",
        "outputId": "b8a5ed40-5d33-4d11-f0f2-9490def5677e"
      },
      "source": [
        "type(2.2)   #부동소수점수"
      ],
      "execution_count": 8,
      "outputs": [
        {
          "output_type": "execute_result",
          "data": {
            "text/plain": [
              "float"
            ]
          },
          "metadata": {
            "tags": []
          },
          "execution_count": 8
        }
      ]
    },
    {
      "cell_type": "code",
      "metadata": {
        "colab": {
          "base_uri": "https://localhost:8080/"
        },
        "id": "gcJuK6ODlida",
        "outputId": "78ee139e-1302-464a-8387-87d48b662ac3"
      },
      "source": [
        "type(3+4j)  #망할 복소수"
      ],
      "execution_count": 9,
      "outputs": [
        {
          "output_type": "execute_result",
          "data": {
            "text/plain": [
              "complex"
            ]
          },
          "metadata": {
            "tags": []
          },
          "execution_count": 9
        }
      ]
    },
    {
      "cell_type": "code",
      "metadata": {
        "id": "d4gXXTW0lk18"
      },
      "source": [
        "#순서형 문자열(string), 리스트(list), 튜플(tuple), 사용자 정의 클래스가 순서형에 속함"
      ],
      "execution_count": 10,
      "outputs": []
    },
    {
      "cell_type": "code",
      "metadata": {
        "colab": {
          "base_uri": "https://localhost:8080/"
        },
        "id": "MRFiIlPDlt0v",
        "outputId": "b7ae815e-db57-4d6a-9906-3719dfce7df1"
      },
      "source": [
        "type(\"today i don't feel like doing anything\")"
      ],
      "execution_count": 11,
      "outputs": [
        {
          "output_type": "execute_result",
          "data": {
            "text/plain": [
              "str"
            ]
          },
          "metadata": {
            "tags": []
          },
          "execution_count": 11
        }
      ]
    },
    {
      "cell_type": "code",
      "metadata": {
        "colab": {
          "base_uri": "https://localhost:8080/"
        },
        "id": "hKzGDojrmA_I",
        "outputId": "3d644cee-bb21-49d3-c4e9-c2df990a7bad"
      },
      "source": [
        "type(['Mom','Pop','Bro','Me'])"
      ],
      "execution_count": 12,
      "outputs": [
        {
          "output_type": "execute_result",
          "data": {
            "text/plain": [
              "list"
            ]
          },
          "metadata": {
            "tags": []
          },
          "execution_count": 12
        }
      ]
    },
    {
      "cell_type": "code",
      "metadata": {
        "colab": {
          "base_uri": "https://localhost:8080/"
        },
        "id": "o8jAMdHRmGPy",
        "outputId": "7ac02692-b9bc-41ac-c97d-e5531cf3c58f"
      },
      "source": [
        "type(('love','is','always','painful'))"
      ],
      "execution_count": 13,
      "outputs": [
        {
          "output_type": "execute_result",
          "data": {
            "text/plain": [
              "tuple"
            ]
          },
          "metadata": {
            "tags": []
          },
          "execution_count": 13
        }
      ]
    },
    {
      "cell_type": "code",
      "metadata": {
        "id": "m9H3sJlbmXSd"
      },
      "source": [
        "#매핑형 딕셔너리(dict)는 키(key)와 값(value)의 짝으로 이룸, 이런 것을 매핑형이라함"
      ],
      "execution_count": 14,
      "outputs": []
    },
    {
      "cell_type": "code",
      "metadata": {
        "colab": {
          "base_uri": "https://localhost:8080/"
        },
        "id": "2GwbVAWImqbQ",
        "outputId": "71cc71d8-96df-4873-eb8b-90559401ea0c"
      },
      "source": [
        "type({'one' : 1, 'two' : 2, 'three' : 3})"
      ],
      "execution_count": 15,
      "outputs": [
        {
          "output_type": "execute_result",
          "data": {
            "text/plain": [
              "dict"
            ]
          },
          "metadata": {
            "tags": []
          },
          "execution_count": 15
        }
      ]
    },
    {
      "cell_type": "code",
      "metadata": {
        "id": "XaU2wWHtm4FZ"
      },
      "source": [
        "#불 참(True),거짓(False)를 표현하는 불(bool)도 있음, 참고로 bool은 boolean의 줄임말임"
      ],
      "execution_count": 16,
      "outputs": []
    },
    {
      "cell_type": "code",
      "metadata": {
        "colab": {
          "base_uri": "https://localhost:8080/"
        },
        "id": "V4yDxEJVnGDs",
        "outputId": "c059831e-1717-4340-f659-1302fd4bf29c"
      },
      "source": [
        "type(False)"
      ],
      "execution_count": 17,
      "outputs": [
        {
          "output_type": "execute_result",
          "data": {
            "text/plain": [
              "bool"
            ]
          },
          "metadata": {
            "tags": []
          },
          "execution_count": 17
        }
      ]
    },
    {
      "cell_type": "code",
      "metadata": {
        "id": "a1knsbEOnH1f"
      },
      "source": [
        "#세트 집합을 의미하는 세트(set)"
      ],
      "execution_count": 18,
      "outputs": []
    },
    {
      "cell_type": "code",
      "metadata": {
        "colab": {
          "base_uri": "https://localhost:8080/"
        },
        "id": "qQ4vzGyvnLl7",
        "outputId": "ce63ca7d-e69d-4997-fe2f-3f4d8241a7ae"
      },
      "source": [
        "number = {'하나', '둘', '삼'}\n",
        "type(number)"
      ],
      "execution_count": 20,
      "outputs": [
        {
          "output_type": "execute_result",
          "data": {
            "text/plain": [
              "set"
            ]
          },
          "metadata": {
            "tags": []
          },
          "execution_count": 20
        }
      ]
    },
    {
      "cell_type": "code",
      "metadata": {
        "colab": {
          "base_uri": "https://localhost:8080/",
          "height": 35
        },
        "id": "6PsEQGKknV_C",
        "outputId": "f5ad249b-e0dc-4c5c-c969-1060da90aa96"
      },
      "source": [
        "'Python'[::-1]  #문자열 슬라이싱(slicing)을 이용해, 문자열에 속한 문자들을 거꾸로 배열하고 얻을 수 있음"
      ],
      "execution_count": 22,
      "outputs": [
        {
          "output_type": "execute_result",
          "data": {
            "application/vnd.google.colaboratory.intrinsic+json": {
              "type": "string"
            },
            "text/plain": [
              "'nohtyP'"
            ]
          },
          "metadata": {
            "tags": []
          },
          "execution_count": 22
        }
      ]
    },
    {
      "cell_type": "code",
      "metadata": {
        "colab": {
          "base_uri": "https://localhost:8080/",
          "height": 35
        },
        "id": "-FitC7RWoD3U",
        "outputId": "973b5aa3-dd1f-444f-dc7d-f792c18558bb"
      },
      "source": [
        "'Python'[:6]"
      ],
      "execution_count": 30,
      "outputs": [
        {
          "output_type": "execute_result",
          "data": {
            "application/vnd.google.colaboratory.intrinsic+json": {
              "type": "string"
            },
            "text/plain": [
              "'Python'"
            ]
          },
          "metadata": {
            "tags": []
          },
          "execution_count": 30
        }
      ]
    },
    {
      "cell_type": "markdown",
      "metadata": {
        "id": "cFSDrZV9onjK"
      },
      "source": [
        "**문자열 슬라이싱**\n",
        "\n",
        "문자열 슬라이싱을 이용해 문자열의 일부를 복사할 수 있습니다.\n",
        ">>> p = 'Python'\n",
        ">>> p[0:2]\n",
        "'Py'\n",
        "\n",
        "아래처럼 인덱스 0을 생략할 수도 있습니다.\n",
        ">>> p[:2]\n",
        "'Py'\n",
        "\n",
        "문자열의 뒷부분을 복사할 수도 있습니다.\n",
        ">>> p[-2:]\n",
        "'on'\n",
        "\n",
        "다음과 같은 방법으로 문자열 전부를 복사할 수도 있습니다.\n",
        ">>> p[:]\n",
        "'Python'\n",
        "\n",
        "역순으로 복사하는 것도 가능합니다.\n",
        ">>> p[::-1]\n",
        "'nohtyP'\n",
        "\n",
        "문자열의 lower() 메서드를 이용해 소문자만으로 이루어진 문자열을 얻을 수 있습니다.\n",
        ">>> 'Python'.lower()\n",
        "'python'\n",
        "\n",
        "그리고 replace() 메서드를 이용해 문자열 일부를 다른 문자열로 바꾼 문자열을 얻을 수 있습니다.\n",
        ">>> 'Python'.replace('P', 'J')\n",
        "'Jython'"
      ]
    },
    {
      "cell_type": "markdown",
      "metadata": {
        "id": "gg0o0dT_pJKz"
      },
      "source": [
        "**문제**\n",
        "\n",
        "거꾸로 배열해도 같은 단어 혹은 문장이 되는 것을 ‘회문(palindrome)’이라고 합니다.\n",
        "\n",
        "Anna\n",
        "Civic\n",
        "Kayak\n",
        "Level\n"
      ]
    },
    {
      "cell_type": "markdown",
      "metadata": {
        "id": "AEbfkdgKpVX5"
      },
      "source": [
        "**문제 1**\n",
        "\n",
        "주어진 단어가 회문인지 판별하는 함수 palindrome()을 작성하세요. 단, 문자열 입력은 모두 소문자로 이뤄지며 공백을 포함하지 않는다고 가정합니다.\n",
        "\n",
        ">>> palindrome('anna')\n",
        "\n",
        "True\n",
        "\n",
        ">>> palindrome('banana')\n",
        "\n",
        "False"
      ]
    },
    {
      "cell_type": "code",
      "metadata": {
        "id": "vxENlp9rpnYi"
      },
      "source": [
        "def pailndrome(s):\n",
        "    if str(s) == str(s[::-1]):\n",
        "        return True\n",
        "    else:\n",
        "        return False"
      ],
      "execution_count": 40,
      "outputs": []
    },
    {
      "cell_type": "code",
      "metadata": {
        "colab": {
          "base_uri": "https://localhost:8080/"
        },
        "id": "ULHnTh3rpkWG",
        "outputId": "03fdb699-c5fc-4b77-930e-de68c77e3318"
      },
      "source": [
        "print(pailndrome('sos'))\n",
        "print(pailndrome('island'))\n",
        "print(pailndrome('anna'))"
      ],
      "execution_count": 41,
      "outputs": [
        {
          "output_type": "stream",
          "text": [
            "True\n",
            "False\n",
            "True\n"
          ],
          "name": "stdout"
        }
      ]
    },
    {
      "cell_type": "markdown",
      "metadata": {
        "id": "J2MW9XTMphaP"
      },
      "source": [
        "**문제 2**\n",
        "\n",
        "대문자와 소문자가 섞여 있더라도 회문으로 판정하도록 함수를 개선하세요.\n",
        "\n",
        ">>> palindrome('Anna')\n",
        "\n",
        "True"
      ]
    },
    {
      "cell_type": "code",
      "metadata": {
        "id": "PzCIyDBPp71J"
      },
      "source": [
        "def cappailndrome(s):\n",
        "    if str(s.lower()) == str(s.lower()[::-1]):\n",
        "        return True\n",
        "    else:\n",
        "        return False"
      ],
      "execution_count": 44,
      "outputs": []
    },
    {
      "cell_type": "code",
      "metadata": {
        "colab": {
          "base_uri": "https://localhost:8080/"
        },
        "id": "0-gIvsBIrNA-",
        "outputId": "9e4edbbc-3bc7-4e13-8a95-06f34152c2c6"
      },
      "source": [
        "print(cappailndrome('Sos'))\n",
        "print(cappailndrome('Island'))\n",
        "print(cappailndrome('Anna'))"
      ],
      "execution_count": 46,
      "outputs": [
        {
          "output_type": "stream",
          "text": [
            "True\n",
            "False\n",
            "True\n"
          ],
          "name": "stdout"
        }
      ]
    },
    {
      "cell_type": "markdown",
      "metadata": {
        "id": "v7Je42H2ryzv"
      },
      "source": [
        "**문제 3**\n",
        "\n",
        "공백이 섞여 있더라도 회문으로 판정하도록 함수를 개선하세요.\n",
        "\n",
        ">>> palindrome('My gym')\n",
        "\n",
        "True"
      ]
    },
    {
      "cell_type": "code",
      "metadata": {
        "id": "7dhwCFNXrPyt"
      },
      "source": [
        "def gopalindrome(s):\n",
        "    s = str(s.replace(' ',''))\n",
        "    if str(s.lower()) == str(s.lower()[::-1]):\n",
        "        return True\n",
        "    else:\n",
        "        return False"
      ],
      "execution_count": 49,
      "outputs": []
    },
    {
      "cell_type": "code",
      "metadata": {
        "colab": {
          "base_uri": "https://localhost:8080/"
        },
        "id": "iuusFXebs6dt",
        "outputId": "3606bcdc-b871-49b1-ab56-8dc0bcb8dcb6"
      },
      "source": [
        "print(gopalindrome('S O s'))\n",
        "print(gopalindrome('Annn'))\n",
        "print(gopalindrome('Island'))\n",
        "print(gopalindrome('An na'))"
      ],
      "execution_count": 52,
      "outputs": [
        {
          "output_type": "stream",
          "text": [
            "True\n",
            "False\n",
            "False\n",
            "True\n"
          ],
          "name": "stdout"
        }
      ]
    },
    {
      "cell_type": "code",
      "metadata": {
        "id": "8FQN4ZwRtIi9"
      },
      "source": [
        "#21.05.23(SUN) 상하이 vs 퓨전전 옵치리그 1시간 정도 보고 아마존 웹서비스 프랙티션 영상 조금 챙겨보구,, 나머지 하느라 조금밖에 못했음! 낼 개인정비 시간에 더 해야쥐"
      ],
      "execution_count": null,
      "outputs": []
    }
  ]
}