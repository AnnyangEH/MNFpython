{
  "nbformat": 4,
  "nbformat_minor": 0,
  "metadata": {
    "colab": {
      "name": "Day4",
      "provenance": [],
      "authorship_tag": "ABX9TyOKulkk8Ki6ZHhdaXx11XjL",
      "include_colab_link": true
    },
    "kernelspec": {
      "name": "python3",
      "display_name": "Python 3"
    },
    "language_info": {
      "name": "python"
    }
  },
  "cells": [
    {
      "cell_type": "markdown",
      "metadata": {
        "id": "view-in-github",
        "colab_type": "text"
      },
      "source": [
        "<a href=\"https://colab.research.google.com/github/AnnyangEH/MNFpython/blob/main/Day4.ipynb\" target=\"_parent\"><img src=\"https://colab.research.google.com/assets/colab-badge.svg\" alt=\"Open In Colab\"/></a>"
      ]
    },
    {
      "cell_type": "code",
      "metadata": {
        "id": "fDeLRNzGkJbo"
      },
      "source": [
        "\"\"\"\n",
        "7일 동안 파이썬 마스터하기! 도전 4일차(21.05.23)\n",
        "'왕초보를 위한 Python'의 wikidocs 를 통해서 공부합니당\n",
        "첫 단계인 만큼 추후 목표는 머신러닝을 파이썬을 통해 공부할 것이고\n",
        "7일 동안 파이썬과 익숙해지면 나만의 게임도 만들거임\n",
        "\"\"\"\n",
        "#4일차는 데이터타입을 배우는 날임"
      ],
      "execution_count": null,
      "outputs": []
    },
    {
      "cell_type": "code",
      "metadata": {
        "id": "qTSr5NRxkxl3"
      },
      "source": [
        "'''\n",
        "컴퓨터는 모든 숫자, 문자를 모두 이진수로 확인하기 때문에\n",
        "01000001가 숫자 65인지, 알파벳 A인지 판별할 수 없어서\n",
        "사용자이던 컴퓨터이던 자료형을 통해 구분지어 주는 것임\n",
        "'''"
      ],
      "execution_count": null,
      "outputs": []
    },
    {
      "cell_type": "code",
      "metadata": {
        "id": "bI1JAbMikmwp"
      },
      "source": [
        "#파이썬의 자료형은 크게 수치형(numbers), 순서형(sequence), 매핑형(mapping) 등으로 나눌 수 있음"
      ],
      "execution_count": null,
      "outputs": []
    },
    {
      "cell_type": "code",
      "metadata": {
        "colab": {
          "base_uri": "https://localhost:8080/"
        },
        "id": "6L2q6ve1ki3O",
        "outputId": "984c9cf7-2de7-4c4e-e659-1b191f87ae2b"
      },
      "source": [
        "type(5)"
      ],
      "execution_count": null,
      "outputs": [
        {
          "output_type": "execute_result",
          "data": {
            "text/plain": [
              "int"
            ]
          },
          "metadata": {
            "tags": []
          },
          "execution_count": 2
        }
      ]
    },
    {
      "cell_type": "code",
      "metadata": {
        "colab": {
          "base_uri": "https://localhost:8080/"
        },
        "id": "197H88lfklXi",
        "outputId": "595db227-34e1-477c-fa26-32d24a8ac813"
      },
      "source": [
        "type('안녕')"
      ],
      "execution_count": null,
      "outputs": [
        {
          "output_type": "execute_result",
          "data": {
            "text/plain": [
              "str"
            ]
          },
          "metadata": {
            "tags": []
          },
          "execution_count": 3
        }
      ]
    },
    {
      "cell_type": "code",
      "metadata": {
        "id": "3qYx9YCelLnU"
      },
      "source": [
        "#수치형 수치형에는 정수(int), 부동소수점수(float), 복소수(complex)가 있음"
      ],
      "execution_count": null,
      "outputs": []
    },
    {
      "cell_type": "code",
      "metadata": {
        "colab": {
          "base_uri": "https://localhost:8080/"
        },
        "id": "0iZSzctElYjr",
        "outputId": "987e49da-ddf1-473e-9506-bf5c991666f1"
      },
      "source": [
        "type(100000)    #정수형"
      ],
      "execution_count": null,
      "outputs": [
        {
          "output_type": "execute_result",
          "data": {
            "text/plain": [
              "int"
            ]
          },
          "metadata": {
            "tags": []
          },
          "execution_count": 7
        }
      ]
    },
    {
      "cell_type": "code",
      "metadata": {
        "colab": {
          "base_uri": "https://localhost:8080/"
        },
        "id": "P_VUFWLHlZsv",
        "outputId": "b8a5ed40-5d33-4d11-f0f2-9490def5677e"
      },
      "source": [
        "type(2.2)   #부동소수점수"
      ],
      "execution_count": null,
      "outputs": [
        {
          "output_type": "execute_result",
          "data": {
            "text/plain": [
              "float"
            ]
          },
          "metadata": {
            "tags": []
          },
          "execution_count": 8
        }
      ]
    },
    {
      "cell_type": "code",
      "metadata": {
        "colab": {
          "base_uri": "https://localhost:8080/"
        },
        "id": "gcJuK6ODlida",
        "outputId": "78ee139e-1302-464a-8387-87d48b662ac3"
      },
      "source": [
        "type(3+4j)  #망할 복소수"
      ],
      "execution_count": null,
      "outputs": [
        {
          "output_type": "execute_result",
          "data": {
            "text/plain": [
              "complex"
            ]
          },
          "metadata": {
            "tags": []
          },
          "execution_count": 9
        }
      ]
    },
    {
      "cell_type": "code",
      "metadata": {
        "id": "d4gXXTW0lk18"
      },
      "source": [
        "#순서형 문자열(string), 리스트(list), 튜플(tuple), 사용자 정의 클래스가 순서형에 속함"
      ],
      "execution_count": null,
      "outputs": []
    },
    {
      "cell_type": "code",
      "metadata": {
        "colab": {
          "base_uri": "https://localhost:8080/"
        },
        "id": "MRFiIlPDlt0v",
        "outputId": "b7ae815e-db57-4d6a-9906-3719dfce7df1"
      },
      "source": [
        "type(\"today i don't feel like doing anything\")"
      ],
      "execution_count": null,
      "outputs": [
        {
          "output_type": "execute_result",
          "data": {
            "text/plain": [
              "str"
            ]
          },
          "metadata": {
            "tags": []
          },
          "execution_count": 11
        }
      ]
    },
    {
      "cell_type": "code",
      "metadata": {
        "colab": {
          "base_uri": "https://localhost:8080/"
        },
        "id": "hKzGDojrmA_I",
        "outputId": "3d644cee-bb21-49d3-c4e9-c2df990a7bad"
      },
      "source": [
        "type(['Mom','Pop','Bro','Me'])"
      ],
      "execution_count": null,
      "outputs": [
        {
          "output_type": "execute_result",
          "data": {
            "text/plain": [
              "list"
            ]
          },
          "metadata": {
            "tags": []
          },
          "execution_count": 12
        }
      ]
    },
    {
      "cell_type": "code",
      "metadata": {
        "colab": {
          "base_uri": "https://localhost:8080/"
        },
        "id": "o8jAMdHRmGPy",
        "outputId": "7ac02692-b9bc-41ac-c97d-e5531cf3c58f"
      },
      "source": [
        "type(('love','is','always','painful'))"
      ],
      "execution_count": null,
      "outputs": [
        {
          "output_type": "execute_result",
          "data": {
            "text/plain": [
              "tuple"
            ]
          },
          "metadata": {
            "tags": []
          },
          "execution_count": 13
        }
      ]
    },
    {
      "cell_type": "code",
      "metadata": {
        "id": "m9H3sJlbmXSd"
      },
      "source": [
        "#매핑형 딕셔너리(dict)는 키(key)와 값(value)의 짝으로 이룸, 이런 것을 매핑형이라함"
      ],
      "execution_count": null,
      "outputs": []
    },
    {
      "cell_type": "code",
      "metadata": {
        "colab": {
          "base_uri": "https://localhost:8080/"
        },
        "id": "2GwbVAWImqbQ",
        "outputId": "71cc71d8-96df-4873-eb8b-90559401ea0c"
      },
      "source": [
        "type({'one' : 1, 'two' : 2, 'three' : 3})"
      ],
      "execution_count": null,
      "outputs": [
        {
          "output_type": "execute_result",
          "data": {
            "text/plain": [
              "dict"
            ]
          },
          "metadata": {
            "tags": []
          },
          "execution_count": 15
        }
      ]
    },
    {
      "cell_type": "code",
      "metadata": {
        "id": "XaU2wWHtm4FZ"
      },
      "source": [
        "#불 참(True),거짓(False)를 표현하는 불(bool)도 있음, 참고로 bool은 boolean의 줄임말임"
      ],
      "execution_count": null,
      "outputs": []
    },
    {
      "cell_type": "code",
      "metadata": {
        "colab": {
          "base_uri": "https://localhost:8080/"
        },
        "id": "V4yDxEJVnGDs",
        "outputId": "c059831e-1717-4340-f659-1302fd4bf29c"
      },
      "source": [
        "type(False)"
      ],
      "execution_count": null,
      "outputs": [
        {
          "output_type": "execute_result",
          "data": {
            "text/plain": [
              "bool"
            ]
          },
          "metadata": {
            "tags": []
          },
          "execution_count": 17
        }
      ]
    },
    {
      "cell_type": "code",
      "metadata": {
        "id": "a1knsbEOnH1f"
      },
      "source": [
        "#세트 집합을 의미하는 세트(set)"
      ],
      "execution_count": null,
      "outputs": []
    },
    {
      "cell_type": "code",
      "metadata": {
        "colab": {
          "base_uri": "https://localhost:8080/"
        },
        "id": "qQ4vzGyvnLl7",
        "outputId": "ce63ca7d-e69d-4997-fe2f-3f4d8241a7ae"
      },
      "source": [
        "number = {'하나', '둘', '삼'}\n",
        "type(number)"
      ],
      "execution_count": null,
      "outputs": [
        {
          "output_type": "execute_result",
          "data": {
            "text/plain": [
              "set"
            ]
          },
          "metadata": {
            "tags": []
          },
          "execution_count": 20
        }
      ]
    },
    {
      "cell_type": "code",
      "metadata": {
        "colab": {
          "base_uri": "https://localhost:8080/",
          "height": 35
        },
        "id": "6PsEQGKknV_C",
        "outputId": "f5ad249b-e0dc-4c5c-c969-1060da90aa96"
      },
      "source": [
        "'Python'[::-1]  #문자열 슬라이싱(slicing)을 이용해, 문자열에 속한 문자들을 거꾸로 배열하고 얻을 수 있음"
      ],
      "execution_count": null,
      "outputs": [
        {
          "output_type": "execute_result",
          "data": {
            "application/vnd.google.colaboratory.intrinsic+json": {
              "type": "string"
            },
            "text/plain": [
              "'nohtyP'"
            ]
          },
          "metadata": {
            "tags": []
          },
          "execution_count": 22
        }
      ]
    },
    {
      "cell_type": "code",
      "metadata": {
        "colab": {
          "base_uri": "https://localhost:8080/",
          "height": 35
        },
        "id": "-FitC7RWoD3U",
        "outputId": "973b5aa3-dd1f-444f-dc7d-f792c18558bb"
      },
      "source": [
        "'Python'[:6]"
      ],
      "execution_count": null,
      "outputs": [
        {
          "output_type": "execute_result",
          "data": {
            "application/vnd.google.colaboratory.intrinsic+json": {
              "type": "string"
            },
            "text/plain": [
              "'Python'"
            ]
          },
          "metadata": {
            "tags": []
          },
          "execution_count": 30
        }
      ]
    },
    {
      "cell_type": "markdown",
      "metadata": {
        "id": "cFSDrZV9onjK"
      },
      "source": [
        "**문자열 슬라이싱**\n",
        "\n",
        "문자열 슬라이싱을 이용해 문자열의 일부를 복사할 수 있습니다.\n",
        ">>> p = 'Python'\n",
        ">>> p[0:2]\n",
        "'Py'\n",
        "\n",
        "아래처럼 인덱스 0을 생략할 수도 있습니다.\n",
        ">>> p[:2]\n",
        "'Py'\n",
        "\n",
        "문자열의 뒷부분을 복사할 수도 있습니다.\n",
        ">>> p[-2:]\n",
        "'on'\n",
        "\n",
        "다음과 같은 방법으로 문자열 전부를 복사할 수도 있습니다.\n",
        ">>> p[:]\n",
        "'Python'\n",
        "\n",
        "역순으로 복사하는 것도 가능합니다.\n",
        ">>> p[::-1]\n",
        "'nohtyP'\n",
        "\n",
        "문자열의 lower() 메서드를 이용해 소문자만으로 이루어진 문자열을 얻을 수 있습니다.\n",
        ">>> 'Python'.lower()\n",
        "'python'\n",
        "\n",
        "그리고 replace() 메서드를 이용해 문자열 일부를 다른 문자열로 바꾼 문자열을 얻을 수 있습니다.\n",
        ">>> 'Python'.replace('P', 'J')\n",
        "'Jython'"
      ]
    },
    {
      "cell_type": "markdown",
      "metadata": {
        "id": "gg0o0dT_pJKz"
      },
      "source": [
        "**문제**\n",
        "\n",
        "거꾸로 배열해도 같은 단어 혹은 문장이 되는 것을 ‘회문(palindrome)’이라고 합니다.\n",
        "\n",
        "Anna\n",
        "Civic\n",
        "Kayak\n",
        "Level\n"
      ]
    },
    {
      "cell_type": "markdown",
      "metadata": {
        "id": "AEbfkdgKpVX5"
      },
      "source": [
        "**문제 1**\n",
        "\n",
        "주어진 단어가 회문인지 판별하는 함수 palindrome()을 작성하세요. 단, 문자열 입력은 모두 소문자로 이뤄지며 공백을 포함하지 않는다고 가정합니다.\n",
        "\n",
        ">>> palindrome('anna')\n",
        "\n",
        "True\n",
        "\n",
        ">>> palindrome('banana')\n",
        "\n",
        "False"
      ]
    },
    {
      "cell_type": "code",
      "metadata": {
        "id": "vxENlp9rpnYi"
      },
      "source": [
        "def pailndrome(s):\n",
        "    if str(s) == str(s[::-1]):\n",
        "        return True\n",
        "    else:\n",
        "        return False"
      ],
      "execution_count": null,
      "outputs": []
    },
    {
      "cell_type": "code",
      "metadata": {
        "colab": {
          "base_uri": "https://localhost:8080/"
        },
        "id": "ULHnTh3rpkWG",
        "outputId": "03fdb699-c5fc-4b77-930e-de68c77e3318"
      },
      "source": [
        "print(pailndrome('sos'))\n",
        "print(pailndrome('island'))\n",
        "print(pailndrome('anna'))"
      ],
      "execution_count": null,
      "outputs": [
        {
          "output_type": "stream",
          "text": [
            "True\n",
            "False\n",
            "True\n"
          ],
          "name": "stdout"
        }
      ]
    },
    {
      "cell_type": "markdown",
      "metadata": {
        "id": "J2MW9XTMphaP"
      },
      "source": [
        "**문제 2**\n",
        "\n",
        "대문자와 소문자가 섞여 있더라도 회문으로 판정하도록 함수를 개선하세요.\n",
        "\n",
        ">>> palindrome('Anna')\n",
        "\n",
        "True"
      ]
    },
    {
      "cell_type": "code",
      "metadata": {
        "id": "PzCIyDBPp71J"
      },
      "source": [
        "def cappailndrome(s):\n",
        "    if str(s.lower()) == str(s.lower()[::-1]):\n",
        "        return True\n",
        "    else:\n",
        "        return False"
      ],
      "execution_count": null,
      "outputs": []
    },
    {
      "cell_type": "code",
      "metadata": {
        "colab": {
          "base_uri": "https://localhost:8080/"
        },
        "id": "0-gIvsBIrNA-",
        "outputId": "9e4edbbc-3bc7-4e13-8a95-06f34152c2c6"
      },
      "source": [
        "print(cappailndrome('Sos'))\n",
        "print(cappailndrome('Island'))\n",
        "print(cappailndrome('Anna'))"
      ],
      "execution_count": null,
      "outputs": [
        {
          "output_type": "stream",
          "text": [
            "True\n",
            "False\n",
            "True\n"
          ],
          "name": "stdout"
        }
      ]
    },
    {
      "cell_type": "markdown",
      "metadata": {
        "id": "v7Je42H2ryzv"
      },
      "source": [
        "**문제 3**\n",
        "\n",
        "공백이 섞여 있더라도 회문으로 판정하도록 함수를 개선하세요.\n",
        "\n",
        ">>> palindrome('My gym')\n",
        "\n",
        "True"
      ]
    },
    {
      "cell_type": "code",
      "metadata": {
        "id": "7dhwCFNXrPyt"
      },
      "source": [
        "def gopalindrome(s):\n",
        "    s = str(s.replace(' ',''))\n",
        "    if str(s.lower()) == str(s.lower()[::-1]):\n",
        "        return True\n",
        "    else:\n",
        "        return False"
      ],
      "execution_count": null,
      "outputs": []
    },
    {
      "cell_type": "code",
      "metadata": {
        "colab": {
          "base_uri": "https://localhost:8080/"
        },
        "id": "iuusFXebs6dt",
        "outputId": "3606bcdc-b871-49b1-ab56-8dc0bcb8dcb6"
      },
      "source": [
        "print(gopalindrome('S O s'))\n",
        "print(gopalindrome('Annn'))\n",
        "print(gopalindrome('Island'))\n",
        "print(gopalindrome('An na'))"
      ],
      "execution_count": null,
      "outputs": [
        {
          "output_type": "stream",
          "text": [
            "True\n",
            "False\n",
            "False\n",
            "True\n"
          ],
          "name": "stdout"
        }
      ]
    },
    {
      "cell_type": "code",
      "metadata": {
        "id": "8FQN4ZwRtIi9"
      },
      "source": [
        "#21.05.23(SUN) 상하이 vs 퓨전전 옵치리그 1시간 정도 보고 아마존 웹서비스 프랙티션 영상 조금 챙겨보구,, 나머지 하느라 조금밖에 못했음! 낼 개인정비 시간에 더 해야쥐"
      ],
      "execution_count": 1,
      "outputs": []
    },
    {
      "cell_type": "markdown",
      "metadata": {
        "id": "wntY1oGWe-5E"
      },
      "source": [
        "**문자열**"
      ]
    },
    {
      "cell_type": "code",
      "metadata": {
        "id": "_VeKpB2Zd8y5"
      },
      "source": [
        "x = 'banana'"
      ],
      "execution_count": 2,
      "outputs": []
    },
    {
      "cell_type": "code",
      "metadata": {
        "id": "_abUUqOIeBqE",
        "outputId": "2e23210a-56af-45c9-8ab0-ff316b691b2e",
        "colab": {
          "base_uri": "https://localhost:8080/",
          "height": 34
        }
      },
      "source": [
        "x[0]    #0번 글자는?"
      ],
      "execution_count": 6,
      "outputs": [
        {
          "output_type": "execute_result",
          "data": {
            "application/vnd.google.colaboratory.intrinsic+json": {
              "type": "string"
            },
            "text/plain": [
              "'b'"
            ]
          },
          "metadata": {
            "tags": []
          },
          "execution_count": 6
        }
      ]
    },
    {
      "cell_type": "code",
      "metadata": {
        "id": "gjwvHYVceETC",
        "outputId": "c5a4ce19-50d7-4605-d1d8-04c1ecf7779b",
        "colab": {
          "base_uri": "https://localhost:8080/",
          "height": 34
        }
      },
      "source": [
        "x[2:4]  # 2번부터 4번 앞(3번)까지는?"
      ],
      "execution_count": 7,
      "outputs": [
        {
          "output_type": "execute_result",
          "data": {
            "application/vnd.google.colaboratory.intrinsic+json": {
              "type": "string"
            },
            "text/plain": [
              "'na'"
            ]
          },
          "metadata": {
            "tags": []
          },
          "execution_count": 7
        }
      ]
    },
    {
      "cell_type": "code",
      "metadata": {
        "id": "OTQG_9HUeCQ1",
        "outputId": "af5b8d30-a756-4850-da47-f4539936f623",
        "colab": {
          "base_uri": "https://localhost:8080/",
          "height": 34
        }
      },
      "source": [
        "x[:3]   # 처음부터 3번 앞(2번)까지는?"
      ],
      "execution_count": 4,
      "outputs": [
        {
          "output_type": "execute_result",
          "data": {
            "application/vnd.google.colaboratory.intrinsic+json": {
              "type": "string"
            },
            "text/plain": [
              "'ban'"
            ]
          },
          "metadata": {
            "tags": []
          },
          "execution_count": 4
        }
      ]
    },
    {
      "cell_type": "code",
      "metadata": {
        "id": "0-yQ5TYNeDFI",
        "outputId": "7f4a3bc2-3922-483e-97c4-66c772051d09",
        "colab": {
          "base_uri": "https://localhost:8080/",
          "height": 34
        }
      },
      "source": [
        "x[3:]   # 3번부터 끝까지는?"
      ],
      "execution_count": 5,
      "outputs": [
        {
          "output_type": "execute_result",
          "data": {
            "application/vnd.google.colaboratory.intrinsic+json": {
              "type": "string"
            },
            "text/plain": [
              "'ana'"
            ]
          },
          "metadata": {
            "tags": []
          },
          "execution_count": 5
        }
      ]
    },
    {
      "cell_type": "code",
      "metadata": {
        "id": "-zhXvZNZeMWW",
        "outputId": "2476f960-fb95-43bd-9ff8-d3726e8b59e8",
        "colab": {
          "base_uri": "https://localhost:8080/",
          "height": 170
        }
      },
      "source": [
        "x[0] = 'n'"
      ],
      "execution_count": 8,
      "outputs": [
        {
          "output_type": "error",
          "ename": "TypeError",
          "evalue": "ignored",
          "traceback": [
            "\u001b[0;31m---------------------------------------------------------------------------\u001b[0m",
            "\u001b[0;31mTypeError\u001b[0m                                 Traceback (most recent call last)",
            "\u001b[0;32m<ipython-input-8-bbded5e142fa>\u001b[0m in \u001b[0;36m<module>\u001b[0;34m()\u001b[0m\n\u001b[0;32m----> 1\u001b[0;31m \u001b[0mx\u001b[0m\u001b[0;34m[\u001b[0m\u001b[0;36m0\u001b[0m\u001b[0;34m]\u001b[0m \u001b[0;34m=\u001b[0m \u001b[0;34m'n'\u001b[0m\u001b[0;34m\u001b[0m\u001b[0;34m\u001b[0m\u001b[0m\n\u001b[0m",
            "\u001b[0;31mTypeError\u001b[0m: 'str' object does not support item assignment"
          ]
        }
      ]
    },
    {
      "cell_type": "code",
      "metadata": {
        "id": "K-wLmppJesdQ"
      },
      "source": [
        "x = 'n' + x[1:]"
      ],
      "execution_count": 9,
      "outputs": []
    },
    {
      "cell_type": "code",
      "metadata": {
        "id": "nwgVko2ce4PZ",
        "outputId": "907c765e-2746-4bd0-bcdc-97d9bd331662",
        "colab": {
          "base_uri": "https://localhost:8080/",
          "height": 34
        }
      },
      "source": [
        "x"
      ],
      "execution_count": 10,
      "outputs": [
        {
          "output_type": "execute_result",
          "data": {
            "application/vnd.google.colaboratory.intrinsic+json": {
              "type": "string"
            },
            "text/plain": [
              "'nanana'"
            ]
          },
          "metadata": {
            "tags": []
          },
          "execution_count": 10
        }
      ]
    },
    {
      "cell_type": "markdown",
      "metadata": {
        "id": "jjVKGLghfHgE"
      },
      "source": [
        "**리스트**"
      ]
    },
    {
      "cell_type": "code",
      "metadata": {
        "id": "7N7fHI2Ge4lf"
      },
      "source": [
        "prime = [3, 7, 11]"
      ],
      "execution_count": 11,
      "outputs": []
    },
    {
      "cell_type": "code",
      "metadata": {
        "id": "tCpCja74fImW"
      },
      "source": [
        "prime.append(5)     #append()함수를 통해 원소 5를 추가"
      ],
      "execution_count": 12,
      "outputs": []
    },
    {
      "cell_type": "code",
      "metadata": {
        "id": "O88uHKfnfOVr",
        "outputId": "592d6cc6-4ccd-46c8-87fc-f33abf094c9b",
        "colab": {
          "base_uri": "https://localhost:8080/"
        }
      },
      "source": [
        "prime"
      ],
      "execution_count": 13,
      "outputs": [
        {
          "output_type": "execute_result",
          "data": {
            "text/plain": [
              "[3, 7, 11, 5]"
            ]
          },
          "metadata": {
            "tags": []
          },
          "execution_count": 13
        }
      ]
    },
    {
      "cell_type": "markdown",
      "metadata": {
        "id": "TKy5CQVMfUBz"
      },
      "source": [
        "**sort()** 함수를 사용하면 정렬을 간단하게 할 수 있씀"
      ]
    },
    {
      "cell_type": "code",
      "metadata": {
        "id": "PWGQ_-vvfQkQ"
      },
      "source": [
        "prime.sort()"
      ],
      "execution_count": 15,
      "outputs": []
    },
    {
      "cell_type": "code",
      "metadata": {
        "id": "lnMHwaGJfVg-",
        "outputId": "25eabae3-c613-4e56-c66a-d99bd92e22b2",
        "colab": {
          "base_uri": "https://localhost:8080/"
        }
      },
      "source": [
        "prime"
      ],
      "execution_count": 16,
      "outputs": [
        {
          "output_type": "execute_result",
          "data": {
            "text/plain": [
              "[3, 5, 7, 11]"
            ]
          },
          "metadata": {
            "tags": []
          },
          "execution_count": 16
        }
      ]
    },
    {
      "cell_type": "code",
      "metadata": {
        "id": "eZblqWzuffkf"
      },
      "source": [
        "prime.insert(0,2)   #0번 자리에 2를 추가!"
      ],
      "execution_count": 17,
      "outputs": []
    },
    {
      "cell_type": "code",
      "metadata": {
        "id": "WjxtqzNKfmna",
        "outputId": "f9edf4c0-8368-4fae-fc95-356d2ca08f2f",
        "colab": {
          "base_uri": "https://localhost:8080/"
        }
      },
      "source": [
        "prime"
      ],
      "execution_count": 18,
      "outputs": [
        {
          "output_type": "execute_result",
          "data": {
            "text/plain": [
              "[2, 3, 5, 7, 11]"
            ]
          },
          "metadata": {
            "tags": []
          },
          "execution_count": 18
        }
      ]
    },
    {
      "cell_type": "code",
      "metadata": {
        "id": "_lbL7MMzfnGu"
      },
      "source": [
        "del prime[4]    #4번 원소를 삭제"
      ],
      "execution_count": null,
      "outputs": []
    },
    {
      "cell_type": "code",
      "metadata": {
        "id": "cUYSoAUSfsZJ",
        "outputId": "0306ba3e-714d-47ed-f766-7334727fdca1",
        "colab": {
          "base_uri": "https://localhost:8080/"
        }
      },
      "source": [
        "prime"
      ],
      "execution_count": 21,
      "outputs": [
        {
          "output_type": "execute_result",
          "data": {
            "text/plain": [
              "[2, 3, 5, 7]"
            ]
          },
          "metadata": {
            "tags": []
          },
          "execution_count": 21
        }
      ]
    },
    {
      "cell_type": "code",
      "metadata": {
        "id": "tIJqiehUf2TS",
        "outputId": "d73f828f-0100-45f8-e52d-6486e37d04a3",
        "colab": {
          "base_uri": "https://localhost:8080/"
        }
      },
      "source": [
        "prime[0] = 1    #문자열과는 달리 리스트에서는 변경할 수 있음\n",
        "prime"
      ],
      "execution_count": 22,
      "outputs": [
        {
          "output_type": "execute_result",
          "data": {
            "text/plain": [
              "[1, 3, 5, 7]"
            ]
          },
          "metadata": {
            "tags": []
          },
          "execution_count": 22
        }
      ]
    },
    {
      "cell_type": "code",
      "metadata": {
        "id": "S-TCPrQef58T",
        "outputId": "5041b783-cdb6-4ae5-afe9-e37b3e0ca2c0",
        "colab": {
          "base_uri": "https://localhost:8080/"
        }
      },
      "source": [
        "orders = ['potato', ['pizza', 'Coke', 'salad'], 'hamburger']    #리스트에 리스트를 넣을 수도 있음\n",
        "orders[1]   #potato 는 0, hamburger 는 2"
      ],
      "execution_count": 24,
      "outputs": [
        {
          "output_type": "execute_result",
          "data": {
            "text/plain": [
              "['pizza', 'Coke', 'salad']"
            ]
          },
          "metadata": {
            "tags": []
          },
          "execution_count": 24
        }
      ]
    },
    {
      "cell_type": "code",
      "metadata": {
        "id": "w0eIaWdRgQqg",
        "outputId": "3fc6f26b-1653-410c-a90d-da770ccb787d",
        "colab": {
          "base_uri": "https://localhost:8080/",
          "height": 34
        }
      },
      "source": [
        "orders[1][2]    "
      ],
      "execution_count": 29,
      "outputs": [
        {
          "output_type": "execute_result",
          "data": {
            "application/vnd.google.colaboratory.intrinsic+json": {
              "type": "string"
            },
            "text/plain": [
              "'salad'"
            ]
          },
          "metadata": {
            "tags": []
          },
          "execution_count": 29
        }
      ]
    },
    {
      "cell_type": "code",
      "metadata": {
        "id": "E2ot1iuxgYvY"
      },
      "source": [
        "matrix = [[1, 2, 3], [4, 5, 6], [7, 8, 9]]  #리스트를 통한 행렬도 표현 가능"
      ],
      "execution_count": 30,
      "outputs": []
    },
    {
      "cell_type": "markdown",
      "metadata": {
        "id": "Ee_xqN60hHOp"
      },
      "source": [
        "**문자열을 리스트로 바꾸기**"
      ]
    },
    {
      "cell_type": "code",
      "metadata": {
        "id": "BBZnAljJhC1b",
        "outputId": "c03dffe6-cd02-4a4f-fe5f-7dccf3335742",
        "colab": {
          "base_uri": "https://localhost:8080/"
        }
      },
      "source": [
        "characters = []\n",
        "sentence = 'Im the one'\n",
        "for char in sentence:\n",
        "    characters.append(char)     #빈 리스트에 append 함수를 통해 sentence의 문자열을 반복해서 하나씩 추가\n",
        "\n",
        "characters"
      ],
      "execution_count": 33,
      "outputs": [
        {
          "output_type": "execute_result",
          "data": {
            "text/plain": [
              "['I', 'm', ' ', 't', 'h', 'e', ' ', 'o', 'n', 'e']"
            ]
          },
          "metadata": {
            "tags": []
          },
          "execution_count": 33
        }
      ]
    },
    {
      "cell_type": "markdown",
      "metadata": {
        "id": "5zLL0S7ti9iv"
      },
      "source": [
        "**숫자를 문자열로 바꾸기**"
      ]
    },
    {
      "cell_type": "code",
      "metadata": {
        "id": "_lXHztGbhIRM",
        "outputId": "cf57767f-6017-4b87-d6ab-94e3563d2359",
        "colab": {
          "base_uri": "https://localhost:8080/"
        }
      },
      "source": [
        "in_in = 123\n",
        "type(in_in)"
      ],
      "execution_count": 35,
      "outputs": [
        {
          "output_type": "execute_result",
          "data": {
            "text/plain": [
              "int"
            ]
          },
          "metadata": {
            "tags": []
          },
          "execution_count": 35
        }
      ]
    },
    {
      "cell_type": "code",
      "metadata": {
        "id": "HwO3elEkhni2",
        "outputId": "5e55613a-a68b-4a94-d663-d1f107da2881",
        "colab": {
          "base_uri": "https://localhost:8080/",
          "height": 34
        }
      },
      "source": [
        "str(in_in)  #문자열로 변경시킴 보면 작은 따옴표가 두개 생김"
      ],
      "execution_count": 37,
      "outputs": [
        {
          "output_type": "execute_result",
          "data": {
            "application/vnd.google.colaboratory.intrinsic+json": {
              "type": "string"
            },
            "text/plain": [
              "'123'"
            ]
          },
          "metadata": {
            "tags": []
          },
          "execution_count": 37
        }
      ]
    },
    {
      "cell_type": "code",
      "metadata": {
        "id": "tqeF3zHnjHnW",
        "outputId": "bd37dc81-3717-43ca-967c-201817aa48d1",
        "colab": {
          "base_uri": "https://localhost:8080/"
        }
      },
      "source": [
        "type(str(in_in))    #type() 함수를 통해 보아도 문자열로 바뀐 것을 확인가능"
      ],
      "execution_count": 38,
      "outputs": [
        {
          "output_type": "execute_result",
          "data": {
            "text/plain": [
              "str"
            ]
          },
          "metadata": {
            "tags": []
          },
          "execution_count": 38
        }
      ]
    },
    {
      "cell_type": "code",
      "metadata": {
        "id": "CCawRgMEjLFx"
      },
      "source": [
        "my_str = str(in_in)     #이렇게 얻은 문자열을 새로운 변수에 할당하면 됌"
      ],
      "execution_count": 39,
      "outputs": []
    },
    {
      "cell_type": "code",
      "metadata": {
        "id": "t7oDNtgVjtEU"
      },
      "source": [
        "#어떻게 보면 숫자를 문자열로 바꾼 것이 아니라 >> 숫자값을 통해 새로운 문자열을 얻은 것임"
      ],
      "execution_count": null,
      "outputs": []
    },
    {
      "cell_type": "markdown",
      "metadata": {
        "id": "bS4RXuaTkAhF"
      },
      "source": [
        "**문자열을 숫자로 바꾸기**\n",
        "\n",
        "역으로, 숫자를 나타낸 문자열에서 숫자를 얻어낼 수도 있음"
      ]
    },
    {
      "cell_type": "code",
      "metadata": {
        "id": "Ce2kMeThkDvV",
        "outputId": "37341123-711c-4d76-889c-53cdbedc9928",
        "colab": {
          "base_uri": "https://localhost:8080/"
        }
      },
      "source": [
        "int('123')"
      ],
      "execution_count": 41,
      "outputs": [
        {
          "output_type": "execute_result",
          "data": {
            "text/plain": [
              "123"
            ]
          },
          "metadata": {
            "tags": []
          },
          "execution_count": 41
        }
      ]
    },
    {
      "cell_type": "code",
      "metadata": {
        "id": "XN4yZ4WKkNIv",
        "outputId": "7fe5c018-a95e-4699-b145-6ff2007f2ff1",
        "colab": {
          "base_uri": "https://localhost:8080/"
        }
      },
      "source": [
        "float('123')"
      ],
      "execution_count": 42,
      "outputs": [
        {
          "output_type": "execute_result",
          "data": {
            "text/plain": [
              "123.0"
            ]
          },
          "metadata": {
            "tags": []
          },
          "execution_count": 42
        }
      ]
    },
    {
      "cell_type": "markdown",
      "metadata": {
        "id": "9bXrwgGokVrb"
      },
      "source": [
        "**리스트 원소들의 합 구하기**"
      ]
    },
    {
      "cell_type": "code",
      "metadata": {
        "id": "m3O9BMVwkQKH",
        "outputId": "a926287f-8c94-473c-ecb1-bc8a91041f28",
        "colab": {
          "base_uri": "https://localhost:8080/"
        }
      },
      "source": [
        "one_to_ten = list(range(1,11))\n",
        "one_to_ten"
      ],
      "execution_count": 43,
      "outputs": [
        {
          "output_type": "execute_result",
          "data": {
            "text/plain": [
              "[1, 2, 3, 4, 5, 6, 7, 8, 9, 10]"
            ]
          },
          "metadata": {
            "tags": []
          },
          "execution_count": 43
        }
      ]
    },
    {
      "cell_type": "code",
      "metadata": {
        "id": "cgbG94KBkhhn",
        "outputId": "ce783b6a-0b39-4a09-8d92-2e3f9242a7c5",
        "colab": {
          "base_uri": "https://localhost:8080/"
        }
      },
      "source": [
        "sum(one_to_ten)     #합계를 구하는 함수 sum()"
      ],
      "execution_count": 44,
      "outputs": [
        {
          "output_type": "execute_result",
          "data": {
            "text/plain": [
              "55"
            ]
          },
          "metadata": {
            "tags": []
          },
          "execution_count": 44
        }
      ]
    },
    {
      "cell_type": "code",
      "metadata": {
        "id": "tWrZI4hAkjqr"
      },
      "source": [
        "chulsu = [90, 85, 70]\n",
        "younghee = [88, 79, 92]\n",
        "yong = [20, 50, 10]\n",
        "me = [96, 99, 100]\n",
        "minsu = [90, 60, 70]\n",
        "\n",
        "students = [chulsu, younghee, yong, me, minsu]"
      ],
      "execution_count": 47,
      "outputs": []
    },
    {
      "cell_type": "code",
      "metadata": {
        "id": "NtufWm4Ik83n",
        "outputId": "b2e5288e-c8ef-49e1-a7e5-19c6a4b85b33",
        "colab": {
          "base_uri": "https://localhost:8080/"
        }
      },
      "source": [
        "for scores in students:\n",
        "    print(scores)"
      ],
      "execution_count": 48,
      "outputs": [
        {
          "output_type": "stream",
          "text": [
            "[90, 85, 70]\n",
            "[88, 79, 92]\n",
            "[20, 50, 10]\n",
            "[96, 99, 100]\n",
            "[90, 60, 70]\n"
          ],
          "name": "stdout"
        }
      ]
    },
    {
      "cell_type": "code",
      "metadata": {
        "id": "xzo5r8Pik_wt",
        "outputId": "a1d769d6-d309-4218-83ae-a749d65c7091",
        "colab": {
          "base_uri": "https://localhost:8080/"
        }
      },
      "source": [
        "for scores in students:\n",
        "    total = 0\n",
        "    for s in scores:\n",
        "        total += s\n",
        "    average = total/3\n",
        "    print(scores, total, average)"
      ],
      "execution_count": 49,
      "outputs": [
        {
          "output_type": "stream",
          "text": [
            "[90, 85, 70] 245 81.66666666666667\n",
            "[88, 79, 92] 259 86.33333333333333\n",
            "[20, 50, 10] 80 26.666666666666668\n",
            "[96, 99, 100] 295 98.33333333333333\n",
            "[90, 60, 70] 220 73.33333333333333\n"
          ],
          "name": "stdout"
        }
      ]
    },
    {
      "cell_type": "markdown",
      "metadata": {
        "id": "qG9WOSm2lzNu"
      },
      "source": [
        "**연습 문제**: 각 자리 숫자의 합을 구하는 함수(리스트를 이용)\n",
        "\n",
        "정수 num을 매개변수로 받아 각 자리 숫자(digit)의 합을 계산하는 sumOfDigits() 함수를 작성하세요. 단, 나눗셈을 이용하지 말고 풀어보세요.\n",
        "\n",
        "예 1\n",
        "입력:\n",
        "643\n",
        "\n",
        "출력(6 + 4 + 3 = 13):\n",
        "13\n",
        "\n",
        "예 2\n",
        "입력:\n",
        "47253\n",
        "\n",
        "출력:\n",
        "21"
      ]
    },
    {
      "cell_type": "code",
      "metadata": {
        "id": "PoqENC7Gm6i8",
        "outputId": "4b29ad2f-ee9f-4ff5-f5ca-13faf5ecb9ba",
        "colab": {
          "base_uri": "https://localhost:8080/"
        }
      },
      "source": [
        "def sumOfDigits(num):\n",
        "    sum = 0\n",
        "    for c in list(str(num)):\n",
        "        sum += int(c)\n",
        "    return sum\n",
        "\n",
        "print(sumOfDigits(643))\n",
        "print(sumOfDigits(47253))"
      ],
      "execution_count": 84,
      "outputs": [
        {
          "output_type": "stream",
          "text": [
            "13\n",
            "21\n"
          ],
          "name": "stdout"
        }
      ]
    },
    {
      "cell_type": "code",
      "metadata": {
        "id": "BmoJiiL3o9ZU"
      },
      "source": [
        ""
      ],
      "execution_count": null,
      "outputs": []
    },
    {
      "cell_type": "markdown",
      "metadata": {
        "id": "rz6GfKn0qa4b"
      },
      "source": [
        "**연습 문제: 줄기와 잎 그림**\n",
        "\n",
        "문제\n",
        "농구팀에 속한 12명의 득점을 다음과 같이 score 리스트로 나타냈습니다.\n",
        "\n",
        ">>> score = [0, 0, 2, 4, 7, 7, 9]\n",
        "\n",
        ">>> score += [11, 11, 13, 18]\n",
        "\n",
        ">>> score += [20]\n",
        "\n",
        ">>> score\n",
        "\n",
        "[0, 0, 2, 4, 7, 7, 9, 11, 11, 13, 18, 20]\n",
        "\n",
        "다음과 같이 stem_leaf 리스트를 만들어 선수들의 득점을 줄기와 잎 그림 형식으로 저장하려고합니다.\n",
        "\n",
        ">>> stem_leaf = [[], [], []]\n",
        "\n",
        "\n",
        "**문제 1**\n",
        "stem_leaf에 데이터를 채우는 프로그램을 작성하세요. 데이터가 채워진 결과는 다음과 같습니다.\n",
        "\n",
        ">>> stem_leaf\n",
        "\n",
        "[[0, 0, 2, 4, 7, 7, 9], [1, 1, 3, 8], [0]]\n",
        "\n",
        ">>> stem_leaf[0]\n",
        "\n",
        "[0, 0, 2, 4, 7, 7, 9]\n",
        "\n",
        ">>> stem_leaf[1]\n",
        "\n",
        "[1, 1, 3, 8]\n",
        "\n",
        ">>> stem_leaf[2]\n",
        "\n",
        "[0]\n",
        "\n",
        "**문제 2**\n",
        "stem_leaf를 다음과 같은 형태로 프린트하는 프로그램을 작성하세요.\n",
        "\n",
        "0: [0, 0, 2, 4, 7, 7, 9]\n",
        "\n",
        "1: [1, 1, 3, 8]\n",
        "\n",
        "2: [0]"
      ]
    },
    {
      "cell_type": "code",
      "metadata": {
        "id": "2EcuyAvQq0qe"
      },
      "source": [
        "score = [0, 0, 2, 4, 7, 7, 9]\n",
        "score += [11, 11, 13, 18]\n",
        "score += [20]\n",
        "\n",
        "stem_leaf = [[ ], [ ], [ ]]"
      ],
      "execution_count": 139,
      "outputs": []
    },
    {
      "cell_type": "code",
      "metadata": {
        "id": "Xid3hnOQsbnf"
      },
      "source": [
        "for s in score:\n",
        "    d, m = divmod(s, 10)\n",
        "    stem_leaf[d].append(m)"
      ],
      "execution_count": 140,
      "outputs": []
    },
    {
      "cell_type": "code",
      "metadata": {
        "id": "0lPthIFetf2l",
        "outputId": "6e61c7bb-c141-4400-f333-7e72ba1315e8",
        "colab": {
          "base_uri": "https://localhost:8080/"
        }
      },
      "source": [
        "stem_leaf"
      ],
      "execution_count": 141,
      "outputs": [
        {
          "output_type": "execute_result",
          "data": {
            "text/plain": [
              "[[0, 0, 2, 4, 7, 7, 9], [1, 1, 3, 8], [0]]"
            ]
          },
          "metadata": {
            "tags": []
          },
          "execution_count": 141
        }
      ]
    },
    {
      "cell_type": "code",
      "metadata": {
        "id": "gOzWx8Y11C_0",
        "outputId": "43e48f2d-d6f0-4f7d-a641-de56bf4cdf3d",
        "colab": {
          "base_uri": "https://localhost:8080/"
        }
      },
      "source": [
        "stem_leaf[0]"
      ],
      "execution_count": 142,
      "outputs": [
        {
          "output_type": "execute_result",
          "data": {
            "text/plain": [
              "[0, 0, 2, 4, 7, 7, 9]"
            ]
          },
          "metadata": {
            "tags": []
          },
          "execution_count": 142
        }
      ]
    },
    {
      "cell_type": "code",
      "metadata": {
        "id": "gD6nb4gL3Bha",
        "outputId": "f34c3af6-a64e-41c5-9e00-9affcb87dec5",
        "colab": {
          "base_uri": "https://localhost:8080/"
        }
      },
      "source": [
        "stem_leaf[1]"
      ],
      "execution_count": 143,
      "outputs": [
        {
          "output_type": "execute_result",
          "data": {
            "text/plain": [
              "[1, 1, 3, 8]"
            ]
          },
          "metadata": {
            "tags": []
          },
          "execution_count": 143
        }
      ]
    },
    {
      "cell_type": "code",
      "metadata": {
        "id": "jhq099983Chl",
        "outputId": "44d0e70a-662e-4f66-82d7-b4d84ad17b8e",
        "colab": {
          "base_uri": "https://localhost:8080/"
        }
      },
      "source": [
        "stem_leaf[2]"
      ],
      "execution_count": 144,
      "outputs": [
        {
          "output_type": "execute_result",
          "data": {
            "text/plain": [
              "[0]"
            ]
          },
          "metadata": {
            "tags": []
          },
          "execution_count": 144
        }
      ]
    },
    {
      "cell_type": "code",
      "metadata": {
        "id": "MVNYDLHj3D03"
      },
      "source": [
        "def stem_leaf():\n",
        "    return print('[0]:',stem_leaf[0],'\\n'\"[1]:\",stem_leaf[1],'\\n','[2]:',stem_leaf[2])"
      ],
      "execution_count": 154,
      "outputs": []
    },
    {
      "cell_type": "code",
      "metadata": {
        "id": "yVNhRGOD3Wp4",
        "outputId": "f182accd-ee01-4429-9dd5-f1dab3db031f",
        "colab": {
          "base_uri": "https://localhost:8080/",
          "height": 241
        }
      },
      "source": [
        "stem_leaf()"
      ],
      "execution_count": 155,
      "outputs": [
        {
          "output_type": "error",
          "ename": "TypeError",
          "evalue": "ignored",
          "traceback": [
            "\u001b[0;31m---------------------------------------------------------------------------\u001b[0m",
            "\u001b[0;31mTypeError\u001b[0m                                 Traceback (most recent call last)",
            "\u001b[0;32m<ipython-input-155-a16c4404bb03>\u001b[0m in \u001b[0;36m<module>\u001b[0;34m()\u001b[0m\n\u001b[0;32m----> 1\u001b[0;31m \u001b[0mstem_leaf\u001b[0m\u001b[0;34m(\u001b[0m\u001b[0;34m)\u001b[0m\u001b[0;34m\u001b[0m\u001b[0;34m\u001b[0m\u001b[0m\n\u001b[0m",
            "\u001b[0;32m<ipython-input-154-44c522c8d54f>\u001b[0m in \u001b[0;36mstem_leaf\u001b[0;34m()\u001b[0m\n\u001b[1;32m      1\u001b[0m \u001b[0;32mdef\u001b[0m \u001b[0mstem_leaf\u001b[0m\u001b[0;34m(\u001b[0m\u001b[0;34m)\u001b[0m\u001b[0;34m:\u001b[0m\u001b[0;34m\u001b[0m\u001b[0;34m\u001b[0m\u001b[0m\n\u001b[0;32m----> 2\u001b[0;31m     \u001b[0;32mreturn\u001b[0m \u001b[0mprint\u001b[0m\u001b[0;34m(\u001b[0m\u001b[0;34m'[0]:'\u001b[0m\u001b[0;34m,\u001b[0m\u001b[0mstem_leaf\u001b[0m\u001b[0;34m[\u001b[0m\u001b[0;36m0\u001b[0m\u001b[0;34m]\u001b[0m\u001b[0;34m,\u001b[0m\u001b[0;34m'\\n'\u001b[0m\u001b[0;34m\"[1]:\"\u001b[0m\u001b[0;34m,\u001b[0m\u001b[0mstem_leaf\u001b[0m\u001b[0;34m[\u001b[0m\u001b[0;36m1\u001b[0m\u001b[0;34m]\u001b[0m\u001b[0;34m,\u001b[0m\u001b[0;34m'\\n'\u001b[0m\u001b[0;34m,\u001b[0m\u001b[0;34m'[2]:'\u001b[0m\u001b[0;34m,\u001b[0m\u001b[0mstem_leaf\u001b[0m\u001b[0;34m[\u001b[0m\u001b[0;36m2\u001b[0m\u001b[0;34m]\u001b[0m\u001b[0;34m)\u001b[0m\u001b[0;34m\u001b[0m\u001b[0;34m\u001b[0m\u001b[0m\n\u001b[0m",
            "\u001b[0;31mTypeError\u001b[0m: 'function' object is not subscriptable"
          ]
        }
      ]
    },
    {
      "cell_type": "code",
      "metadata": {
        "id": "dlGUn0L33cCE"
      },
      "source": [
        ""
      ],
      "execution_count": null,
      "outputs": []
    }
  ]
}