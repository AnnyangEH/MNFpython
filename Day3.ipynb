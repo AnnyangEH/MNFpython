{
  "nbformat": 4,
  "nbformat_minor": 0,
  "metadata": {
    "colab": {
      "name": "Day3",
      "provenance": [],
      "collapsed_sections": [],
      "authorship_tag": "ABX9TyM4d9E6B02wnVVllJFPqBvO",
      "include_colab_link": true
    },
    "kernelspec": {
      "name": "python3",
      "display_name": "Python 3"
    },
    "language_info": {
      "name": "python"
    }
  },
  "cells": [
    {
      "cell_type": "markdown",
      "metadata": {
        "id": "view-in-github",
        "colab_type": "text"
      },
      "source": [
        "<a href=\"https://colab.research.google.com/github/AnnyangEH/MNFpython/blob/main/Day3.ipynb\" target=\"_parent\"><img src=\"https://colab.research.google.com/assets/colab-badge.svg\" alt=\"Open In Colab\"/></a>"
      ]
    },
    {
      "cell_type": "code",
      "metadata": {
        "id": "dkIpARf9bcxE",
        "colab": {
          "base_uri": "https://localhost:8080/"
        },
        "outputId": "1f3bd238-2d07-46a2-cb53-eff5f8b53620"
      },
      "source": [
        "a = [3, 4, 62, 27, 83, 956, 26, 58, 3, 78, 168, 64, 78]\n",
        "\n",
        "len([1, 2, 3, 4, 5]) #len() 도 리스트의 크기를 알려주는 함수임!\n"
      ],
      "execution_count": null,
      "outputs": [
        {
          "output_type": "execute_result",
          "data": {
            "text/plain": [
              "5"
            ]
          },
          "metadata": {
            "tags": []
          },
          "execution_count": 2
        }
      ]
    },
    {
      "cell_type": "code",
      "metadata": {
        "colab": {
          "base_uri": "https://localhost:8080/"
        },
        "id": "1yIGmh19M7RW",
        "outputId": "b7057b5f-3cab-46ea-a196-59785c290221"
      },
      "source": [
        "len(a)"
      ],
      "execution_count": null,
      "outputs": [
        {
          "output_type": "execute_result",
          "data": {
            "text/plain": [
              "13"
            ]
          },
          "metadata": {
            "tags": []
          },
          "execution_count": 3
        }
      ]
    },
    {
      "cell_type": "code",
      "metadata": {
        "id": "Odx-6S_wNBFW"
      },
      "source": [
        "def print_list(x): #함수의 이름을 정해주고 x 는 매개변수 \n",
        "    for i in x:\n",
        "        print(i)"
      ],
      "execution_count": null,
      "outputs": []
    },
    {
      "cell_type": "code",
      "metadata": {
        "colab": {
          "base_uri": "https://localhost:8080/"
        },
        "id": "cqQMgzfHOWTz",
        "outputId": "33fdc164-2b29-491f-f57d-71c308d15bf6"
      },
      "source": [
        "print_list(a)"
      ],
      "execution_count": null,
      "outputs": [
        {
          "output_type": "stream",
          "text": [
            "3\n",
            "4\n",
            "62\n",
            "27\n",
            "83\n",
            "956\n",
            "26\n",
            "58\n",
            "3\n",
            "78\n",
            "168\n",
            "64\n",
            "78\n"
          ],
          "name": "stdout"
        }
      ]
    },
    {
      "cell_type": "code",
      "metadata": {
        "id": "AnpGOrOwObS7"
      },
      "source": [
        "def zico():\n",
        "    print('I am a boy')\n",
        "    print('but u r a girl')"
      ],
      "execution_count": null,
      "outputs": []
    },
    {
      "cell_type": "code",
      "metadata": {
        "colab": {
          "base_uri": "https://localhost:8080/"
        },
        "id": "v5DkLG-0OwWG",
        "outputId": "62920946-a0bc-491f-ddbf-68a284ccb1a5"
      },
      "source": [
        "zico()"
      ],
      "execution_count": null,
      "outputs": [
        {
          "output_type": "stream",
          "text": [
            "I am a boy\n",
            "but u r a girl\n"
          ],
          "name": "stdout"
        }
      ]
    },
    {
      "cell_type": "code",
      "metadata": {
        "id": "E2i7QFIhOw87"
      },
      "source": [
        "'''\n",
        "문제!\n",
        "자, 이번엔 여러분이 직접 만들어볼 차례입니다. a와 b 가운데 a가 크면 'a > b'라고 표시하고, b가 크면 'a < b', 두 숫자가 같으면 'a == b'라고 표시하는 함수를 만들어 보세요. \n",
        "이 함수는 매개변수 두 개를 필요로 합니다. 함수를 만들 때 괄호 안에 (x, y)와 같은 형식으로 해주면 되겠죠? 답 다 가르쳐 드렸네요.^^\n",
        "'''\n",
        "def ab(x, y):\n",
        "    if x > y:\n",
        "        print('a > b')\n",
        "    elif x < y:\n",
        "        print('a < b')\n",
        "    else:\n",
        "        print('a == b')\n"
      ],
      "execution_count": null,
      "outputs": []
    },
    {
      "cell_type": "code",
      "metadata": {
        "colab": {
          "base_uri": "https://localhost:8080/"
        },
        "id": "0ffnX9vkSfBt",
        "outputId": "22cf3768-f1fd-4e31-9fd8-189e45acedb9"
      },
      "source": [
        "ab(1, 2)"
      ],
      "execution_count": null,
      "outputs": [
        {
          "output_type": "stream",
          "text": [
            "a < b\n"
          ],
          "name": "stdout"
        }
      ]
    },
    {
      "cell_type": "code",
      "metadata": {
        "colab": {
          "base_uri": "https://localhost:8080/"
        },
        "id": "xmRQmwr1ShML",
        "outputId": "c7f3f12a-c4c0-4dba-e7a9-f5477fa785ad"
      },
      "source": [
        "ab(3,2)"
      ],
      "execution_count": null,
      "outputs": [
        {
          "output_type": "stream",
          "text": [
            "a > b\n"
          ],
          "name": "stdout"
        }
      ]
    },
    {
      "cell_type": "code",
      "metadata": {
        "colab": {
          "base_uri": "https://localhost:8080/"
        },
        "id": "58D3BMe2SkVc",
        "outputId": "7e8b075a-ed7f-469d-a290-74430369f8ed"
      },
      "source": [
        "ab(3,3)"
      ],
      "execution_count": null,
      "outputs": [
        {
          "output_type": "stream",
          "text": [
            "a == b\n"
          ],
          "name": "stdout"
        }
      ]
    },
    {
      "cell_type": "code",
      "metadata": {
        "id": "3XuLqpC9SlK3"
      },
      "source": [
        "'''\n",
        "연습 문제: 구구단\n",
        "\n",
        "다음 예와 같이 구구단을 2단부터 9단까지 계산해서 출력하는 프로그램을 짜보세요. \n",
        "지금까지 배운 내용만 제대로 이해하시면 충분히 하실 수 있답니다.\n",
        "'''\n",
        "def gugu(x):\n",
        "    for y in range(1,10):\n",
        "        print(f'{x} * {y} = {x * y:2d}')"
      ],
      "execution_count": null,
      "outputs": []
    },
    {
      "cell_type": "code",
      "metadata": {
        "colab": {
          "base_uri": "https://localhost:8080/"
        },
        "id": "hAkh8VMdUk3R",
        "outputId": "fc002280-2d35-4225-cec0-eb714770e103"
      },
      "source": [
        "gugu(3)"
      ],
      "execution_count": null,
      "outputs": [
        {
          "output_type": "stream",
          "text": [
            "3 * 1 =  3\n",
            "3 * 2 =  6\n",
            "3 * 3 =  9\n",
            "3 * 4 = 12\n",
            "3 * 5 = 15\n",
            "3 * 6 = 18\n",
            "3 * 7 = 21\n",
            "3 * 8 = 24\n",
            "3 * 9 = 27\n"
          ],
          "name": "stdout"
        }
      ]
    },
    {
      "cell_type": "code",
      "metadata": {
        "id": "3k2FrriOUleO"
      },
      "source": [
        "def autogugu():\n",
        "    for x in range(2, 10):\n",
        "        for y in range(1, 10):\n",
        "            print(f'{x} * {y} = {x * y:2d}')\n",
        "        print()"
      ],
      "execution_count": null,
      "outputs": []
    },
    {
      "cell_type": "code",
      "metadata": {
        "id": "JV1bjKwdY_Nl"
      },
      "source": [
        "autogugu()"
      ],
      "execution_count": null,
      "outputs": []
    },
    {
      "cell_type": "code",
      "metadata": {
        "colab": {
          "base_uri": "https://localhost:8080/"
        },
        "id": "cCndk7MuZVqw",
        "outputId": "666a7f7a-d0ec-4c4d-f54e-4e7f8761e33a"
      },
      "source": [
        "def f1(x):\n",
        "    a = 3\n",
        "    b = 5\n",
        "    y = a * x + b\n",
        "    return y    #y 값을 반환한다\n",
        "\n",
        "c = f1(10)      #c = 35\n",
        "print(c)"
      ],
      "execution_count": null,
      "outputs": [
        {
          "output_type": "stream",
          "text": [
            "35\n"
          ],
          "name": "stdout"
        }
      ]
    },
    {
      "cell_type": "code",
      "metadata": {
        "colab": {
          "base_uri": "https://localhost:8080/"
        },
        "id": "B3gNZPI2ZxtS",
        "outputId": "f2f1d32c-123c-43b3-fc1b-54faa87482a1"
      },
      "source": [
        "def f2(x):\n",
        "    a = 3\n",
        "    b = 5\n",
        "    y = a * x + b\n",
        "    print(y)    #y 값을 출력한다.\n",
        "\n",
        "d = f2(10)      # d = ?\n",
        "print(d)"
      ],
      "execution_count": null,
      "outputs": [
        {
          "output_type": "stream",
          "text": [
            "35\n",
            "None\n"
          ],
          "name": "stdout"
        }
      ]
    },
    {
      "cell_type": "code",
      "metadata": {
        "id": "NQPF7LEQae2Q"
      },
      "source": [
        "'''\n",
        "삼각형의 넓이를 구하는 함수를 만들어보세요.\n",
        "\n",
        "함수의 인자로는 삼각형의 밑변과 높이가 주어지고, 반환(return) 값은 삼각형의 넓이가 되는 겁니다. 간단하겠죠?\n",
        "\n",
        "문제를 풀어보신 분께는 신기한 것을 하나 알려드리겠습니다.\n",
        "\n",
        "아직 안 풀어보셨으면 빨리 해보세요.\n",
        "'''\n",
        "def tri(x, y):\n",
        "    n = (x * y)/2\n",
        "    return n"
      ],
      "execution_count": null,
      "outputs": []
    },
    {
      "cell_type": "code",
      "metadata": {
        "colab": {
          "base_uri": "https://localhost:8080/"
        },
        "id": "peWW0VTObEPf",
        "outputId": "b2c6eb29-ade1-4643-f1ad-edec079fe75e"
      },
      "source": [
        "a = tri(5, 10)\n",
        "print(a)"
      ],
      "execution_count": null,
      "outputs": [
        {
          "output_type": "stream",
          "text": [
            "25.0\n"
          ],
          "name": "stdout"
        }
      ]
    },
    {
      "cell_type": "code",
      "metadata": {
        "colab": {
          "base_uri": "https://localhost:8080/"
        },
        "id": "xYQ_5EymbZBc",
        "outputId": "f9bf56d2-fa54-447a-dc78-8b9df9f78ac1"
      },
      "source": [
        "1 + 2 == 0"
      ],
      "execution_count": null,
      "outputs": [
        {
          "output_type": "execute_result",
          "data": {
            "text/plain": [
              "False"
            ]
          },
          "metadata": {
            "tags": []
          },
          "execution_count": 77
        }
      ]
    },
    {
      "cell_type": "code",
      "metadata": {
        "colab": {
          "base_uri": "https://localhost:8080/"
        },
        "id": "N3_R4jSxbZwS",
        "outputId": "dfef22b1-8c87-457b-f258-5b62bee6475b"
      },
      "source": [
        "1 + 1 == 2"
      ],
      "execution_count": null,
      "outputs": [
        {
          "output_type": "execute_result",
          "data": {
            "text/plain": [
              "True"
            ]
          },
          "metadata": {
            "tags": []
          },
          "execution_count": 78
        }
      ]
    },
    {
      "cell_type": "code",
      "metadata": {
        "colab": {
          "base_uri": "https://localhost:8080/"
        },
        "id": "zYGVJdOWbb7M",
        "outputId": "2f2c71f5-a3dd-4471-900f-bce5a7ce433a"
      },
      "source": [
        "if 1 + 1 == 2:\n",
        "    print('yes')\n",
        "else:\n",
        "    print('no')"
      ],
      "execution_count": null,
      "outputs": [
        {
          "output_type": "stream",
          "text": [
            "yes\n"
          ],
          "name": "stdout"
        }
      ]
    },
    {
      "cell_type": "code",
      "metadata": {
        "id": "xTjMlQSjbksD"
      },
      "source": [
        "def quiz():\n",
        "    ans = input('1 + 2 = ')\n",
        "    return 1 + 2 == int(ans)    #답을 맞히면 True를 돌려주고, 틀리면 False를 돌려줌"
      ],
      "execution_count": null,
      "outputs": []
    },
    {
      "cell_type": "code",
      "metadata": {
        "colab": {
          "base_uri": "https://localhost:8080/"
        },
        "id": "HGVAFYVWb_T0",
        "outputId": "54dd9a5a-d1ff-47e9-c5ae-9fa4cd487495"
      },
      "source": [
        "quiz()"
      ],
      "execution_count": null,
      "outputs": [
        {
          "output_type": "stream",
          "text": [
            "1 + 2 = 3\n"
          ],
          "name": "stdout"
        },
        {
          "output_type": "execute_result",
          "data": {
            "text/plain": [
              "True"
            ]
          },
          "metadata": {
            "tags": []
          },
          "execution_count": 81
        }
      ]
    },
    {
      "cell_type": "code",
      "metadata": {
        "colab": {
          "base_uri": "https://localhost:8080/"
        },
        "id": "YfNZRXCdb_2c",
        "outputId": "cf5ceb4a-6fd9-4046-ee4c-0c305900e40a"
      },
      "source": [
        "quiz()"
      ],
      "execution_count": null,
      "outputs": [
        {
          "output_type": "stream",
          "text": [
            "1 + 2 = 4\n"
          ],
          "name": "stdout"
        },
        {
          "output_type": "execute_result",
          "data": {
            "text/plain": [
              "False"
            ]
          },
          "metadata": {
            "tags": []
          },
          "execution_count": 82
        }
      ]
    },
    {
      "cell_type": "code",
      "metadata": {
        "id": "zQeOIuEhcB4Q"
      },
      "source": [
        "'''\n",
        "연습 문제: 숫자 읽기 함수(1~10)\n",
        "\n",
        "매개변수로 받은 정수를 한국어로 표기한 문자열을 반환하는 함수 korean_number()를 정의하세요. \n",
        "단, 매개변수는 1 이상 10 이하의 정수라고 가정합니다.\n",
        "'''\n",
        "def korean_number():\n",
        "    x = int(input())\n",
        "    plist = ['하나','둘','삼','넷','오','여섯','칠','팔','아홉','공']   #포병의 자부심으로 포병숫자로 씀 ㅋㅋ\n",
        "    for i in range(11):\n",
        "        if x >= 11 or x < 0:\n",
        "            return print('올바른 숫자를 입력해주세요')\n",
        "            break\n",
        "        elif x - 1 == i:\n",
        "            return plist[i]\n",
        "        else:\n",
        "            i += 1"
      ],
      "execution_count": null,
      "outputs": []
    },
    {
      "cell_type": "code",
      "metadata": {
        "colab": {
          "base_uri": "https://localhost:8080/",
          "height": 53
        },
        "id": "VbTUrYrYf4uM",
        "outputId": "33573a98-459e-4f45-f0b6-bc4e2a8db998"
      },
      "source": [
        "korean_number()"
      ],
      "execution_count": null,
      "outputs": [
        {
          "output_type": "stream",
          "text": [
            "10\n"
          ],
          "name": "stdout"
        },
        {
          "output_type": "execute_result",
          "data": {
            "application/vnd.google.colaboratory.intrinsic+json": {
              "type": "string"
            },
            "text/plain": [
              "'공'"
            ]
          },
          "metadata": {
            "tags": []
          },
          "execution_count": 149
        }
      ]
    },
    {
      "cell_type": "code",
      "metadata": {
        "colab": {
          "base_uri": "https://localhost:8080/",
          "height": 35
        },
        "id": "Cp6SYRYjhpIl",
        "outputId": "f5f5d39b-d169-42f0-a66a-4b8d4048fd6b"
      },
      "source": [
        "'''\n",
        "연습 문제: 함수 정의하기\n",
        "\n",
        "문제 1\n",
        "다음 triple() 함수를 완성하세요.\n",
        "\n",
        ">>> def triple(x):\n",
        "...     ██████ █ █ █\n",
        "... \n",
        ">>> triple(2)\n",
        "6\n",
        ">>> triple('x')\n",
        "'xxx'\n",
        "'''\n",
        "\n",
        "def triple(x):\n",
        "    return x * 3\n",
        "\n",
        "triple(2)\n",
        "\n",
        "triple('x')"
      ],
      "execution_count": null,
      "outputs": [
        {
          "output_type": "execute_result",
          "data": {
            "application/vnd.google.colaboratory.intrinsic+json": {
              "type": "string"
            },
            "text/plain": [
              "'xxx'"
            ]
          },
          "metadata": {
            "tags": []
          },
          "execution_count": 153
        }
      ]
    },
    {
      "cell_type": "code",
      "metadata": {
        "colab": {
          "base_uri": "https://localhost:8080/"
        },
        "id": "T0DPGsm6jJJ-",
        "outputId": "7a4d552e-8166-4078-ef81-2f39e658201f"
      },
      "source": [
        "'''\n",
        "문제 2\n",
        "오늘의 날짜 객체를 구하는 코드는 다음과 같습니다. (코드를 이해하지 못해도 이 문제를 풀 수 있습니다.)\n",
        "\n",
        ">>> from datetime import datetime\n",
        ">>> today = datetime.today()\n",
        ">>> today\n",
        "datetime.datetime(2021, 3, 21, 15, 46, 1, 94942)\n",
        "위 코드의 today에서 연도를 구하는 방법은 다음과 같습니다.\n",
        "\n",
        ">>> today.year\n",
        "2021\n",
        "태어난 해를 네 자리 숫자로 입력하면 한국 나이를 반환하는 함수 korean_age()를 작성하세요.\n",
        "'''\n",
        "\n",
        "\n",
        "\n",
        "def korean_age(x):\n",
        "    from datetime import datetime\n",
        "    return print(f'{today.year - x + 1}살 입니다')\n",
        "\n",
        "korean_age(1973)"
      ],
      "execution_count": null,
      "outputs": [
        {
          "output_type": "stream",
          "text": [
            "49살 입니다\n"
          ],
          "name": "stdout"
        }
      ]
    },
    {
      "cell_type": "code",
      "metadata": {
        "id": "GoL25XTOsYnH",
        "colab": {
          "base_uri": "https://localhost:8080/"
        },
        "outputId": "9bdc86cc-5647-4e26-c5e4-94c4c33f22ee"
      },
      "source": [
        "'''\n",
        "연습 문제: 단리 이자 계산\n",
        "\n",
        "새해를 맞아 저축을 하기로 하고 연이율 3.875%(단리)인 상품에 10,000,000원을 저축했습니다. 5년 동안 넣어두면 이자가 얼마 붙는지 계산해보겠습니다.\n",
        "\n",
        "첫 해에 원금 10,000,000원에 대한 이자 10,000,000 * 0.03875 = 387500원이 붙습니다.\n",
        "둘째 해에 원금 10,000,000원에 대한 이자 387500원이 붙습니다.\n",
        "마찬가지로 셋째, 넷째, 다섯째 해에도 해마다 같은 금액의 이자가 붙습니다.\n",
        "\n",
        "만기가 되어 받을 수 있는 이자는 다음과 같습니다.\n",
        "\n",
        ">>> 10000000 * 0.03875 * 5\n",
        "1937500.0\n",
        "원금과 이자를 합한 총액, 즉 원리금은 다음과 같습니다.\n",
        "\n",
        ">>> 10000000 + 10000000 * 0.03875 * 5\n",
        "11937500.0\n",
        "소수점 이하는 필요 없지만 지금은 그대로 둘게요.\n",
        "\n",
        "원금(Principal), 이율(rate), 기간(time)이 주어졌을 때, 이자(Interest)를 구하는 공식은 다음과 같습니다.\n",
        "\n",
        "I=Prt\n",
        "그리고 원리금(Amount)을 구하는 공식은 다음과 같습니다.\n",
        "\n",
        "A=P(1+rt)\n",
        "===========================================================================================================================\n",
        "===========================================================================================================================\n",
        "문제 1\n",
        "원금(p), 단리 이율(r), 기간(t)이 주어졌을 때 이자를 구하는 함수 simple_interest()를 작성하세요.\n",
        "\n",
        "예1\n",
        ">>> simple_interest(10000000, 0.03875, 5)\n",
        "1937500.0\n",
        "예2\n",
        ">>> simple_interest(1100000, 0.05, 5/12)\n",
        "22916.666666666668\n",
        "===========================================================================================================================\n",
        "===========================================================================================================================\n",
        "문제 2\n",
        "원금(p), 단리 이율(r), 기간(t)이 주어졌을 때 원리금을 계산하는 함수 simple_interest_amount()를 작성하세요.\n",
        "\n",
        "예1\n",
        ">>> simple_interest_amount(10000000, 0.03875, 5)\n",
        "11937500.0\n",
        "예2\n",
        ">>> simple_interest_amount(1100000, 0.05, 5/12)\n",
        "1122916.6666666665\n",
        "'''\n",
        "def simple_interest(p, r, t):\n",
        "    result = p * r * t\n",
        "    return result\n",
        "def simple_interest_amount(p, r, t):\n",
        "    result = (p * r * t) + p\n",
        "    return result\n",
        "\n",
        "print(simple_interest(10000000, 0.03875, 5))\n",
        "print(simple_interest(1100000, 0.05, 5/12))\n",
        "print(simple_interest_amount(10000000, 0.03875, 5))\n",
        "print(simple_interest_amount(1100000, 0.05, 5/12))"
      ],
      "execution_count": null,
      "outputs": [
        {
          "output_type": "stream",
          "text": [
            "1937500.0\n",
            "22916.666666666668\n",
            "11937500.0\n",
            "1122916.6666666667\n"
          ],
          "name": "stdout"
        }
      ]
    },
    {
      "cell_type": "code",
      "metadata": {
        "id": "oGRsv63twRwd",
        "colab": {
          "base_uri": "https://localhost:8080/"
        },
        "outputId": "e52b9159-c94f-47e8-9d68-d549f20cf4c2"
      },
      "source": [
        "r = 0.043\n",
        "n = 4\n",
        "\n",
        "1500000 * (1 + r / n)"
      ],
      "execution_count": null,
      "outputs": [
        {
          "output_type": "execute_result",
          "data": {
            "text/plain": [
              "1516125.0"
            ]
          },
          "metadata": {
            "tags": []
          },
          "execution_count": 12
        }
      ]
    },
    {
      "cell_type": "code",
      "metadata": {
        "id": "IXHKSr_r0OCD",
        "colab": {
          "base_uri": "https://localhost:8080/"
        },
        "outputId": "9b1cc69f-f0f2-49d0-904d-813b8519a607"
      },
      "source": [
        "_ * (1 + r / n )"
      ],
      "execution_count": null,
      "outputs": [
        {
          "output_type": "execute_result",
          "data": {
            "text/plain": [
              "1532423.34375"
            ]
          },
          "metadata": {
            "tags": []
          },
          "execution_count": 13
        }
      ]
    },
    {
      "cell_type": "code",
      "metadata": {
        "id": "yz_4RqTZ0chl",
        "colab": {
          "base_uri": "https://localhost:8080/"
        },
        "outputId": "8afcb9f9-e004-4b34-b4d7-88becf944450"
      },
      "source": [
        "_ * (1 + r / n )"
      ],
      "execution_count": null,
      "outputs": [
        {
          "output_type": "execute_result",
          "data": {
            "text/plain": [
              "1548896.8946953125"
            ]
          },
          "metadata": {
            "tags": []
          },
          "execution_count": 14
        }
      ]
    },
    {
      "cell_type": "code",
      "metadata": {
        "id": "Z97VNTtG0c2k",
        "colab": {
          "base_uri": "https://localhost:8080/"
        },
        "outputId": "a2d0aa65-eef4-457c-dd90-1eff6adb1500"
      },
      "source": [
        "_ * (1 + r / n )"
      ],
      "execution_count": null,
      "outputs": [
        {
          "output_type": "execute_result",
          "data": {
            "text/plain": [
              "1565547.5363132872"
            ]
          },
          "metadata": {
            "tags": []
          },
          "execution_count": 15
        }
      ]
    },
    {
      "cell_type": "code",
      "metadata": {
        "id": "Mn3uWZwM0dLu",
        "colab": {
          "base_uri": "https://localhost:8080/"
        },
        "outputId": "615f5596-cc52-4804-bbc5-f832bdf7a698"
      },
      "source": [
        "p = 1500000\n",
        "r = 0.043\n",
        "t = 6\n",
        "n = 4\n",
        "p * (1 + r / n) ** (n * t)"
      ],
      "execution_count": null,
      "outputs": [
        {
          "output_type": "execute_result",
          "data": {
            "text/plain": [
              "1938836.8221341055"
            ]
          },
          "metadata": {
            "tags": []
          },
          "execution_count": 16
        }
      ]
    },
    {
      "cell_type": "code",
      "metadata": {
        "id": "el5bVf2X1IBt",
        "colab": {
          "base_uri": "https://localhost:8080/"
        },
        "outputId": "5a8ff4f8-033c-4dc6-f114-35d6d38c6def"
      },
      "source": [
        "'''\n",
        "문제\n",
        "복리 예금의 원금(p), 연이율(r), 기간(t), 복리 횟수(n)에 대한 원리금을 계산하는 함수 compound_interest_amount()를 작성하세요.\n",
        "\n",
        "예 1\n",
        "6년간 매분기 이자를 주는 경우(t=6, n=4)\n",
        "\n",
        ">>> compound_interest_amount(1500000, 0.043, 6, 4)\n",
        "1938836.8221341055\n",
        "예 2\n",
        "6년간 2년마다 이자를 주는 경우(t=6, n=1/2)\n",
        "\n",
        ">>> compound_interest_amount(1500000, 0.043, 6, 1/2)\n",
        "1921236.0840000005\n",
        "'''\n",
        "def compound_interest_amount(p, r, t, n):    \n",
        "    return p * (1 + r / n) ** (n * t)\n",
        "\n",
        "\n",
        "print(compound_interest_amount(1500000, 0.043, 6, 4))   #6년간 매분기 이자를 주는 경우(t=6, n=4)\n",
        "print(compound_interest_amount(1500000, 0.043, 6, 0.5)) #6년간 2년마다 이자를 주는 경우(t=6, n=1/2)"
      ],
      "execution_count": null,
      "outputs": [
        {
          "output_type": "stream",
          "text": [
            "1938836.8221341055\n",
            "1921236.0840000005\n"
          ],
          "name": "stdout"
        }
      ]
    },
    {
      "cell_type": "code",
      "metadata": {
        "id": "mzZgrrXs1nL8"
      },
      "source": [
        "jjang = 'eh'"
      ],
      "execution_count": null,
      "outputs": []
    },
    {
      "cell_type": "code",
      "metadata": {
        "id": "1c9G7Ahl54fv"
      },
      "source": [
        "jjang = 'me'"
      ],
      "execution_count": null,
      "outputs": []
    },
    {
      "cell_type": "code",
      "metadata": {
        "id": "20hUMBwu6OTh",
        "colab": {
          "base_uri": "https://localhost:8080/",
          "height": 35
        },
        "outputId": "c2e941f1-01d3-4e82-a4b4-205ce1ffa898"
      },
      "source": [
        "jjang"
      ],
      "execution_count": null,
      "outputs": [
        {
          "output_type": "execute_result",
          "data": {
            "application/vnd.google.colaboratory.intrinsic+json": {
              "type": "string"
            },
            "text/plain": [
              "'me'"
            ]
          },
          "metadata": {
            "tags": []
          },
          "execution_count": 25
        }
      ]
    },
    {
      "cell_type": "code",
      "metadata": {
        "id": "k8ahcSKq6Pf-",
        "colab": {
          "base_uri": "https://localhost:8080/"
        },
        "outputId": "193ca357-1b64-4007-d17d-08398e2dd7c9"
      },
      "source": [
        "def ban():\n",
        "    jjang = '07'\n",
        "    print ('jjang = ', jjang)\n",
        "\n",
        "ban()"
      ],
      "execution_count": null,
      "outputs": [
        {
          "output_type": "stream",
          "text": [
            "jjang =  07\n"
          ],
          "name": "stdout"
        }
      ]
    },
    {
      "cell_type": "code",
      "metadata": {
        "id": "SW-kTQcM6hvV",
        "colab": {
          "base_uri": "https://localhost:8080/",
          "height": 35
        },
        "outputId": "e2c25df0-c680-43df-c8cd-1a4aed56fe51"
      },
      "source": [
        "jjang"
      ],
      "execution_count": null,
      "outputs": [
        {
          "output_type": "execute_result",
          "data": {
            "application/vnd.google.colaboratory.intrinsic+json": {
              "type": "string"
            },
            "text/plain": [
              "'me'"
            ]
          },
          "metadata": {
            "tags": []
          },
          "execution_count": 29
        }
      ]
    },
    {
      "cell_type": "code",
      "metadata": {
        "id": "4db9A0rN6lh_",
        "colab": {
          "base_uri": "https://localhost:8080/",
          "height": 226
        },
        "outputId": "7c638662-e94a-4a40-e38d-18d99979ffcb"
      },
      "source": [
        "'''\n",
        "ban() 함수 안에서 jjang = '07'이라고 하면 jjang이란 변수를 새로 만드는 거구요, 기존의 jjang에는 영향을 미치지 않습니다. 그리고, ban 함수가 끝날 땐 그 함수 내에서 만들었던 변수들은 모두 없어지는 거죠.\n",
        "\n",
        "이와 같이 함수 안에서 만들어진 변수를 지역변수라고 하고, 함수 밖에서 만들어진 변수를 전역변수라고 합니다. 지역변수는 함수가 호출되면 만들어져서, 함수의 실행이 끝날 때 함께 없어지는 반면, 전역변수는 함수와는 관계없이 항상 꿋꿋이 지구를 지킨답니다. 그래서 영어로 전역변수를 global이라는 말로 표현하지용…\n",
        "\n",
        "지역변수를 함수 밖에서 한번 불러볼까요?\n",
        "'''\n",
        "def d_is_ten():\n",
        "    d = 10\n",
        "    print('d 값은 ', d,'입니다')\n",
        "\n",
        "d_is_ten()\n",
        "print(d)    #지역변수를 함수 밖에서 호출하여 정의되지 않았다고 표시됌"
      ],
      "execution_count": null,
      "outputs": [
        {
          "output_type": "stream",
          "text": [
            "d 값은  10 입니다\n"
          ],
          "name": "stdout"
        },
        {
          "output_type": "error",
          "ename": "NameError",
          "evalue": "ignored",
          "traceback": [
            "\u001b[0;31m---------------------------------------------------------------------------\u001b[0m",
            "\u001b[0;31mNameError\u001b[0m                                 Traceback (most recent call last)",
            "\u001b[0;32m<ipython-input-32-50ec296353c7>\u001b[0m in \u001b[0;36m<module>\u001b[0;34m()\u001b[0m\n\u001b[1;32m     11\u001b[0m \u001b[0;34m\u001b[0m\u001b[0m\n\u001b[1;32m     12\u001b[0m \u001b[0md_is_ten\u001b[0m\u001b[0;34m(\u001b[0m\u001b[0;34m)\u001b[0m\u001b[0;34m\u001b[0m\u001b[0;34m\u001b[0m\u001b[0m\n\u001b[0;32m---> 13\u001b[0;31m \u001b[0mprint\u001b[0m\u001b[0;34m(\u001b[0m\u001b[0md\u001b[0m\u001b[0;34m)\u001b[0m\u001b[0;34m\u001b[0m\u001b[0;34m\u001b[0m\u001b[0m\n\u001b[0m",
            "\u001b[0;31mNameError\u001b[0m: name 'd' is not defined"
          ]
        }
      ]
    },
    {
      "cell_type": "code",
      "metadata": {
        "id": "a5v4Pcpf60oB",
        "colab": {
          "base_uri": "https://localhost:8080/"
        },
        "outputId": "4dac8ef0-2649-4a50-da64-0504651942f8"
      },
      "source": [
        "x = 10\n",
        "def printx():\n",
        "    print(x)\n",
        "\n",
        "printx()\n",
        "\n",
        "'''\n",
        "전역변수는 프로그램이 복잡해질수록 골치거리가 된답니다. \n",
        "다른 엉뚱한 함수 때문에 변수의 값이 바뀌어버리는 수가 종종 있거든요. \n",
        "그래서 필요에 따라 지역변수와 전역변수를 골라 쓰는 것이 좋답니다.\n",
        "'''\n",
        "\n",
        "def e_is_10():\n",
        "    global e    #글로벌(전역변수)로 사용하겠다고 선언\n",
        "    e = 10\n",
        "    print('e 값은', e,'입니다')\n",
        "\n",
        "e_is_10()"
      ],
      "execution_count": null,
      "outputs": [
        {
          "output_type": "stream",
          "text": [
            "10\n",
            "e 값은 10 입니다\n"
          ],
          "name": "stdout"
        }
      ]
    },
    {
      "cell_type": "code",
      "metadata": {
        "id": "jIDNqTz27a2l",
        "colab": {
          "base_uri": "https://localhost:8080/"
        },
        "outputId": "f7985812-e2fd-4e4f-a33f-7b8722a389d7"
      },
      "source": [
        "e"
      ],
      "execution_count": null,
      "outputs": [
        {
          "output_type": "execute_result",
          "data": {
            "text/plain": [
              "10"
            ]
          },
          "metadata": {
            "tags": []
          },
          "execution_count": 43
        }
      ]
    },
    {
      "cell_type": "code",
      "metadata": {
        "id": "tHP1wTTj81JT",
        "colab": {
          "base_uri": "https://localhost:8080/"
        },
        "outputId": "0acc832d-3a9e-426f-8b3a-2a4d7571a89d"
      },
      "source": [
        "def hap(x, y):\n",
        "    return x + y\n",
        "\n",
        "hap(1,2)"
      ],
      "execution_count": null,
      "outputs": [
        {
          "output_type": "execute_result",
          "data": {
            "text/plain": [
              "3"
            ]
          },
          "metadata": {
            "tags": []
          },
          "execution_count": 44
        }
      ]
    },
    {
      "cell_type": "code",
      "metadata": {
        "id": "8WfSCJgA9QDY",
        "colab": {
          "base_uri": "https://localhost:8080/"
        },
        "outputId": "8993d5ad-332b-4b02-f417-adc254cc7b54"
      },
      "source": [
        "(lambda x,y: x + y)(1, 2)"
      ],
      "execution_count": null,
      "outputs": [
        {
          "output_type": "execute_result",
          "data": {
            "text/plain": [
              "3"
            ]
          },
          "metadata": {
            "tags": []
          },
          "execution_count": 45
        }
      ]
    },
    {
      "cell_type": "code",
      "metadata": {
        "id": "OFW5yWLD9S8X",
        "colab": {
          "base_uri": "https://localhost:8080/"
        },
        "outputId": "c6b32767-b087-421c-fb6b-ddf6b68b51c5"
      },
      "source": [
        "#map(함수, 리스트) map() 함수는 함수와 리스트를 인자로 받음\n",
        "list(map(lambda x: x ** 2, range(5))) \n",
        "'''\n",
        "map() 함수는 리스트에서 원소를 하나씩 꺼내서 함수를 적용시킨 결과를 새로운 리스트에 담아줌\n",
        "위의 예제는 0을 제곱하고, 1을 제곱하고, 2, 3, 4를 제곱한 것을 새로운 리스트에 넣어준 것\n",
        "'''\n"
      ],
      "execution_count": null,
      "outputs": [
        {
          "output_type": "execute_result",
          "data": {
            "text/plain": [
              "[0, 1, 4, 9, 16]"
            ]
          },
          "metadata": {
            "tags": []
          },
          "execution_count": 46
        }
      ]
    },
    {
      "cell_type": "code",
      "metadata": {
        "id": "BX6mOLup9ryu",
        "colab": {
          "base_uri": "https://localhost:8080/"
        },
        "outputId": "c238e4ed-40b9-4176-de9b-27e049d210f2"
      },
      "source": [
        "#reduce(함수, 순서형 자료) reduce() 함수는 함수의 인자들을 누적시킴\n",
        "from functools import reduce\n",
        "print(reduce(lambda x, y: x + y, [0, 1, 2, 3, 4]))  #각각 더해줌\n",
        "print(reduce(lambda x, y: y + x, 'abcde'))  #서순 시켜줌"
      ],
      "execution_count": null,
      "outputs": [
        {
          "output_type": "stream",
          "text": [
            "10\n",
            "edcba\n"
          ],
          "name": "stdout"
        }
      ]
    },
    {
      "cell_type": "code",
      "metadata": {
        "id": "AhRsi-x5_yJv",
        "colab": {
          "base_uri": "https://localhost:8080/"
        },
        "outputId": "3b39ad68-bfee-422d-f6c2-fd0c5764db1a"
      },
      "source": [
        "#filter(함수, 리스트) filter() 함수는 리스트에 있는 원소들을 함수에 적용시켜 결과값이 '참'인 값들을 새로운 리스트로 만듬\n",
        "list(filter(lambda x: x < 5, range(10)))\n"
      ],
      "execution_count": null,
      "outputs": [
        {
          "output_type": "execute_result",
          "data": {
            "text/plain": [
              "[0, 1, 2, 3, 4]"
            ]
          },
          "metadata": {
            "tags": []
          },
          "execution_count": 51
        }
      ]
    },
    {
      "cell_type": "code",
      "metadata": {
        "id": "6sAnR-seBgm1",
        "colab": {
          "base_uri": "https://localhost:8080/"
        },
        "outputId": "178a7a59-35ca-417b-db45-6742c84d9344"
      },
      "source": [
        "print(list(filter(lambda x:x % 2, range(25))))\n",
        "print(list(filter(lambda x:x % 2 == 0, range(25))))\n"
      ],
      "execution_count": null,
      "outputs": [
        {
          "output_type": "stream",
          "text": [
            "[1, 3, 5, 7, 9, 11, 13, 15, 17, 19, 21, 23]\n",
            "[0, 2, 4, 6, 8, 10, 12, 14, 16, 18, 20, 22, 24]\n"
          ],
          "name": "stdout"
        }
      ]
    },
    {
      "cell_type": "code",
      "metadata": {
        "id": "MSknMnneBq6G"
      },
      "source": [
        "#21.05.23 주말이라 어제 못한 3과 마무리를 개인정비 시간을 통해서 복습겸 원래 해야할 만큼 더 풀었음 ㅇㅇ!"
      ],
      "execution_count": null,
      "outputs": []
    },
    {
      "cell_type": "code",
      "metadata": {
        "id": "XfPR2GcSCO4X"
      },
      "source": [
        "#오늘 저녁엔 1시간은 파이썬 공부 후에 AWS-CLF-Practitioner 자격증 공부를 1시간 하고 마무리 할 듯\n",
        "#새벽 불침번 셋번이라 좀 피곤할꺼 같긴 한데 그래도 하고 자려함 ㅂㄷㅂㄷ"
      ],
      "execution_count": null,
      "outputs": []
    },
    {
      "cell_type": "code",
      "metadata": {
        "id": "CnrEPcr3CjgR"
      },
      "source": [
        ""
      ],
      "execution_count": null,
      "outputs": []
    }
  ]
}