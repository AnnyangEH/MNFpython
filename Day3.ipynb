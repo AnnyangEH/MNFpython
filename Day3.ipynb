{
  "nbformat": 4,
  "nbformat_minor": 0,
  "metadata": {
    "colab": {
      "name": "Day3",
      "provenance": [],
      "collapsed_sections": [],
      "authorship_tag": "ABX9TyPQuk+WO4bD2ITkudMKGXlY",
      "include_colab_link": true
    },
    "kernelspec": {
      "name": "python3",
      "display_name": "Python 3"
    },
    "language_info": {
      "name": "python"
    }
  },
  "cells": [
    {
      "cell_type": "markdown",
      "metadata": {
        "id": "view-in-github",
        "colab_type": "text"
      },
      "source": [
        "<a href=\"https://colab.research.google.com/github/AnnyangEH/MNFpython/blob/main/Day3.ipynb\" target=\"_parent\"><img src=\"https://colab.research.google.com/assets/colab-badge.svg\" alt=\"Open In Colab\"/></a>"
      ]
    },
    {
      "cell_type": "code",
      "metadata": {
        "id": "k0ermfXja2LD"
      },
      "source": [
        "\"\"\"\n",
        "7일 동안 파이썬 마스터하기! 도전 3일차(21.05.22)\n",
        "'왕초보를 위한 Python'의 wikidocs 를 통해서 공부합니당\n",
        "첫 단계인 만큼 추후 목표는 머신러닝을 파이썬을 통해 공부할 것이고\n",
        "7일 동안 파이썬과 익숙해지면 나만의 게임도 만들거임\n",
        "\"\"\"\n",
        "#3일차"
      ],
      "execution_count": null,
      "outputs": []
    },
    {
      "cell_type": "code",
      "metadata": {
        "id": "dkIpARf9bcxE"
      },
      "source": [
        ""
      ],
      "execution_count": null,
      "outputs": []
    }
  ]
}