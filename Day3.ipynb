{
  "nbformat": 4,
  "nbformat_minor": 0,
  "metadata": {
    "colab": {
      "name": "Day3",
      "provenance": [],
      "collapsed_sections": [],
      "authorship_tag": "ABX9TyOpNl+C/+e8toajvxdawcHF",
      "include_colab_link": true
    },
    "kernelspec": {
      "name": "python3",
      "display_name": "Python 3"
    },
    "language_info": {
      "name": "python"
    }
  },
  "cells": [
    {
      "cell_type": "markdown",
      "metadata": {
        "id": "view-in-github",
        "colab_type": "text"
      },
      "source": [
        "<a href=\"https://colab.research.google.com/github/AnnyangEH/MNFpython/blob/main/Day3.ipynb\" target=\"_parent\"><img src=\"https://colab.research.google.com/assets/colab-badge.svg\" alt=\"Open In Colab\"/></a>"
      ]
    },
    {
      "cell_type": "code",
      "metadata": {
        "id": "k0ermfXja2LD"
      },
      "source": [
        "\"\"\"\n",
        "7일 동안 파이썬 마스터하기! 도전 3일차(21.05.22)\n",
        "'왕초보를 위한 Python'의 wikidocs 를 통해서 공부합니당\n",
        "첫 단계인 만큼 추후 목표는 머신러닝을 파이썬을 통해 공부할 것이고\n",
        "7일 동안 파이썬과 익숙해지면 나만의 게임도 만들거임\n",
        "\"\"\"\n",
        "#3일차는 함수를 배우는 날임"
      ],
      "execution_count": null,
      "outputs": []
    },
    {
      "cell_type": "code",
      "metadata": {
        "id": "dkIpARf9bcxE",
        "colab": {
          "base_uri": "https://localhost:8080/"
        },
        "outputId": "1f3bd238-2d07-46a2-cb53-eff5f8b53620"
      },
      "source": [
        "a = [3, 4, 62, 27, 83, 956, 26, 58, 3, 78, 168, 64, 78]\n",
        "\n",
        "len([1, 2, 3, 4, 5]) #len() 도 리스트의 크기를 알려주는 함수임!\n"
      ],
      "execution_count": 2,
      "outputs": [
        {
          "output_type": "execute_result",
          "data": {
            "text/plain": [
              "5"
            ]
          },
          "metadata": {
            "tags": []
          },
          "execution_count": 2
        }
      ]
    },
    {
      "cell_type": "code",
      "metadata": {
        "colab": {
          "base_uri": "https://localhost:8080/"
        },
        "id": "1yIGmh19M7RW",
        "outputId": "b7057b5f-3cab-46ea-a196-59785c290221"
      },
      "source": [
        "len(a)"
      ],
      "execution_count": 3,
      "outputs": [
        {
          "output_type": "execute_result",
          "data": {
            "text/plain": [
              "13"
            ]
          },
          "metadata": {
            "tags": []
          },
          "execution_count": 3
        }
      ]
    },
    {
      "cell_type": "code",
      "metadata": {
        "id": "Odx-6S_wNBFW"
      },
      "source": [
        "def print_list(x): #함수의 이름을 정해주고 x 는 매개변수 \n",
        "    for i in x:\n",
        "        print(i)"
      ],
      "execution_count": 6,
      "outputs": []
    },
    {
      "cell_type": "code",
      "metadata": {
        "colab": {
          "base_uri": "https://localhost:8080/"
        },
        "id": "cqQMgzfHOWTz",
        "outputId": "33fdc164-2b29-491f-f57d-71c308d15bf6"
      },
      "source": [
        "print_list(a)"
      ],
      "execution_count": 7,
      "outputs": [
        {
          "output_type": "stream",
          "text": [
            "3\n",
            "4\n",
            "62\n",
            "27\n",
            "83\n",
            "956\n",
            "26\n",
            "58\n",
            "3\n",
            "78\n",
            "168\n",
            "64\n",
            "78\n"
          ],
          "name": "stdout"
        }
      ]
    },
    {
      "cell_type": "code",
      "metadata": {
        "id": "AnpGOrOwObS7"
      },
      "source": [
        "def zico():\n",
        "    print('I am a boy')\n",
        "    print('but u r a girl')"
      ],
      "execution_count": 8,
      "outputs": []
    },
    {
      "cell_type": "code",
      "metadata": {
        "colab": {
          "base_uri": "https://localhost:8080/"
        },
        "id": "v5DkLG-0OwWG",
        "outputId": "62920946-a0bc-491f-ddbf-68a284ccb1a5"
      },
      "source": [
        "zico()"
      ],
      "execution_count": 9,
      "outputs": [
        {
          "output_type": "stream",
          "text": [
            "I am a boy\n",
            "but u r a girl\n"
          ],
          "name": "stdout"
        }
      ]
    },
    {
      "cell_type": "code",
      "metadata": {
        "id": "E2i7QFIhOw87"
      },
      "source": [
        "'''\n",
        "문제!\n",
        "자, 이번엔 여러분이 직접 만들어볼 차례입니다. a와 b 가운데 a가 크면 'a > b'라고 표시하고, b가 크면 'a < b', 두 숫자가 같으면 'a == b'라고 표시하는 함수를 만들어 보세요. \n",
        "이 함수는 매개변수 두 개를 필요로 합니다. 함수를 만들 때 괄호 안에 (x, y)와 같은 형식으로 해주면 되겠죠? 답 다 가르쳐 드렸네요.^^\n",
        "'''\n",
        "def ab(x, y):\n",
        "    if x > y:\n",
        "        print('a > b')\n",
        "    elif x < y:\n",
        "        print('a < b')\n",
        "    else:\n",
        "        print('a == b')\n"
      ],
      "execution_count": 10,
      "outputs": []
    },
    {
      "cell_type": "code",
      "metadata": {
        "colab": {
          "base_uri": "https://localhost:8080/"
        },
        "id": "0ffnX9vkSfBt",
        "outputId": "22cf3768-f1fd-4e31-9fd8-189e45acedb9"
      },
      "source": [
        "ab(1, 2)"
      ],
      "execution_count": 11,
      "outputs": [
        {
          "output_type": "stream",
          "text": [
            "a < b\n"
          ],
          "name": "stdout"
        }
      ]
    },
    {
      "cell_type": "code",
      "metadata": {
        "colab": {
          "base_uri": "https://localhost:8080/"
        },
        "id": "xmRQmwr1ShML",
        "outputId": "c7f3f12a-c4c0-4dba-e7a9-f5477fa785ad"
      },
      "source": [
        "ab(3,2)"
      ],
      "execution_count": 12,
      "outputs": [
        {
          "output_type": "stream",
          "text": [
            "a > b\n"
          ],
          "name": "stdout"
        }
      ]
    },
    {
      "cell_type": "code",
      "metadata": {
        "colab": {
          "base_uri": "https://localhost:8080/"
        },
        "id": "58D3BMe2SkVc",
        "outputId": "7e8b075a-ed7f-469d-a290-74430369f8ed"
      },
      "source": [
        "ab(3,3)"
      ],
      "execution_count": 13,
      "outputs": [
        {
          "output_type": "stream",
          "text": [
            "a == b\n"
          ],
          "name": "stdout"
        }
      ]
    },
    {
      "cell_type": "code",
      "metadata": {
        "id": "3XuLqpC9SlK3"
      },
      "source": [
        "'''\n",
        "연습 문제: 구구단\n",
        "\n",
        "다음 예와 같이 구구단을 2단부터 9단까지 계산해서 출력하는 프로그램을 짜보세요. \n",
        "지금까지 배운 내용만 제대로 이해하시면 충분히 하실 수 있답니다.\n",
        "'''\n",
        "def gugu(x):\n",
        "    for y in range(1,10):\n",
        "        print(f'{x} * {y} = {x * y:2d}')"
      ],
      "execution_count": 62,
      "outputs": []
    },
    {
      "cell_type": "code",
      "metadata": {
        "colab": {
          "base_uri": "https://localhost:8080/"
        },
        "id": "hAkh8VMdUk3R",
        "outputId": "fc002280-2d35-4225-cec0-eb714770e103"
      },
      "source": [
        "gugu(3)"
      ],
      "execution_count": 63,
      "outputs": [
        {
          "output_type": "stream",
          "text": [
            "3 * 1 =  3\n",
            "3 * 2 =  6\n",
            "3 * 3 =  9\n",
            "3 * 4 = 12\n",
            "3 * 5 = 15\n",
            "3 * 6 = 18\n",
            "3 * 7 = 21\n",
            "3 * 8 = 24\n",
            "3 * 9 = 27\n"
          ],
          "name": "stdout"
        }
      ]
    },
    {
      "cell_type": "code",
      "metadata": {
        "id": "3k2FrriOUleO"
      },
      "source": [
        "def autogugu():\n",
        "    for x in range(2, 10):\n",
        "        for y in range(1, 10):\n",
        "            print(f'{x} * {y} = {x * y:2d}')\n",
        "        print()"
      ],
      "execution_count": 67,
      "outputs": []
    },
    {
      "cell_type": "code",
      "metadata": {
        "id": "JV1bjKwdY_Nl"
      },
      "source": [
        "autogugu()"
      ],
      "execution_count": null,
      "outputs": []
    },
    {
      "cell_type": "code",
      "metadata": {
        "colab": {
          "base_uri": "https://localhost:8080/"
        },
        "id": "cCndk7MuZVqw",
        "outputId": "666a7f7a-d0ec-4c4d-f54e-4e7f8761e33a"
      },
      "source": [
        "def f1(x):\n",
        "    a = 3\n",
        "    b = 5\n",
        "    y = a * x + b\n",
        "    return y    #y 값을 반환한다\n",
        "\n",
        "c = f1(10)      #c = 35\n",
        "print(c)"
      ],
      "execution_count": 70,
      "outputs": [
        {
          "output_type": "stream",
          "text": [
            "35\n"
          ],
          "name": "stdout"
        }
      ]
    },
    {
      "cell_type": "code",
      "metadata": {
        "colab": {
          "base_uri": "https://localhost:8080/"
        },
        "id": "B3gNZPI2ZxtS",
        "outputId": "f2f1d32c-123c-43b3-fc1b-54faa87482a1"
      },
      "source": [
        "def f2(x):\n",
        "    a = 3\n",
        "    b = 5\n",
        "    y = a * x + b\n",
        "    print(y)    #y 값을 출력한다.\n",
        "\n",
        "d = f2(10)      # d = ?\n",
        "print(d)"
      ],
      "execution_count": 71,
      "outputs": [
        {
          "output_type": "stream",
          "text": [
            "35\n",
            "None\n"
          ],
          "name": "stdout"
        }
      ]
    },
    {
      "cell_type": "code",
      "metadata": {
        "id": "NQPF7LEQae2Q"
      },
      "source": [
        "'''\n",
        "삼각형의 넓이를 구하는 함수를 만들어보세요.\n",
        "\n",
        "함수의 인자로는 삼각형의 밑변과 높이가 주어지고, 반환(return) 값은 삼각형의 넓이가 되는 겁니다. 간단하겠죠?\n",
        "\n",
        "문제를 풀어보신 분께는 신기한 것을 하나 알려드리겠습니다.\n",
        "\n",
        "아직 안 풀어보셨으면 빨리 해보세요.\n",
        "'''\n",
        "def tri(x, y):\n",
        "    n = (x * y)/2\n",
        "    return n"
      ],
      "execution_count": 72,
      "outputs": []
    },
    {
      "cell_type": "code",
      "metadata": {
        "colab": {
          "base_uri": "https://localhost:8080/"
        },
        "id": "peWW0VTObEPf",
        "outputId": "b2c6eb29-ade1-4643-f1ad-edec079fe75e"
      },
      "source": [
        "a = tri(5, 10)\n",
        "print(a)"
      ],
      "execution_count": 76,
      "outputs": [
        {
          "output_type": "stream",
          "text": [
            "25.0\n"
          ],
          "name": "stdout"
        }
      ]
    },
    {
      "cell_type": "code",
      "metadata": {
        "colab": {
          "base_uri": "https://localhost:8080/"
        },
        "id": "xYQ_5EymbZBc",
        "outputId": "f9bf56d2-fa54-447a-dc78-8b9df9f78ac1"
      },
      "source": [
        "1 + 2 == 0"
      ],
      "execution_count": 77,
      "outputs": [
        {
          "output_type": "execute_result",
          "data": {
            "text/plain": [
              "False"
            ]
          },
          "metadata": {
            "tags": []
          },
          "execution_count": 77
        }
      ]
    },
    {
      "cell_type": "code",
      "metadata": {
        "colab": {
          "base_uri": "https://localhost:8080/"
        },
        "id": "N3_R4jSxbZwS",
        "outputId": "dfef22b1-8c87-457b-f258-5b62bee6475b"
      },
      "source": [
        "1 + 1 == 2"
      ],
      "execution_count": 78,
      "outputs": [
        {
          "output_type": "execute_result",
          "data": {
            "text/plain": [
              "True"
            ]
          },
          "metadata": {
            "tags": []
          },
          "execution_count": 78
        }
      ]
    },
    {
      "cell_type": "code",
      "metadata": {
        "colab": {
          "base_uri": "https://localhost:8080/"
        },
        "id": "zYGVJdOWbb7M",
        "outputId": "2f2c71f5-a3dd-4471-900f-bce5a7ce433a"
      },
      "source": [
        "if 1 + 1 == 2:\n",
        "    print('yes')\n",
        "else:\n",
        "    print('no')"
      ],
      "execution_count": 79,
      "outputs": [
        {
          "output_type": "stream",
          "text": [
            "yes\n"
          ],
          "name": "stdout"
        }
      ]
    },
    {
      "cell_type": "code",
      "metadata": {
        "id": "xTjMlQSjbksD"
      },
      "source": [
        "def quiz():\n",
        "    ans = input('1 + 2 = ')\n",
        "    return 1 + 2 == int(ans)    #답을 맞히면 True를 돌려주고, 틀리면 False를 돌려줌"
      ],
      "execution_count": 80,
      "outputs": []
    },
    {
      "cell_type": "code",
      "metadata": {
        "colab": {
          "base_uri": "https://localhost:8080/"
        },
        "id": "HGVAFYVWb_T0",
        "outputId": "54dd9a5a-d1ff-47e9-c5ae-9fa4cd487495"
      },
      "source": [
        "quiz()"
      ],
      "execution_count": 81,
      "outputs": [
        {
          "output_type": "stream",
          "text": [
            "1 + 2 = 3\n"
          ],
          "name": "stdout"
        },
        {
          "output_type": "execute_result",
          "data": {
            "text/plain": [
              "True"
            ]
          },
          "metadata": {
            "tags": []
          },
          "execution_count": 81
        }
      ]
    },
    {
      "cell_type": "code",
      "metadata": {
        "colab": {
          "base_uri": "https://localhost:8080/"
        },
        "id": "YfNZRXCdb_2c",
        "outputId": "cf5ceb4a-6fd9-4046-ee4c-0c305900e40a"
      },
      "source": [
        "quiz()"
      ],
      "execution_count": 82,
      "outputs": [
        {
          "output_type": "stream",
          "text": [
            "1 + 2 = 4\n"
          ],
          "name": "stdout"
        },
        {
          "output_type": "execute_result",
          "data": {
            "text/plain": [
              "False"
            ]
          },
          "metadata": {
            "tags": []
          },
          "execution_count": 82
        }
      ]
    },
    {
      "cell_type": "code",
      "metadata": {
        "id": "zQeOIuEhcB4Q"
      },
      "source": [
        "'''\n",
        "연습 문제: 숫자 읽기 함수(1~10)\n",
        "\n",
        "매개변수로 받은 정수를 한국어로 표기한 문자열을 반환하는 함수 korean_number()를 정의하세요. \n",
        "단, 매개변수는 1 이상 10 이하의 정수라고 가정합니다.\n",
        "'''\n",
        "def korean_number():\n",
        "    x = int(input())\n",
        "    plist = ['하나','둘','삼','넷','오','여섯','칠','팔','아홉','공']   #포병의 자부심으로 포병숫자로 씀 ㅋㅋ\n",
        "    for i in range(11):\n",
        "        if x >= 11 or x < 0:\n",
        "            return print('올바른 숫자를 입력해주세요')\n",
        "            break\n",
        "        elif x - 1 == i:\n",
        "            return plist[i]\n",
        "        else:\n",
        "            i += 1"
      ],
      "execution_count": 145,
      "outputs": []
    },
    {
      "cell_type": "code",
      "metadata": {
        "colab": {
          "base_uri": "https://localhost:8080/",
          "height": 53
        },
        "id": "VbTUrYrYf4uM",
        "outputId": "33573a98-459e-4f45-f0b6-bc4e2a8db998"
      },
      "source": [
        "korean_number()"
      ],
      "execution_count": 149,
      "outputs": [
        {
          "output_type": "stream",
          "text": [
            "10\n"
          ],
          "name": "stdout"
        },
        {
          "output_type": "execute_result",
          "data": {
            "application/vnd.google.colaboratory.intrinsic+json": {
              "type": "string"
            },
            "text/plain": [
              "'공'"
            ]
          },
          "metadata": {
            "tags": []
          },
          "execution_count": 149
        }
      ]
    },
    {
      "cell_type": "code",
      "metadata": {
        "colab": {
          "base_uri": "https://localhost:8080/",
          "height": 35
        },
        "id": "Cp6SYRYjhpIl",
        "outputId": "f5f5d39b-d169-42f0-a66a-4b8d4048fd6b"
      },
      "source": [
        "'''\n",
        "연습 문제: 함수 정의하기\n",
        "\n",
        "문제 1\n",
        "다음 triple() 함수를 완성하세요.\n",
        "\n",
        ">>> def triple(x):\n",
        "...     ██████ █ █ █\n",
        "... \n",
        ">>> triple(2)\n",
        "6\n",
        ">>> triple('x')\n",
        "'xxx'\n",
        "'''\n",
        "\n",
        "def triple(x):\n",
        "    return x * 3\n",
        "\n",
        "triple(2)\n",
        "\n",
        "triple('x')"
      ],
      "execution_count": 153,
      "outputs": [
        {
          "output_type": "execute_result",
          "data": {
            "application/vnd.google.colaboratory.intrinsic+json": {
              "type": "string"
            },
            "text/plain": [
              "'xxx'"
            ]
          },
          "metadata": {
            "tags": []
          },
          "execution_count": 153
        }
      ]
    },
    {
      "cell_type": "code",
      "metadata": {
        "colab": {
          "base_uri": "https://localhost:8080/"
        },
        "id": "T0DPGsm6jJJ-",
        "outputId": "7a4d552e-8166-4078-ef81-2f39e658201f"
      },
      "source": [
        "'''\n",
        "문제 2\n",
        "오늘의 날짜 객체를 구하는 코드는 다음과 같습니다. (코드를 이해하지 못해도 이 문제를 풀 수 있습니다.)\n",
        "\n",
        ">>> from datetime import datetime\n",
        ">>> today = datetime.today()\n",
        ">>> today\n",
        "datetime.datetime(2021, 3, 21, 15, 46, 1, 94942)\n",
        "위 코드의 today에서 연도를 구하는 방법은 다음과 같습니다.\n",
        "\n",
        ">>> today.year\n",
        "2021\n",
        "태어난 해를 네 자리 숫자로 입력하면 한국 나이를 반환하는 함수 korean_age()를 작성하세요.\n",
        "'''\n",
        "\n",
        "from datetime import datetime\n",
        "\n",
        "def korean_age(x):\n",
        "    return print(f'{today.year - x + 1}살 입니다')\n",
        "\n",
        "korean_age(1973)"
      ],
      "execution_count": 163,
      "outputs": [
        {
          "output_type": "stream",
          "text": [
            "49살 입니다\n"
          ],
          "name": "stdout"
        }
      ]
    },
    {
      "cell_type": "code",
      "metadata": {
        "id": "nc4SKetbjeng"
      },
      "source": [
        ""
      ],
      "execution_count": null,
      "outputs": []
    }
  ]
}