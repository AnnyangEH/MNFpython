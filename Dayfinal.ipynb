{
  "nbformat": 4,
  "nbformat_minor": 0,
  "metadata": {
    "colab": {
      "name": "Dayfinal",
      "provenance": [],
      "toc_visible": true,
      "authorship_tag": "ABX9TyPWRH8HyDv0mcqXvk/mthtG",
      "include_colab_link": true
    },
    "kernelspec": {
      "name": "python3",
      "display_name": "Python 3"
    },
    "language_info": {
      "name": "python"
    }
  },
  "cells": [
    {
      "cell_type": "markdown",
      "metadata": {
        "id": "view-in-github",
        "colab_type": "text"
      },
      "source": [
        "<a href=\"https://colab.research.google.com/github/AnnyangEH/MNFpython/blob/main/Dayfinal.ipynb\" target=\"_parent\"><img src=\"https://colab.research.google.com/assets/colab-badge.svg\" alt=\"Open In Colab\"/></a>"
      ]
    },
    {
      "cell_type": "markdown",
      "metadata": {
        "id": "ezeCtYyb_YOT"
      },
      "source": [
        "#함수의 재귀(recursion)"
      ]
    },
    {
      "cell_type": "code",
      "metadata": {
        "colab": {
          "base_uri": "https://localhost:8080/"
        },
        "id": "CYWyzRbO_PEK",
        "outputId": "76fd7fc0-67fb-409f-9300-12df7321bafe"
      },
      "source": [
        "def hap(a, b):\n",
        "    print(a + b)\n",
        "hap(30, 5)"
      ],
      "execution_count": 2,
      "outputs": [
        {
          "output_type": "stream",
          "text": [
            "35\n"
          ],
          "name": "stdout"
        }
      ]
    },
    {
      "cell_type": "code",
      "metadata": {
        "colab": {
          "base_uri": "https://localhost:8080/"
        },
        "id": "GGOjj6cU_eYU",
        "outputId": "82e58e78-982b-45db-fde3-e7d7f20db59a"
      },
      "source": [
        "def gop(a, b):\n",
        "    print(a * b)\n",
        "gop(30,5)"
      ],
      "execution_count": 3,
      "outputs": [
        {
          "output_type": "stream",
          "text": [
            "150\n"
          ],
          "name": "stdout"
        }
      ]
    },
    {
      "cell_type": "code",
      "metadata": {
        "colab": {
          "base_uri": "https://localhost:8080/"
        },
        "id": "irltsY7G_nD-",
        "outputId": "00aa9f90-2b9f-4bed-ff68-9b798907d9ba"
      },
      "source": [
        "def hap_gop(a, b):\n",
        "    hap(a, b)\n",
        "    gop(a, b)\n",
        "hap_gop(30, 5)"
      ],
      "execution_count": 4,
      "outputs": [
        {
          "output_type": "stream",
          "text": [
            "35\n",
            "150\n"
          ],
          "name": "stdout"
        }
      ]
    },
    {
      "cell_type": "code",
      "metadata": {
        "colab": {
          "base_uri": "https://localhost:8080/"
        },
        "id": "gpRkMipw_vNU",
        "outputId": "ebcc1343-527c-45d8-f043-489281d5d080"
      },
      "source": [
        "def countdown(n):\n",
        "    if n == 0:\n",
        "        print(\"Blastoff!\")\n",
        "    else:\n",
        "        print(n)\n",
        "        countdown(n-1)\n",
        "countdown(10)"
      ],
      "execution_count": 6,
      "outputs": [
        {
          "output_type": "stream",
          "text": [
            "10\n",
            "9\n",
            "8\n",
            "7\n",
            "6\n",
            "5\n",
            "4\n",
            "3\n",
            "2\n",
            "1\n",
            "Blastoff!\n"
          ],
          "name": "stdout"
        }
      ]
    },
    {
      "cell_type": "markdown",
      "metadata": {
        "id": "Pyd-Q3yZ_5jj"
      },
      "source": [
        "#연습 문제: 각 자리 숫자의 합을 구하는 재귀 함수"
      ]
    },
    {
      "cell_type": "markdown",
      "metadata": {
        "id": "rJQ1872l_-bS"
      },
      "source": [
        "**문제1**\n",
        "\n",
        "어떤 수(number)의 각 자리 숫자(digit)의 합을 계산하는 sumOfDigits()라는 재귀\n",
        "\n",
        " 함수를 작성하자. 입력한 수를 읽어 sumOfDigits() 함수를 호출하며, 이 함수는\n",
        "\n",
        "  합산할 숫자가 남지 않을 때까지 자신을 호출해, 최종적인 합을 사용자에게 \n",
        "  표시한다.\n",
        "\n",
        "sumOfDigits()는 다음과 같은 원리로 작동한다.(주의: 실제 코드가 아님)\n",
        "\n",
        "sumOfDigits(6452) = 2 + sumOfDigits(645)\n",
        "\n",
        "sumOfDigits(645) = 5 + sumOfDigits(64)\n",
        "\n",
        "...\n",
        "\n",
        "sumOfDigits(6) = 6"
      ]
    },
    {
      "cell_type": "code",
      "metadata": {
        "id": "L0bhHZ1M_xWx"
      },
      "source": [
        "def sumOfDigits(x):\n",
        "    list(x)\n",
        "    "
      ],
      "execution_count": 11,
      "outputs": []
    },
    {
      "cell_type": "code",
      "metadata": {
        "colab": {
          "base_uri": "https://localhost:8080/"
        },
        "id": "cINIaEpTAVjN",
        "outputId": "4ebe2448-2c27-4975-de7a-9dee3d7a507e"
      },
      "source": [
        "sumOfDigits(123)"
      ],
      "execution_count": 13,
      "outputs": [
        {
          "output_type": "stream",
          "text": [
            "[0.0, 0.1, 0.2, 0.3, 0.4]\n"
          ],
          "name": "stdout"
        }
      ]
    },
    {
      "cell_type": "code",
      "metadata": {
        "id": "qA1Rczi7BYd0"
      },
      "source": [
        "#풀다가 귀찮음 그냥 파이썬 더 공부해야겠음 오늘은 이까지만 하고 알고리즘 풀이 하러감"
      ],
      "execution_count": null,
      "outputs": []
    }
  ]
}