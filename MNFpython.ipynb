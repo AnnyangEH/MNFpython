{
  "nbformat": 4,
  "nbformat_minor": 0,
  "metadata": {
    "colab": {
      "name": "MNFpython",
      "provenance": [],
      "collapsed_sections": []
    },
    "kernelspec": {
      "name": "python3",
      "display_name": "Python 3"
    },
    "language_info": {
      "name": "python"
    }
  },
  "cells": [
    {
      "cell_type": "code",
      "metadata": {
        "id": "iw45NF0f5nwZ",
        "colab": {
          "base_uri": "https://localhost:8080/",
          "height": 35
        },
        "outputId": "396fa18a-c5c5-4f5b-8e5b-619557f7c3e7"
      },
      "source": [
        "\"\"\"\n",
        "7일 동안 파이썬 마스터하기! 도전 (21.05.19)\n",
        "'왕초보를 위한 Python'의 wikidocs 를 통해서 공부합니당\n",
        "첫 단계인 만큼 추후 목표는 머신러닝을 파이썬을 통해 공부할 것이고\n",
        "7일 동안 파이썬과 익숙해지면 나만의 게임도 만들거임\n",
        "\"\"\""
      ],
      "execution_count": null,
      "outputs": [
        {
          "output_type": "execute_result",
          "data": {
            "application/vnd.google.colaboratory.intrinsic+json": {
              "type": "string"
            },
            "text/plain": [
              "\"\\n7일 동안 파이썬 마스터하기! 도전 (21.05.19)\\n'왕초보를 위한 Python'의 wikidocs 를 통해서 공부합니당\\n첫 단계인 만큼 추후 목표는 머신러닝을 파이썬을 통해 공부할 것이고\\n7일 동안 파이썬과 익숙해지면 나만의 게임도 만들거임\\n\""
            ]
          },
          "metadata": {
            "tags": []
          },
          "execution_count": 0
        }
      ]
    },
    {
      "cell_type": "code",
      "metadata": {
        "colab": {
          "base_uri": "https://localhost:8080/"
        },
        "id": "IV-ccDXO51sd",
        "outputId": "e31440ae-d7fa-4f28-fe75-b03e11ab4c43"
      },
      "source": [
        "print(1+2) #더하기\n",
        "print(3-4) #빼기\n",
        "print(5*6) #곱하기\n",
        "print(5000/3) #소숫점 이하 숫자가 나옴 \n",
        "print(5000//3)#소숫점 컷\n",
        "print(5000%3) #나머지\n",
        "divmod(5000,3)   #몫과 나머지"
      ],
      "execution_count": null,
      "outputs": [
        {
          "output_type": "stream",
          "text": [
            "3\n",
            "-1\n",
            "30\n",
            "1666.6666666666667\n",
            "1666\n",
            "2\n"
          ],
          "name": "stdout"
        },
        {
          "output_type": "execute_result",
          "data": {
            "text/plain": [
              "(1666, 2)"
            ]
          },
          "metadata": {
            "tags": []
          },
          "execution_count": 17
        }
      ]
    },
    {
      "cell_type": "code",
      "metadata": {
        "colab": {
          "base_uri": "https://localhost:8080/"
        },
        "id": "gKjN9nca7S21",
        "outputId": "aea7795c-b445-414b-c6e0-b83b2e34b9ab"
      },
      "source": [
        "watch = 100000 #정숫 값의 변수\n",
        "lighter = 300\n",
        "watch + lighter #변수를 이용한 계산"
      ],
      "execution_count": null,
      "outputs": [
        {
          "output_type": "execute_result",
          "data": {
            "text/plain": [
              "100300"
            ]
          },
          "metadata": {
            "tags": []
          },
          "execution_count": 20
        }
      ]
    },
    {
      "cell_type": "code",
      "metadata": {
        "colab": {
          "base_uri": "https://localhost:8080/"
        },
        "id": "V-rs1zaR9NNT",
        "outputId": "9af734d5-66e5-4f19-d642-a6dbfe789c90"
      },
      "source": [
        "1000000 * 0.85 "
      ],
      "execution_count": null,
      "outputs": [
        {
          "output_type": "execute_result",
          "data": {
            "text/plain": [
              "850000.0"
            ]
          },
          "metadata": {
            "tags": []
          },
          "execution_count": 22
        }
      ]
    },
    {
      "cell_type": "code",
      "metadata": {
        "colab": {
          "base_uri": "https://localhost:8080/"
        },
        "id": "Kyva20cx9mb4",
        "outputId": "007372c6-325a-44e9-c735-90d1f387b095"
      },
      "source": [
        "price = 5000\n",
        "price *= 0.85\n",
        "# = price = price * 0.85\n",
        "price"
      ],
      "execution_count": null,
      "outputs": [
        {
          "output_type": "execute_result",
          "data": {
            "text/plain": [
              "4250.0"
            ]
          },
          "metadata": {
            "tags": []
          },
          "execution_count": 25
        }
      ]
    },
    {
      "cell_type": "code",
      "metadata": {
        "colab": {
          "base_uri": "https://localhost:8080/",
          "height": 35
        },
        "id": "fFkgugzu-DFw",
        "outputId": "b3e4e1e6-029d-485a-885e-b6ab735e0150"
      },
      "source": [
        "a = 'pig' #문자열 변수\n",
        "b = 'dad'\n",
        "a + b"
      ],
      "execution_count": null,
      "outputs": [
        {
          "output_type": "execute_result",
          "data": {
            "application/vnd.google.colaboratory.intrinsic+json": {
              "type": "string"
            },
            "text/plain": [
              "'pigdad'"
            ]
          },
          "metadata": {
            "tags": []
          },
          "execution_count": 29
        }
      ]
    },
    {
      "cell_type": "code",
      "metadata": {
        "colab": {
          "base_uri": "https://localhost:8080/",
          "height": 35
        },
        "id": "rSz44ZfC-aBd",
        "outputId": "94a7bed9-2a83-4c6a-cfe2-2df59cbcdce5"
      },
      "source": [
        "a + ' ' + b # 공백 = ' '"
      ],
      "execution_count": null,
      "outputs": [
        {
          "output_type": "execute_result",
          "data": {
            "application/vnd.google.colaboratory.intrinsic+json": {
              "type": "string"
            },
            "text/plain": [
              "'pig dad'"
            ]
          },
          "metadata": {
            "tags": []
          },
          "execution_count": 30
        }
      ]
    },
    {
      "cell_type": "code",
      "metadata": {
        "id": "R-pCJvcT-tTs"
      },
      "source": [
        "'''\n",
        "파일을 다운로드할 때의 평균 속도(average rate)를 r이라 하고, 다운로드하는 데 걸린 시간(time)을 t라고 할 때, 다운로드한 파일의 용량은 r×t로 계산할 수 있습니다.\n",
        "\n",
        "다운로드 속도가 초당 800kB이고 다운로드하는 데 걸린 시간이 110초라고 할 때, 다운로드한 파일의 크기는 몇 MB일까요? 단, 1MB=1000kB로 계산합니다.\n",
        "'''"
      ],
      "execution_count": null,
      "outputs": []
    },
    {
      "cell_type": "code",
      "metadata": {
        "id": "MXQkgyi2_Gnr",
        "colab": {
          "base_uri": "https://localhost:8080/"
        },
        "outputId": "c8c003e0-c027-4a95-90ad-607cb4676f29"
      },
      "source": [
        "r = 800\n",
        "t = 110\n",
        "ar = r*t\n",
        "ar //= 1000\n",
        "ar"
      ],
      "execution_count": null,
      "outputs": [
        {
          "output_type": "execute_result",
          "data": {
            "text/plain": [
              "88"
            ]
          },
          "metadata": {
            "tags": []
          },
          "execution_count": 38
        }
      ]
    },
    {
      "cell_type": "code",
      "metadata": {
        "id": "9oKFt1Pb_ZNY",
        "colab": {
          "base_uri": "https://localhost:8080/"
        },
        "outputId": "b1cfc9b7-65b6-4d21-c251-89d13df07fc3"
      },
      "source": [
        "family = ['mother', 'father', 'gentleman', 'sexy lady'] #리스트형\n",
        "len(family) #리스트형에 자료가 몇개 있는지"
      ],
      "execution_count": null,
      "outputs": [
        {
          "output_type": "execute_result",
          "data": {
            "text/plain": [
              "4"
            ]
          },
          "metadata": {
            "tags": []
          },
          "execution_count": 39
        }
      ]
    },
    {
      "cell_type": "code",
      "metadata": {
        "colab": {
          "base_uri": "https://localhost:8080/",
          "height": 35
        },
        "id": "Z73QIdbzAR5q",
        "outputId": "8819cabe-6e01-40a6-80c1-cad3a6d45881"
      },
      "source": [
        "family[3] #리스트형은 0,1,2,3 순으로 출력되어 gentleman 이 아니라 sexylady가 나옴"
      ],
      "execution_count": null,
      "outputs": [
        {
          "output_type": "execute_result",
          "data": {
            "application/vnd.google.colaboratory.intrinsic+json": {
              "type": "string"
            },
            "text/plain": [
              "'sexy lady'"
            ]
          },
          "metadata": {
            "tags": []
          },
          "execution_count": 40
        }
      ]
    },
    {
      "cell_type": "code",
      "metadata": {
        "colab": {
          "base_uri": "https://localhost:8080/"
        },
        "id": "WoIUOor2AXTf",
        "outputId": "fa912c8a-9c23-42c0-e323-fe100685c234"
      },
      "source": [
        "family.remove('gentleman') #리스트 안의 해당 자료를 제거\n",
        "print(family)"
      ],
      "execution_count": null,
      "outputs": [
        {
          "output_type": "stream",
          "text": [
            "['mother', 'father', 'sexy lady']\n"
          ],
          "name": "stdout"
        }
      ]
    },
    {
      "cell_type": "code",
      "metadata": {
        "id": "INDkCOViAucG"
      },
      "source": [
        "print('직각삼각형 그리기\\n')\n",
        "leg = int(input('변의 길이: '))\n",
        "\n",
        "for i in range(leg):\n",
        "    print('* ' * (i + 1))\n",
        "\n",
        "area = (leg ** 2) / 2\n",
        "print('넓이:', area)"
      ],
      "execution_count": null,
      "outputs": []
    },
    {
      "cell_type": "code",
      "metadata": {
        "colab": {
          "base_uri": "https://localhost:8080/"
        },
        "id": "UmVYBE2fCXHO",
        "outputId": "94d388e2-3d0c-4e7e-d25a-bbfe2f43d21a"
      },
      "source": [
        "'''\n",
        "문제\n",
        "사용자에게 정수를 입력받아, 그 수의 제곱을 계산해 출력하는 파이썬 스크립트를 작성하세요.\n",
        "예)\n",
        "입력:\n",
        "\n",
        "3\n",
        "출력:\n",
        "\n",
        "9\n",
        "예 2\n",
        "입력:\n",
        "\n",
        "5\n",
        "출력:\n",
        "\n",
        "25\n",
        "'''\n",
        "def p():\n",
        "    leg = int(input('입력: '))\n",
        "    print(leg)\n",
        "    g = leg **2\n",
        "    print('출력 :', g)\n",
        "\n",
        "p()"
      ],
      "execution_count": null,
      "outputs": [
        {
          "output_type": "stream",
          "text": [
            "입력: -5\n",
            "-5\n",
            "출력 : 25\n"
          ],
          "name": "stdout"
        }
      ]
    }
  ]
}