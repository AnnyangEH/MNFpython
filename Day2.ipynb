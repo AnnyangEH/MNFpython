{
  "nbformat": 4,
  "nbformat_minor": 0,
  "metadata": {
    "colab": {
      "name": "Day2",
      "provenance": [],
      "collapsed_sections": [],
      "authorship_tag": "ABX9TyMKRFmGeObockfBhUwCPqqZ",
      "include_colab_link": true
    },
    "kernelspec": {
      "name": "python3",
      "display_name": "Python 3"
    },
    "language_info": {
      "name": "python"
    }
  },
  "cells": [
    {
      "cell_type": "markdown",
      "metadata": {
        "id": "view-in-github",
        "colab_type": "text"
      },
      "source": [
        "<a href=\"https://colab.research.google.com/github/AnnyangEH/MNFpython/blob/main/Day2.ipynb\" target=\"_parent\"><img src=\"https://colab.research.google.com/assets/colab-badge.svg\" alt=\"Open In Colab\"/></a>"
      ]
    },
    {
      "cell_type": "code",
      "metadata": {
        "id": "QQSh98oqNvNj"
      },
      "source": [
        "\"\"\"\n",
        "7일 동안 파이썬 마스터하기! 도전 (21.05.20)\n",
        "'왕초보를 위한 Python'의 wikidocs 를 통해서 공부합니당\n",
        "첫 단계인 만큼 추후 목표는 머신러닝을 파이썬을 통해 공부할 것이고\n",
        "7일 동안 파이썬과 익숙해지면 나만의 게임도 만들거임\n",
        "\"\"\"\n",
        "#처음으로 깃허브에 어제자 공부한 거 올리느라 연등시간동안 얼마 공부를 못했음 //2일차"
      ],
      "execution_count": 1,
      "outputs": []
    },
    {
      "cell_type": "code",
      "metadata": {
        "colab": {
          "base_uri": "https://localhost:8080/"
        },
        "id": "dgkevw-3N0jn",
        "outputId": "da90bef4-6cc8-4ccb-9c77-eee9b2f41fd6"
      },
      "source": [
        "num = 1\n",
        "while num < 100:    #while을 사용하는 반복문\n",
        "    print(num)\n",
        "    num += 1        #num = num + 1"
      ],
      "execution_count": 2,
      "outputs": [
        {
          "output_type": "stream",
          "text": [
            "1\n",
            "2\n",
            "3\n",
            "4\n",
            "5\n",
            "6\n",
            "7\n",
            "8\n",
            "9\n",
            "10\n",
            "11\n",
            "12\n",
            "13\n",
            "14\n",
            "15\n",
            "16\n",
            "17\n",
            "18\n",
            "19\n",
            "20\n",
            "21\n",
            "22\n",
            "23\n",
            "24\n",
            "25\n",
            "26\n",
            "27\n",
            "28\n",
            "29\n",
            "30\n",
            "31\n",
            "32\n",
            "33\n",
            "34\n",
            "35\n",
            "36\n",
            "37\n",
            "38\n",
            "39\n",
            "40\n",
            "41\n",
            "42\n",
            "43\n",
            "44\n",
            "45\n",
            "46\n",
            "47\n",
            "48\n",
            "49\n",
            "50\n",
            "51\n",
            "52\n",
            "53\n",
            "54\n",
            "55\n",
            "56\n",
            "57\n",
            "58\n",
            "59\n",
            "60\n",
            "61\n",
            "62\n",
            "63\n",
            "64\n",
            "65\n",
            "66\n",
            "67\n",
            "68\n",
            "69\n",
            "70\n",
            "71\n",
            "72\n",
            "73\n",
            "74\n",
            "75\n",
            "76\n",
            "77\n",
            "78\n",
            "79\n",
            "80\n",
            "81\n",
            "82\n",
            "83\n",
            "84\n",
            "85\n",
            "86\n",
            "87\n",
            "88\n",
            "89\n",
            "90\n",
            "91\n",
            "92\n",
            "93\n",
            "94\n",
            "95\n",
            "96\n",
            "97\n",
            "98\n",
            "99\n"
          ],
          "name": "stdout"
        }
      ]
    },
    {
      "cell_type": "code",
      "metadata": {
        "colab": {
          "base_uri": "https://localhost:8080/"
        },
        "id": "JMeWRAOIOjxE",
        "outputId": "f833b91e-4aa2-410a-e128-811a80076ca1"
      },
      "source": [
        "a = 3       # 프로그래밍에서 = 은 같다는 뜻이 아닌 대입한다는 뜻\n",
        "b = a + 2\n",
        "b"
      ],
      "execution_count": 3,
      "outputs": [
        {
          "output_type": "execute_result",
          "data": {
            "text/plain": [
              "5"
            ]
          },
          "metadata": {
            "tags": []
          },
          "execution_count": 3
        }
      ]
    },
    {
      "cell_type": "code",
      "metadata": {
        "colab": {
          "base_uri": "https://localhost:8080/"
        },
        "id": "WQ8tlsUDPW0R",
        "outputId": "ad09708b-3c75-4ffa-d15c-a68ea3cef963"
      },
      "source": [
        "'''\n",
        "연습 문제: 입력받은 숫자만큼 반복하기(while)\n",
        "input()으로 사용자로부터 정수를 한 개 입력받아, 그 숫자를 숫자 크기만큼 반복해서 \n",
        "출력하는 파이썬 스크립트를 작성하세요. 단, while 문을 사용하세요.\n",
        "'''\n",
        "\n",
        "i = int(input())\n",
        "s = 0;\n",
        "while s < i:\n",
        "    print(i)\n",
        "    s += 1"
      ],
      "execution_count": 16,
      "outputs": [
        {
          "output_type": "stream",
          "text": [
            "3\n",
            "3\n",
            "3\n"
          ],
          "name": "stdout"
        }
      ]
    },
    {
      "cell_type": "code",
      "metadata": {
        "colab": {
          "base_uri": "https://localhost:8080/"
        },
        "id": "OP60vPVOPxQ8",
        "outputId": "a1309072-7f36-4a73-9428-b4eef915a605"
      },
      "source": [
        "'''\n",
        "연습 문제: 제곱표(while)\n",
        "정수를 한 개 입력받아, 1부터 입력받은 수까지 각각에 대해 제곱을 구해 \n",
        "프린트하는 프로그램을 작성해 보세요. 단, while 문을 사용하세요.\n",
        "'''\n",
        "i = int(input())\n",
        "s = 1;\n",
        "while s <= i:\n",
        "    print(s,s**2)\n",
        "    s += 1"
      ],
      "execution_count": 22,
      "outputs": [
        {
          "output_type": "stream",
          "text": [
            "5\n",
            "1 1\n",
            "2 4\n",
            "3 9\n",
            "4 16\n",
            "5 25\n"
          ],
          "name": "stdout"
        }
      ]
    },
    {
      "cell_type": "code",
      "metadata": {
        "id": "hOTFcw0DQssb"
      },
      "source": [
        "'''\n",
        "2.1.3 연습 문제: 얌체공\n",
        "round()는 다음과 같이 반올림을 해주는 함수입니다.\n",
        ">>> round(1.23456, 2)   # 1.23456을 소수점 둘째 자리로(셋째 자리에서) 반올림 \n",
        "1.23\n",
        ">>> round(1.23456, 3)   # 1.23456을 소수점 셋째 자리로(넷째 자리에서) 반올림\n",
        "1.235\n",
        "참고로, round(2.675, 2)를 수행하면 결과가 2.68이 아닌 2.67로 나오는데, 이것은 버그가 아니라 부동소수점(floating point) 연산의 한계입니다.\n",
        ">>> round(2.675, 2)\n",
        "2.67\n",
        "\n",
        "고무 공을 100 미터 높이에서 떨어뜨리는데, 이 공은 땅에 닿을 때마다 원래 \n",
        "높이의 3/5 만큼 튀어오릅니다. 공이 열 번 튈 동안, 그때마다 공의 높이를 계산합니다.\n",
        "1 60.0\n",
        "2 36.0\n",
        "3 21.599999999999998\n",
        "4 12.959999999999999\n",
        "5 7.775999999999999\n",
        "6 4.6655999999999995\n",
        "7 2.7993599999999996\n",
        "8 1.6796159999999998\n",
        "9 1.0077695999999998\n",
        "10 0.6046617599999998\n",
        "\n",
        "round() 함수를 사용해서, 다음과 같이 소수점 아래 네 자리까지 출력해 보세요.\n",
        "1 60.0\n",
        "2 36.0\n",
        "3 21.6\n",
        "4 12.96\n",
        "5 7.776\n",
        "6 4.6656\n",
        "7 2.7994\n",
        "8 1.6796\n",
        "9 1.0078\n",
        "10 0.6047\n",
        "'''\n"
      ],
      "execution_count": null,
      "outputs": []
    },
    {
      "cell_type": "code",
      "metadata": {
        "id": "cOugGsQORdQC"
      },
      "source": [
        ""
      ],
      "execution_count": null,
      "outputs": []
    }
  ]
}