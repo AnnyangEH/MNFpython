{
  "nbformat": 4,
  "nbformat_minor": 0,
  "metadata": {
    "colab": {
      "name": "Day2",
      "provenance": [],
      "collapsed_sections": [],
      "authorship_tag": "ABX9TyNTwNV43AoQHFBmQ5UIucut",
      "include_colab_link": true
    },
    "kernelspec": {
      "name": "python3",
      "display_name": "Python 3"
    },
    "language_info": {
      "name": "python"
    }
  },
  "cells": [
    {
      "cell_type": "markdown",
      "metadata": {
        "id": "view-in-github",
        "colab_type": "text"
      },
      "source": [
        "<a href=\"https://colab.research.google.com/github/AnnyangEH/MNFpython/blob/main/Day2.ipynb\" target=\"_parent\"><img src=\"https://colab.research.google.com/assets/colab-badge.svg\" alt=\"Open In Colab\"/></a>"
      ]
    },
    {
      "cell_type": "code",
      "metadata": {
        "id": "QQSh98oqNvNj"
      },
      "source": [
        "\"\"\"\n",
        "7일 동안 파이썬 마스터하기! 도전 2일차(21.05.21)\n",
        "'왕초보를 위한 Python'의 wikidocs 를 통해서 공부합니당\n",
        "첫 단계인 만큼 추후 목표는 머신러닝을 파이썬을 통해 공부할 것이고\n",
        "7일 동안 파이썬과 익숙해지면 나만의 게임도 만들거임\n",
        "\"\"\"\n",
        "#처음으로 깃허브에 어제자 공부한 거 올리느라 연등시간동안 얼마 공부를 못했음 //2일차"
      ],
      "execution_count": null,
      "outputs": []
    },
    {
      "cell_type": "code",
      "metadata": {
        "id": "dgkevw-3N0jn"
      },
      "source": [
        "num = 1\n",
        "while num < 100:    #while을 사용하는 반복문\n",
        "    print(num)\n",
        "    num += 1        #num = num + 1"
      ],
      "execution_count": null,
      "outputs": []
    },
    {
      "cell_type": "code",
      "metadata": {
        "colab": {
          "base_uri": "https://localhost:8080/"
        },
        "id": "JMeWRAOIOjxE",
        "outputId": "f833b91e-4aa2-410a-e128-811a80076ca1"
      },
      "source": [
        "a = 3       # 프로그래밍에서 = 은 같다는 뜻이 아닌 대입한다는 뜻\n",
        "b = a + 2\n",
        "b"
      ],
      "execution_count": null,
      "outputs": [
        {
          "output_type": "execute_result",
          "data": {
            "text/plain": [
              "5"
            ]
          },
          "metadata": {
            "tags": []
          },
          "execution_count": 3
        }
      ]
    },
    {
      "cell_type": "code",
      "metadata": {
        "colab": {
          "base_uri": "https://localhost:8080/"
        },
        "id": "WQ8tlsUDPW0R",
        "outputId": "ad09708b-3c75-4ffa-d15c-a68ea3cef963"
      },
      "source": [
        "'''\n",
        "연습 문제: 입력받은 숫자만큼 반복하기(while)\n",
        "input()으로 사용자로부터 정수를 한 개 입력받아, 그 숫자를 숫자 크기만큼 반복해서 \n",
        "출력하는 파이썬 스크립트를 작성하세요. 단, while 문을 사용하세요.\n",
        "'''\n",
        "\n",
        "i = int(input())\n",
        "s = 0;\n",
        "while s < i:\n",
        "    print(i)\n",
        "    s += 1"
      ],
      "execution_count": null,
      "outputs": [
        {
          "output_type": "stream",
          "text": [
            "3\n",
            "3\n",
            "3\n"
          ],
          "name": "stdout"
        }
      ]
    },
    {
      "cell_type": "code",
      "metadata": {
        "colab": {
          "base_uri": "https://localhost:8080/"
        },
        "id": "OP60vPVOPxQ8",
        "outputId": "a1309072-7f36-4a73-9428-b4eef915a605"
      },
      "source": [
        "'''\n",
        "연습 문제: 제곱표(while)\n",
        "정수를 한 개 입력받아, 1부터 입력받은 수까지 각각에 대해 제곱을 구해 \n",
        "프린트하는 프로그램을 작성해 보세요. 단, while 문을 사용하세요.\n",
        "'''\n",
        "i = int(input())\n",
        "s = 1;\n",
        "while s <= i:\n",
        "    print(s,s**2)\n",
        "    s += 1"
      ],
      "execution_count": null,
      "outputs": [
        {
          "output_type": "stream",
          "text": [
            "5\n",
            "1 1\n",
            "2 4\n",
            "3 9\n",
            "4 16\n",
            "5 25\n"
          ],
          "name": "stdout"
        }
      ]
    },
    {
      "cell_type": "code",
      "metadata": {
        "id": "hOTFcw0DQssb",
        "colab": {
          "base_uri": "https://localhost:8080/"
        },
        "outputId": "205aba82-3ec3-495f-e5c9-4db908d3a7b8"
      },
      "source": [
        "'''\n",
        "2.1.3 연습 문제: 얌체공\n",
        "round()는 다음과 같이 반올림을 해주는 함수입니다.\n",
        ">>> round(1.23456, 2)   # 1.23456을 소수점 둘째 자리로(셋째 자리에서) 반올림 \n",
        "1.23\n",
        ">>> round(1.23456, 3)   # 1.23456을 소수점 셋째 자리로(넷째 자리에서) 반올림\n",
        "1.235\n",
        "참고로, round(2.675, 2)를 수행하면 결과가 2.68이 아닌 2.67로 나오는데, 이것은 버그가 아니라 부동소수점(floating point) 연산의 한계입니다.\n",
        ">>> round(2.675, 2)\n",
        "2.67\n",
        "\n",
        "고무 공을 100 미터 높이에서 떨어뜨리는데, 이 공은 땅에 닿을 때마다 원래 \n",
        "높이의 3/5 만큼 튀어오릅니다. 공이 열 번 튈 동안, 그때마다 공의 높이를 계산합니다.\n",
        "1 60.0\n",
        "2 36.0\n",
        "3 21.599999999999998\n",
        "4 12.959999999999999\n",
        "5 7.775999999999999\n",
        "6 4.6655999999999995\n",
        "7 2.7993599999999996\n",
        "8 1.6796159999999998\n",
        "9 1.0077695999999998\n",
        "10 0.6046617599999998\n",
        "\n",
        "round() 함수를 사용해서, 다음과 같이 소수점 아래 네 자리까지 출력해 보세요.\n",
        "1 60.0\n",
        "2 36.0\n",
        "3 21.6\n",
        "4 12.96\n",
        "5 7.776\n",
        "6 4.6656\n",
        "7 2.7994\n",
        "8 1.6796\n",
        "9 1.0078\n",
        "10 0.6047\n",
        "'''\n",
        "i = 1\n",
        "s = 100\n",
        "while i <= 10:\n",
        "    s *= 0.6\n",
        "    print(i, round(s, 4))\n",
        "    i += 1"
      ],
      "execution_count": null,
      "outputs": [
        {
          "output_type": "stream",
          "text": [
            "1 60.0\n",
            "2 36.0\n",
            "3 21.6\n",
            "4 12.96\n",
            "5 7.776\n",
            "6 4.6656\n",
            "7 2.7994\n",
            "8 1.6796\n",
            "9 1.0078\n",
            "10 0.6047\n"
          ],
          "name": "stdout"
        }
      ]
    },
    {
      "cell_type": "code",
      "metadata": {
        "id": "cOugGsQORdQC",
        "colab": {
          "base_uri": "https://localhost:8080/"
        },
        "outputId": "e087c426-7548-40bd-f9ff-4fc271c187d5"
      },
      "source": [
        "'''\n",
        "연습 문제: 코드를 보고 실행 결과 맞히기\n",
        "\n",
        "다음 코드1를 읽고, 실행 결과를 알아맞혀 보세요.\n",
        "\n",
        "number = 358\n",
        "\n",
        "rem = rev = 0\n",
        "while number >= 1:\n",
        "    rem = number % 10\n",
        "    rev = rev * 10 + rem\n",
        "    number = number // 10\n",
        "\n",
        "print(rev)\n",
        "'''\n",
        "#853?"
      ],
      "execution_count": null,
      "outputs": [
        {
          "output_type": "stream",
          "text": [
            "853\n"
          ],
          "name": "stdout"
        }
      ]
    },
    {
      "cell_type": "code",
      "metadata": {
        "id": "IVyz8IhnGDKU",
        "colab": {
          "base_uri": "https://localhost:8080/"
        },
        "outputId": "040607b8-2364-4592-9ebd-79479d01be39"
      },
      "source": [
        "a = 1234 * 4\n",
        "b = 13456 / 2\n",
        "\n",
        "if a > b:               #파이썬의 if와 else\n",
        "    print('a가 더 큼')\n",
        "else:                  \n",
        "    print('b가 더 큼')\n"
      ],
      "execution_count": null,
      "outputs": [
        {
          "output_type": "stream",
          "text": [
            "b가 더 큼\n"
          ],
          "name": "stdout"
        }
      ]
    },
    {
      "cell_type": "code",
      "metadata": {
        "id": "zKZhpqFUGrHF",
        "colab": {
          "base_uri": "https://localhost:8080/"
        },
        "outputId": "18afd39b-3e02-40c8-8d43-9f6593f993bd"
      },
      "source": [
        "c = 15 * 5\n",
        "d = 15 + 15 + 15 + 15 + 15\n",
        "if c > d:               \n",
        "    print('c is greater than d')\n",
        "elif c == d:            #파이썬의 elif, '==' 두 값을 비교할때 씀\n",
        "    print('c is equal to d')\n",
        "elif c < d:\n",
        "    print('c is less than d')\n",
        "else:\n",
        "    print(\"I don't know\")\n"
      ],
      "execution_count": null,
      "outputs": [
        {
          "output_type": "stream",
          "text": [
            "c is equal to d\n"
          ],
          "name": "stdout"
        }
      ]
    },
    {
      "cell_type": "code",
      "metadata": {
        "id": "y_bp9CdhHcev",
        "colab": {
          "base_uri": "https://localhost:8080/"
        },
        "outputId": "aea6d821-6894-4ed4-d13d-2b450fd2bc61"
      },
      "source": [
        "a = 48\n",
        "b = 4\n",
        "if a % b ==0:\n",
        "    print(f'{a}는 {b}로 나누어 떨어집니다.')        #C 에서의 %a << 이거랑 같음\n",
        "elif a % b != 0:                                    #else: 와 같음\n",
        "    print(f'{a}는 {b}로 나누어 떨어지지 않습니다.')\n"
      ],
      "execution_count": null,
      "outputs": [
        {
          "output_type": "stream",
          "text": [
            "48는 4로 나누어 떨어집니다.\n"
          ],
          "name": "stdout"
        }
      ]
    },
    {
      "cell_type": "code",
      "metadata": {
        "id": "lQIN62KqIGfk",
        "colab": {
          "base_uri": "https://localhost:8080/"
        },
        "outputId": "81bdfb2a-967a-445c-9d9d-b5e532017e8a"
      },
      "source": [
        "max = 10\n",
        "\n",
        "while True:\n",
        "    num = int(input())\n",
        "    if num > max:\n",
        "        print(num, 'is too big!')\n",
        "        break                                       #반복문 탈출!"
      ],
      "execution_count": null,
      "outputs": [
        {
          "output_type": "stream",
          "text": [
            "3\n",
            "6\n",
            "9\n",
            "12\n",
            "12 is too big!\n"
          ],
          "name": "stdout"
        }
      ]
    },
    {
      "cell_type": "code",
      "metadata": {
        "id": "F-8OvC1-KFrP",
        "colab": {
          "base_uri": "https://localhost:8080/"
        },
        "outputId": "f5fa78d1-5958-4e6a-f179-96152b07c60c"
      },
      "source": [
        "'''\n",
        "연습 문제: 숫자 읽기(1~3)\n",
        "\n",
        "input()을 사용해 사용자로부터 입력받은 숫자를 한글로 출력하는 프로그램을 작성하세요. \n",
        "단, 사용자는 1 이상 3 이하의 정수 중 하나를 입력한다고 가정합니다.\n",
        "'''\n",
        "while True:\n",
        "    n = int(input())\n",
        "    if n > 4 or n < 0:\n",
        "        print('올바른 숫자를 입력해주세요')\n",
        "    elif n == 1:\n",
        "        print('하나')\n",
        "        break\n",
        "    elif n == 2:\n",
        "        print('둘')\n",
        "        break\n",
        "    else:\n",
        "        print('삼')\n",
        "        break"
      ],
      "execution_count": null,
      "outputs": [
        {
          "output_type": "stream",
          "text": [
            "12\n",
            "올바른 숫자를 입력해주세요\n",
            "-1\n",
            "올바른 숫자를 입력해주세요\n",
            "55\n",
            "올바른 숫자를 입력해주세요\n",
            "2\n",
            "둘\n"
          ],
          "name": "stdout"
        }
      ]
    },
    {
      "cell_type": "code",
      "metadata": {
        "id": "UDBPr9gtK7Ct",
        "colab": {
          "base_uri": "https://localhost:8080/"
        },
        "outputId": "0924aa81-9866-44ad-be52-d12c759549e0"
      },
      "source": [
        "'''\n",
        "연습 문제: 양수만 덧셈하기\n",
        "\n",
        "input()으로 사용자로부터 입력받은 정수를 계속 더해나가다가, 음수가 입력되면 \n",
        "중단하고 그 전까지 계산한 값을 출력하는 파이썬 스크립트를 작성하세요.\n",
        "'''\n",
        "n1 = 0\n",
        "while True:\n",
        "    n = int(input())\n",
        "    if n < 0:\n",
        "        print(n1)\n",
        "        break\n",
        "    n1 = n1 + n"
      ],
      "execution_count": null,
      "outputs": [
        {
          "output_type": "stream",
          "text": [
            "50\n",
            "0\n",
            "60\n",
            "70\n",
            "-100\n",
            "180\n"
          ],
          "name": "stdout"
        }
      ]
    },
    {
      "cell_type": "code",
      "metadata": {
        "id": "7C3GA4SxPTha",
        "colab": {
          "base_uri": "https://localhost:8080/"
        },
        "outputId": "41c082ef-6356-4d81-bad1-50008debb0bb"
      },
      "source": [
        "'''\n",
        "연습 문제: 윤년 판별하기\n",
        "\n",
        "서력 기원 연수가 4로 나누어 떨어지는 해는 윤년으로 한다. (1988년, 1992년, 1996년, 2004년, 2008년, 2012년, 2016년, 2020년, 2024년, 2028년, 2032년, 2036년, 2040년, 2044년 ...)\n",
        "서력 기원 연수가 4, 100으로 나누어 떨어지는 해는 평년으로 한다. (1900년, 2100년, 2200년, 2300년, 2500년...)\n",
        "서력 기원 연수가 4, 100, 400으로 나누어 떨어지는 해는 윤년으로 둔다. (2000년, 2400년...)\n",
        "\n",
        "연도를 나타내는 정수를 입력으로 받아서 윤년인지 아닌지 출력하는 프로그램을 작성해 보세요.\n",
        "'''\n",
        "y = int(input())\n",
        "if y % 400 == 0:\n",
        "    print(y, '년은 윤년')\n",
        "elif y % 4 != 0 or (y % 4 == 0 and y % 100 == 0):\n",
        "    print(y, '년은 평년')\n",
        "else:\n",
        "    print(y, '년은 윤년')"
      ],
      "execution_count": null,
      "outputs": [
        {
          "output_type": "stream",
          "text": [
            "2000\n",
            "2000 년은 윤년\n"
          ],
          "name": "stdout"
        }
      ]
    },
    {
      "cell_type": "code",
      "metadata": {
        "id": "14gfMMBZRPNN",
        "colab": {
          "base_uri": "https://localhost:8080/"
        },
        "outputId": "cf040ae7-6769-4dff-d83e-0751e1eb33d1"
      },
      "source": [
        "family = ['me', 'bro', 'pop', 'mom']\n",
        "\n",
        "for i in family:    #파이썬의 for 문 \n",
        "    print(i, len(i))#family의 i"
      ],
      "execution_count": null,
      "outputs": [
        {
          "output_type": "stream",
          "text": [
            "me 2\n",
            "bro 3\n",
            "pop 3\n",
            "mom 3\n"
          ],
          "name": "stdout"
        }
      ]
    },
    {
      "cell_type": "code",
      "metadata": {
        "id": "PoJvNkPOVirK",
        "colab": {
          "base_uri": "https://localhost:8080/"
        },
        "outputId": "302e85e3-057e-452c-b8bb-347daab07bd2"
      },
      "source": [
        "range(2, 7)     #range() 함수\n",
        "\n",
        "list(range(2, 7))"
      ],
      "execution_count": null,
      "outputs": [
        {
          "output_type": "execute_result",
          "data": {
            "text/plain": [
              "[2, 3, 4, 5, 6]"
            ]
          },
          "metadata": {
            "tags": []
          },
          "execution_count": 59
        }
      ]
    },
    {
      "cell_type": "code",
      "metadata": {
        "id": "c1W1DNzXV851",
        "colab": {
          "base_uri": "https://localhost:8080/"
        },
        "outputId": "3bd2ebbb-656b-4a2d-ed51-4f295d4a3e20"
      },
      "source": [
        "a = [4, 5, 6, 7 ]\n",
        "\n",
        "for i in a:\n",
        "    print(i)"
      ],
      "execution_count": null,
      "outputs": [
        {
          "output_type": "stream",
          "text": [
            "4\n",
            "5\n",
            "6\n",
            "7\n"
          ],
          "name": "stdout"
        }
      ]
    },
    {
      "cell_type": "code",
      "metadata": {
        "id": "yg4JiXqtWSLU",
        "colab": {
          "base_uri": "https://localhost:8080/"
        },
        "outputId": "ea4fc1c6-a8db-4113-fa02-ce1c104923cd"
      },
      "source": [
        "for i in range(4, 8):\n",
        "    print(i)"
      ],
      "execution_count": null,
      "outputs": [
        {
          "output_type": "stream",
          "text": [
            "4\n",
            "5\n",
            "6\n",
            "7\n"
          ],
          "name": "stdout"
        }
      ]
    },
    {
      "cell_type": "code",
      "metadata": {
        "id": "tvFcDWxCWZ71",
        "colab": {
          "base_uri": "https://localhost:8080/"
        },
        "outputId": "feec6448-d17a-4dfc-c066-a69afc0b8047"
      },
      "source": [
        "'''\n",
        "연습 문제: 입력받은 숫자만큼 반복하기(for)\n",
        "연습 문제 2.1과 같이, 사용자로부터 input()으로 정수를 한 개 입력받아, 그 숫자를 숫자 크기만큼 \n",
        "반복해서 출력하는 파이썬 스크립트를 작성하세요. 단, 이번에는 for 문을 사용하세요.\n",
        "'''\n",
        "i = int(input())\n",
        "for s in range(i):\n",
        "    print(i)"
      ],
      "execution_count": null,
      "outputs": [
        {
          "output_type": "stream",
          "text": [
            "4\n",
            "4\n",
            "4\n",
            "4\n",
            "4\n"
          ],
          "name": "stdout"
        }
      ]
    },
    {
      "cell_type": "code",
      "metadata": {
        "id": "6PAL26gcXDyU",
        "colab": {
          "base_uri": "https://localhost:8080/"
        },
        "outputId": "7fae502c-fec6-4589-981d-dd142e05be81"
      },
      "source": [
        "'''\n",
        "연습 문제: 제곱표(for)\n",
        "연습 문제 2.2와 같이, 정수를 한 개 입력받아 1부터 입력받은 수까지 각각에 대해\n",
        "제곱을 구해 프린트하는 프로그램을 작성해 보세요. 단, 이번에는 for 문을 사용하세요.\n",
        "'''\n",
        "i = int(input())\n",
        "for i in range(1, i+1):\n",
        "    print(i, i**2)"
      ],
      "execution_count": null,
      "outputs": [
        {
          "output_type": "stream",
          "text": [
            "4\n",
            "1 1\n",
            "2 4\n",
            "3 9\n",
            "4 16\n"
          ],
          "name": "stdout"
        }
      ]
    },
    {
      "cell_type": "code",
      "metadata": {
        "id": "Ny8-1TeXYAIq"
      },
      "source": [
        "'''\n",
        "연습 문제: 화학 실험실\n",
        "\n",
        "대학교의 화학자들은 상처를 매우 빠르게 치료하는 약물을 제조하는 새로운 과정을 개발했다. \n",
        "제조 과정은 매우 길고 화학 약품을 매번 모니터링해야 하므로 몇 시간씩 걸린다! 학생들은 졸거나 딴짓을 하므로 이 일을 믿고 맏길 수가 없다. \n",
        "그러므로 약물의 제조를 모니터링하는 자동 장치를 프로그래밍해야 한다. 장치는 15초마다 온도를 측정해 프로그램에 제공한다.\n",
        "\n",
        "프로그램은 먼저 최소와 최대의 안전 온도를 나타내는 두 개의 정수를 읽는다. 그 다음에, 장치가 제공하는 온도(정수)를 계속 읽는다. \n",
        "화학 반응이 완료되면 장치는 끝을 알리는 -999를 보낸다. 기록된 온도가 올바른 범위에 있을 경우(최솟값 또는 최댓값과 같아도 된다) \n",
        "Nothing to report를 표시해야 한다. 하지만 온도가 위험 수준에 도달하면 Alert!를 표시하고 온도 측정을 중단한다(장치가 온도값을 계속 보내더라도).\n",
        "'''\n",
        "\n"
      ],
      "execution_count": null,
      "outputs": []
    }
  ]
}