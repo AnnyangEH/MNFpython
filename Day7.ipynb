{
  "nbformat": 4,
  "nbformat_minor": 0,
  "metadata": {
    "colab": {
      "name": "Day7",
      "provenance": [],
      "collapsed_sections": [],
      "mount_file_id": "1-6YHuOk-6OuWa9O7yFyPRZ4DfsqQ8CXd",
      "authorship_tag": "ABX9TyNHdCMJUKbJ6BhL1TcgoU1U",
      "include_colab_link": true
    },
    "kernelspec": {
      "name": "python3",
      "display_name": "Python 3"
    },
    "language_info": {
      "name": "python"
    }
  },
  "cells": [
    {
      "cell_type": "markdown",
      "metadata": {
        "id": "view-in-github",
        "colab_type": "text"
      },
      "source": [
        "<a href=\"https://colab.research.google.com/github/AnnyangEH/MNFpython/blob/main/Day7.ipynb\" target=\"_parent\"><img src=\"https://colab.research.google.com/assets/colab-badge.svg\" alt=\"Open In Colab\"/></a>"
      ]
    },
    {
      "cell_type": "markdown",
      "metadata": {
        "id": "Tw7FkGIkm8M0"
      },
      "source": [
        "6과는 파일과 관련된 챕터인데 코랩에서는 다룰 수 없어 \n",
        "\n",
        "눈으로만 읽고 7과로 넘어감"
      ]
    },
    {
      "cell_type": "markdown",
      "metadata": {
        "id": "zldIJwkcxnzF"
      },
      "source": [
        "# 변수와 메서드"
      ]
    },
    {
      "cell_type": "code",
      "metadata": {
        "colab": {
          "base_uri": "https://localhost:8080/",
          "height": 35
        },
        "id": "3-_-epfxnDML",
        "outputId": "959358b8-b9cd-4a56-e6f7-c63cfd8a2120"
      },
      "source": [
        "class Singer:           #클래스를 정의\n",
        "    def sing(self):     #노래 메소드\n",
        "        return \"lala-li-lala\"\n",
        "\n",
        "eunho = Singer()        #은호\n",
        "eunho.sing()            #은호 노래 불러랏"
      ],
      "execution_count": null,
      "outputs": [
        {
          "output_type": "execute_result",
          "data": {
            "application/vnd.google.colaboratory.intrinsic+json": {
              "type": "string"
            },
            "text/plain": [
              "'lala-li-lala'"
            ]
          },
          "metadata": {
            "tags": []
          },
          "execution_count": 3
        }
      ]
    },
    {
      "cell_type": "code",
      "metadata": {
        "colab": {
          "base_uri": "https://localhost:8080/",
          "height": 34
        },
        "id": "A6P9M9g3oWTT",
        "outputId": "9a894c3a-e18f-4e72-beb4-645f8326f274"
      },
      "source": [
        "'''\n",
        "내가 이해한 클래스와 인스턴스는 클래스는 특정 그룹? 그 부분? 같은 느낌임\n",
        "예시로 가수 라고 했을때 수많은 가수가 있지만 그 중 저스틴비버나 내가 좋아하는 윤딴딴\n",
        "이라고 했을때 인스턴스(실체)로 볼 수 있는 거임\n",
        "이 때 가수가 클래스고 특정 가수가 인스턴스\n",
        "'''"
      ],
      "execution_count": null,
      "outputs": [
        {
          "output_type": "execute_result",
          "data": {
            "application/vnd.google.colaboratory.intrinsic+json": {
              "type": "string"
            },
            "text/plain": [
              "'\\n내가 이해한 클래스와 인스턴스는 클래스는 특정 그룹? 그 부분? 같은 느낌임\\n예시로 가수 라고 했을때 수많은 가수가 있지만 그 중 저스틴비버나 내가 좋아하는 윤딴딴\\n이라고 했을때 인스턴스(실체)로 볼 수 있는 거임\\n이 때 가수가 클래스고 특정 가수가 인스턴스\\n'"
            ]
          },
          "metadata": {
            "tags": []
          },
          "execution_count": 3
        }
      ]
    },
    {
      "cell_type": "markdown",
      "metadata": {
        "id": "Faf7Awtftg6p"
      },
      "source": [
        "**self**\n",
        "\n",
        "self 는 그 클래스의 객체를 뜻하는데 예를들어 솔져 1과 솔져 76이 똑같은 helixRocket()이라는 함수와 run()이라는 함수를 가지기 때문에 서로 구분하기 위해 사용됩니다.\n",
        "\n",
        "한 마디로 메서드를 정의할 때는 항상 self라는 인자를 씀\n"
      ]
    },
    {
      "cell_type": "code",
      "metadata": {
        "id": "9EGctyY_o7jI"
      },
      "source": [
        "class Noobsoldier:\n",
        "    hp = 200\n",
        "    dmg = 20\n",
        "    spd = 35\n",
        "    def helixRocket(self):      \n",
        "        self.hp -= 10\n",
        "        self.dmg += 40\n",
        "    def run():\n",
        "        self.spd += 1"
      ],
      "execution_count": null,
      "outputs": []
    },
    {
      "cell_type": "code",
      "metadata": {
        "id": "N6EiB8ZGwGs4"
      },
      "source": [
        "soldier1 = Noobsoldier()\n",
        "soldier1.helixRocket()"
      ],
      "execution_count": null,
      "outputs": []
    },
    {
      "cell_type": "code",
      "metadata": {
        "colab": {
          "base_uri": "https://localhost:8080/"
        },
        "id": "BvTNqrR_wL_B",
        "outputId": "522bf6f5-cf10-4000-d84f-5ef3f949eed3"
      },
      "source": [
        "soldier1.hp"
      ],
      "execution_count": null,
      "outputs": [
        {
          "output_type": "execute_result",
          "data": {
            "text/plain": [
              "190"
            ]
          },
          "metadata": {
            "tags": []
          },
          "execution_count": 55
        }
      ]
    },
    {
      "cell_type": "code",
      "metadata": {
        "colab": {
          "base_uri": "https://localhost:8080/"
        },
        "id": "FMqvjdXswSxX",
        "outputId": "2a09f9c0-6be9-465b-fc58-eb2aabc9cb22"
      },
      "source": [
        "soldier1.dmg"
      ],
      "execution_count": null,
      "outputs": [
        {
          "output_type": "execute_result",
          "data": {
            "text/plain": [
              "60"
            ]
          },
          "metadata": {
            "tags": []
          },
          "execution_count": 56
        }
      ]
    },
    {
      "cell_type": "markdown",
      "metadata": {
        "id": "hX8Hk4QJxthr"
      },
      "source": [
        "# 상속"
      ]
    },
    {
      "cell_type": "code",
      "metadata": {
        "id": "2-fwXszqxN7B"
      },
      "source": [
        "'''\n",
        "상속(inheritance) 고등학교때 배워본 상속은 기억으론 객체지향 언어에서 특정 클래스의 특징을 말 그대로\n",
        "상속(받아온다?)오는 느낌이었는데 이번에 또 배우게 됐넹 ㅎ\n",
        "'''"
      ],
      "execution_count": null,
      "outputs": []
    },
    {
      "cell_type": "code",
      "metadata": {
        "id": "JQ8BMviOyuPY"
      },
      "source": [
        "class Overwatch:\n",
        "    hp = 200    #기본 체력\n",
        "    spd = 20    #기본 이속\n",
        "    mtk = 30  #근접 공격\n",
        "    def atk():\n",
        "        print('빵야')\n",
        "\n",
        "    def melee():\n",
        "        print('퍽!')\n",
        "\n",
        "    def eat():\n",
        "        print('궁극기 냠냠')"
      ],
      "execution_count": null,
      "outputs": []
    },
    {
      "cell_type": "code",
      "metadata": {
        "id": "LP5FolKl0WxA"
      },
      "source": [
        "class genji(Overwatch):     #overwatch 클래스를 상속받음\n",
        "    def ting():\n",
        "        print('튕겨냈다!')  "
      ],
      "execution_count": null,
      "outputs": []
    },
    {
      "cell_type": "code",
      "metadata": {
        "colab": {
          "base_uri": "https://localhost:8080/"
        },
        "id": "UzsUrBdZ0jkJ",
        "outputId": "d2ed784b-1721-4040-875f-15da50693db2"
      },
      "source": [
        "genji.hp"
      ],
      "execution_count": null,
      "outputs": [
        {
          "output_type": "execute_result",
          "data": {
            "text/plain": [
              "200"
            ]
          },
          "metadata": {
            "tags": []
          },
          "execution_count": 96
        }
      ]
    },
    {
      "cell_type": "code",
      "metadata": {
        "colab": {
          "base_uri": "https://localhost:8080/"
        },
        "id": "lSRhud110xnO",
        "outputId": "6410cad4-39a7-4872-e758-b958adda4391"
      },
      "source": [
        "genji.spd"
      ],
      "execution_count": null,
      "outputs": [
        {
          "output_type": "execute_result",
          "data": {
            "text/plain": [
              "20"
            ]
          },
          "metadata": {
            "tags": []
          },
          "execution_count": 97
        }
      ]
    },
    {
      "cell_type": "code",
      "metadata": {
        "colab": {
          "base_uri": "https://localhost:8080/"
        },
        "id": "DwP3J0vT05A7",
        "outputId": "8bd114bf-1ccb-4f10-f700-3840c7f5e033"
      },
      "source": [
        "genji.mtk"
      ],
      "execution_count": null,
      "outputs": [
        {
          "output_type": "execute_result",
          "data": {
            "text/plain": [
              "30"
            ]
          },
          "metadata": {
            "tags": []
          },
          "execution_count": 98
        }
      ]
    },
    {
      "cell_type": "code",
      "metadata": {
        "colab": {
          "base_uri": "https://localhost:8080/"
        },
        "id": "R47HcoNO06PW",
        "outputId": "d8e15ca4-af35-492d-97d5-b1db386126f7"
      },
      "source": [
        "genji.eat()"
      ],
      "execution_count": null,
      "outputs": [
        {
          "output_type": "stream",
          "text": [
            "궁극기 냠냠\n"
          ],
          "name": "stdout"
        }
      ]
    },
    {
      "cell_type": "markdown",
      "metadata": {
        "id": "noLY1-oL2R3_"
      },
      "source": [
        "# 객체 속의 객체"
      ]
    },
    {
      "cell_type": "code",
      "metadata": {
        "id": "NhCgI5th1IyQ"
      },
      "source": [
        "class Fridge:\n",
        "    def __init__(self):\n",
        "        self.isOpened = False\n",
        "        self.foods = []\n",
        "    \n",
        "    def open(self):\n",
        "        self.isOpened = True\n",
        "        print('냉장고 문을 열어따')\n",
        "    \n",
        "    def put(self, thing):\n",
        "        if self.isOpened:\n",
        "            self.foods.append(thing)\n",
        "            print('냉장고 속에 음식이 있넹?')\n",
        "        else:\n",
        "            print('냉장고 문이 닫혀서 못넣음;')\n",
        "    \n",
        "    def close(self):\n",
        "        self.isOpened = False\n",
        "        print('냉장고 문을 닫았습니다')\n",
        "\n",
        "class Food:\n",
        "    pass"
      ],
      "execution_count": null,
      "outputs": []
    },
    {
      "cell_type": "code",
      "metadata": {
        "id": "V3G9ftVB5DtE"
      },
      "source": [
        ""
      ],
      "execution_count": null,
      "outputs": []
    }
  ]
}