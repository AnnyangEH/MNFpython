{
  "nbformat": 4,
  "nbformat_minor": 0,
  "metadata": {
    "colab": {
      "name": "Day7",
      "provenance": [],
      "collapsed_sections": [],
      "authorship_tag": "ABX9TyOYICFr7bC4wTp7KlJI3OvA",
      "include_colab_link": true
    },
    "kernelspec": {
      "name": "python3",
      "display_name": "Python 3"
    },
    "language_info": {
      "name": "python"
    }
  },
  "cells": [
    {
      "cell_type": "markdown",
      "metadata": {
        "id": "view-in-github",
        "colab_type": "text"
      },
      "source": [
        "<a href=\"https://colab.research.google.com/github/AnnyangEH/MNFpython/blob/main/Day7.ipynb\" target=\"_parent\"><img src=\"https://colab.research.google.com/assets/colab-badge.svg\" alt=\"Open In Colab\"/></a>"
      ]
    },
    {
      "cell_type": "code",
      "metadata": {
        "id": "JYEB3906mEGC"
      },
      "source": [
        "\"\"\"\n",
        "7일 동안 파이썬 마스터하기! 도전 7과 (21.06.06)\n",
        "'왕초보를 위한 Python'의 wikidocs 를 통해서 공부합니당\n",
        "첫 단계인 만큼 추후 목표는 머신러닝을 파이썬을 통해 공부할 것이고\n",
        "7일 동안 파이썬과 익숙해지면 나만의 게임도 만들거임\n",
        "\"\"\""
      ],
      "execution_count": null,
      "outputs": []
    },
    {
      "cell_type": "markdown",
      "metadata": {
        "id": "Tw7FkGIkm8M0"
      },
      "source": [
        "6과는 파일과 관련된 챕터인데 코랩에서는 다룰 수 없어 \n",
        "\n",
        "눈으로만 읽고 7과로 넘어감"
      ]
    },
    {
      "cell_type": "markdown",
      "metadata": {
        "id": "OEduSBCrswPq"
      },
      "source": [
        "#**class**\n",
        "\n",
        "클래스"
      ]
    },
    {
      "cell_type": "code",
      "metadata": {
        "colab": {
          "base_uri": "https://localhost:8080/",
          "height": 34
        },
        "id": "3-_-epfxnDML",
        "outputId": "90aa4584-5acc-4fda-c61f-2377f21f2dc5"
      },
      "source": [
        "class Singer:           #클래스를 정의\n",
        "    def sing(self):     #노래 메소드\n",
        "        return \"lala-li-lala\"\n",
        "\n",
        "eunho = Singer()        #은호\n",
        "eunho.sing()            #은호 노래 불러랏"
      ],
      "execution_count": null,
      "outputs": [
        {
          "output_type": "execute_result",
          "data": {
            "application/vnd.google.colaboratory.intrinsic+json": {
              "type": "string"
            },
            "text/plain": [
              "'lala-li-lala'"
            ]
          },
          "metadata": {
            "tags": []
          },
          "execution_count": 2
        }
      ]
    },
    {
      "cell_type": "code",
      "metadata": {
        "colab": {
          "base_uri": "https://localhost:8080/",
          "height": 34
        },
        "id": "A6P9M9g3oWTT",
        "outputId": "9a894c3a-e18f-4e72-beb4-645f8326f274"
      },
      "source": [
        "'''\n",
        "내가 이해한 클래스와 인스턴스는 클래스는 특정 그룹? 그 부분? 같은 느낌임\n",
        "예시로 가수 라고 했을때 수많은 가수가 있지만 그 중 저스틴비버나 내가 좋아하는 윤딴딴\n",
        "이라고 했을때 인스턴스(실체)로 볼 수 있는 거임\n",
        "이 때 가수가 클래스고 특정 가수가 인스턴스\n",
        "'''"
      ],
      "execution_count": null,
      "outputs": [
        {
          "output_type": "execute_result",
          "data": {
            "application/vnd.google.colaboratory.intrinsic+json": {
              "type": "string"
            },
            "text/plain": [
              "'\\n내가 이해한 클래스와 인스턴스는 클래스는 특정 그룹? 그 부분? 같은 느낌임\\n예시로 가수 라고 했을때 수많은 가수가 있지만 그 중 저스틴비버나 내가 좋아하는 윤딴딴\\n이라고 했을때 인스턴스(실체)로 볼 수 있는 거임\\n이 때 가수가 클래스고 특정 가수가 인스턴스\\n'"
            ]
          },
          "metadata": {
            "tags": []
          },
          "execution_count": 3
        }
      ]
    },
    {
      "cell_type": "code",
      "metadata": {
        "id": "wdhNNjy9p58p"
      },
      "source": [
        "class Bastion:\n",
        "    hp = 500\n",
        "    damage = 10\n",
        "    \n",
        "    def ult(self):\n",
        "        return '쀼쀼삡!'"
      ],
      "execution_count": null,
      "outputs": []
    },
    {
      "cell_type": "code",
      "metadata": {
        "colab": {
          "base_uri": "https://localhost:8080/"
        },
        "id": "v69RCmQBqR3_",
        "outputId": "c010457a-6fdf-4c6d-a293-ab6bfea880a3"
      },
      "source": [
        "import sys\n",
        "sys.path.append('/content/drive/My Drive/Colab Notebooks')\n",
        "print(sys.path)"
      ],
      "execution_count": 6,
      "outputs": [
        {
          "output_type": "stream",
          "text": [
            "['', '/content', '/env/python', '/usr/lib/python37.zip', '/usr/lib/python3.7', '/usr/lib/python3.7/lib-dynload', '/usr/local/lib/python3.7/dist-packages', '/usr/lib/python3/dist-packages', '/usr/local/lib/python3.7/dist-packages/IPython/extensions', '/root/.ipython', '/content/drive/My Drive/Colab Notebooks']\n"
          ],
          "name": "stdout"
        }
      ]
    },
    {
      "cell_type": "code",
      "metadata": {
        "id": "_4QkUqM1qe0y",
        "colab": {
          "base_uri": "https://localhost:8080/",
          "height": 34
        },
        "outputId": "7f734b8b-1fec-418b-87b1-a6491bbfbd0f"
      },
      "source": [
        "import day7\n",
        "bang = Bastion()\n",
        "bang.ult()"
      ],
      "execution_count": 9,
      "outputs": [
        {
          "output_type": "execute_result",
          "data": {
            "application/vnd.google.colaboratory.intrinsic+json": {
              "type": "string"
            },
            "text/plain": [
              "'쀼쀼삡!'"
            ]
          },
          "metadata": {
            "tags": []
          },
          "execution_count": 9
        }
      ]
    },
    {
      "cell_type": "code",
      "metadata": {
        "colab": {
          "base_uri": "https://localhost:8080/",
          "height": 34
        },
        "id": "Zm4xdVIOsIwj",
        "outputId": "ff8dedad-d2e5-453d-f609-567eaf6f4344"
      },
      "source": [
        "bbang = Bastion()\n",
        "bbang.ult()"
      ],
      "execution_count": 10,
      "outputs": [
        {
          "output_type": "execute_result",
          "data": {
            "application/vnd.google.colaboratory.intrinsic+json": {
              "type": "string"
            },
            "text/plain": [
              "'쀼쀼삡!'"
            ]
          },
          "metadata": {
            "tags": []
          },
          "execution_count": 10
        }
      ]
    },
    {
      "cell_type": "code",
      "metadata": {
        "colab": {
          "base_uri": "https://localhost:8080/"
        },
        "id": "fBCwta1SsSGO",
        "outputId": "1851435e-5cf6-4a4f-cafd-04a1935aa936"
      },
      "source": [
        "bbang.hp"
      ],
      "execution_count": 11,
      "outputs": [
        {
          "output_type": "execute_result",
          "data": {
            "text/plain": [
              "500"
            ]
          },
          "metadata": {
            "tags": []
          },
          "execution_count": 11
        }
      ]
    },
    {
      "cell_type": "markdown",
      "metadata": {
        "id": "pUgr8Rxtsh3e"
      },
      "source": [
        "# **self**\n",
        "\n",
        "self라는 것은 바로 그 클래스의 객체를 가리키는데, bang과 bbang이 똑 같은 ult \n",
        "\n",
        "메서드를 가지기 때문에 서로 구별하기 위해서 사용한 것입니다. 한 마디로 메서드를\n",
        "\n",
        "정의할 때는 항상 self라는 인자를 써준다고 생각하시면 되겠네요. self를 어떻게 \n",
        "\n",
        "사용하는지 좀 더 살펴보기 위해 Bastion 클래스에 메서드를 추가해 봅시다."
      ]
    },
    {
      "cell_type": "code",
      "metadata": {
        "id": "HYc-vmjis3oh"
      },
      "source": [
        ""
      ],
      "execution_count": null,
      "outputs": []
    }
  ]
}