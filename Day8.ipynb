{
  "nbformat": 4,
  "nbformat_minor": 0,
  "metadata": {
    "colab": {
      "name": "Day8",
      "provenance": [],
      "toc_visible": true,
      "authorship_tag": "ABX9TyOVOvfMlIcgCECTjjvGj1q7",
      "include_colab_link": true
    },
    "kernelspec": {
      "name": "python3",
      "display_name": "Python 3"
    },
    "language_info": {
      "name": "python"
    }
  },
  "cells": [
    {
      "cell_type": "markdown",
      "metadata": {
        "id": "view-in-github",
        "colab_type": "text"
      },
      "source": [
        "<a href=\"https://colab.research.google.com/github/AnnyangEH/MNFpython/blob/main/Day8.ipynb\" target=\"_parent\"><img src=\"https://colab.research.google.com/assets/colab-badge.svg\" alt=\"Open In Colab\"/></a>"
      ]
    },
    {
      "cell_type": "code",
      "metadata": {
        "id": "U1eLoujoDdsB"
      },
      "source": [
        "\"\"\"\n",
        "7일 동안 파이썬 마스터하기! 도전 7과 (21.06.06)\n",
        "'왕초보를 위한 Python'의 wikidocs 를 통해서 공부합니당\n",
        "첫 단계인 만큼 추후 목표는 머신러닝을 파이썬을 통해 공부할 것이고\n",
        "7일 동안 파이썬과 익숙해지면 나만의 게임도 만들거임\n",
        "\"\"\""
      ],
      "execution_count": null,
      "outputs": []
    },
    {
      "cell_type": "markdown",
      "metadata": {
        "id": "cRVc-kkEEeeL"
      },
      "source": [
        "#예외처리(try, except)"
      ]
    },
    {
      "cell_type": "code",
      "metadata": {
        "colab": {
          "base_uri": "https://localhost:8080/",
          "height": 136
        },
        "id": "u2i0Yj_uEZSr",
        "outputId": "bfe9ff3b-0813-4696-d2a1-9b4364437fb5"
      },
      "source": [
        "print '하이요~?'    #우리가 흔히 보는 그 오류창"
      ],
      "execution_count": null,
      "outputs": [
        {
          "output_type": "error",
          "ename": "SyntaxError",
          "evalue": "ignored",
          "traceback": [
            "\u001b[0;36m  File \u001b[0;32m\"<ipython-input-3-f4821e444e29>\"\u001b[0;36m, line \u001b[0;32m1\u001b[0m\n\u001b[0;31m    print '하이요~?'\u001b[0m\n\u001b[0m                ^\u001b[0m\n\u001b[0;31mSyntaxError\u001b[0m\u001b[0;31m:\u001b[0m Missing parentheses in call to 'print'. Did you mean print('하이요~?')?\n"
          ]
        }
      ]
    },
    {
      "cell_type": "code",
      "metadata": {
        "id": "jB3HObdJEp5t"
      },
      "source": [
        "def dd(a,b):\n",
        "    return (a + b) + (a / b)"
      ],
      "execution_count": null,
      "outputs": []
    },
    {
      "cell_type": "code",
      "metadata": {
        "colab": {
          "base_uri": "https://localhost:8080/"
        },
        "id": "V81M9qiWF2Vz",
        "outputId": "60c3e905-cdf0-403e-962a-e9911972287d"
      },
      "source": [
        "dd(4,5)     #이상 없"
      ],
      "execution_count": null,
      "outputs": [
        {
          "output_type": "execute_result",
          "data": {
            "text/plain": [
              "9.8"
            ]
          },
          "metadata": {
            "tags": []
          },
          "execution_count": 6
        }
      ]
    },
    {
      "cell_type": "code",
      "metadata": {
        "colab": {
          "base_uri": "https://localhost:8080/",
          "height": 172
        },
        "id": "9teZ1aUHF3iG",
        "outputId": "aab01726-c3c2-43d9-cc06-93944d8e5916"
      },
      "source": [
        "dd(4,0)     #오류!!"
      ],
      "execution_count": 22,
      "outputs": [
        {
          "output_type": "error",
          "ename": "NameError",
          "evalue": "ignored",
          "traceback": [
            "\u001b[0;31m---------------------------------------------------------------------------\u001b[0m",
            "\u001b[0;31mNameError\u001b[0m                                 Traceback (most recent call last)",
            "\u001b[0;32m<ipython-input-22-365a28458164>\u001b[0m in \u001b[0;36m<module>\u001b[0;34m()\u001b[0m\n\u001b[0;32m----> 1\u001b[0;31m \u001b[0mdd\u001b[0m\u001b[0;34m(\u001b[0m\u001b[0;36m4\u001b[0m\u001b[0;34m,\u001b[0m\u001b[0;36m0\u001b[0m\u001b[0;34m)\u001b[0m     \u001b[0;31m#오류!!\u001b[0m\u001b[0;34m\u001b[0m\u001b[0;34m\u001b[0m\u001b[0m\n\u001b[0m",
            "\u001b[0;31mNameError\u001b[0m: name 'dd' is not defined"
          ]
        }
      ]
    },
    {
      "cell_type": "code",
      "metadata": {
        "id": "uAZfSWHRM6x4"
      },
      "source": [
        "def f(a, b):\n",
        "    if a and b:     # a와 b가 둘 다 0이 아닐 때\n",
        "        return (a * b) + (a / b)\n",
        "    elif a:         # 그렇지 않고 a만 0이 아닐 때\n",
        "        return '불능'\n",
        "    elif b:         # 둘 다 0일 때\n",
        "        return '부정'\n"
      ],
      "execution_count": 27,
      "outputs": []
    },
    {
      "cell_type": "code",
      "metadata": {
        "colab": {
          "base_uri": "https://localhost:8080/"
        },
        "id": "HZvD848jQJgn",
        "outputId": "d072182d-890e-4946-b680-7ce219817f18"
      },
      "source": [
        "print(f(3,0))\n",
        "print(f(0,3))"
      ],
      "execution_count": 30,
      "outputs": [
        {
          "output_type": "stream",
          "text": [
            "불능\n",
            "부정\n"
          ],
          "name": "stdout"
        }
      ]
    },
    {
      "cell_type": "code",
      "metadata": {
        "colab": {
          "base_uri": "https://localhost:8080/"
        },
        "id": "yOwn1sd3U0PC",
        "outputId": "9e969eb4-b5f6-43f2-ef89-e93869efef4b"
      },
      "source": [
        "f(300000, 50000000000000)"
      ],
      "execution_count": 33,
      "outputs": [
        {
          "output_type": "execute_result",
          "data": {
            "text/plain": [
              "1.5e+19"
            ]
          },
          "metadata": {
            "tags": []
          },
          "execution_count": 33
        }
      ]
    },
    {
      "cell_type": "code",
      "metadata": {
        "colab": {
          "base_uri": "https://localhost:8080/",
          "height": 298
        },
        "id": "XajO1iosU9ZY",
        "outputId": "cbe279d4-90e1-4103-f958-c528194fda6f"
      },
      "source": [
        "f('안냥','하세요')"
      ],
      "execution_count": 35,
      "outputs": [
        {
          "output_type": "error",
          "ename": "TypeError",
          "evalue": "ignored",
          "traceback": [
            "\u001b[0;31m---------------------------------------------------------------------------\u001b[0m",
            "\u001b[0;31mTypeError\u001b[0m                                 Traceback (most recent call last)",
            "\u001b[0;32m<ipython-input-35-88dc90a7171a>\u001b[0m in \u001b[0;36m<module>\u001b[0;34m()\u001b[0m\n\u001b[0;32m----> 1\u001b[0;31m \u001b[0mf\u001b[0m\u001b[0;34m(\u001b[0m\u001b[0;34m'안냥'\u001b[0m\u001b[0;34m,\u001b[0m\u001b[0;34m'하세요'\u001b[0m\u001b[0;34m)\u001b[0m\u001b[0;34m\u001b[0m\u001b[0;34m\u001b[0m\u001b[0m\n\u001b[0m",
            "\u001b[0;32m<ipython-input-27-160fa17e10dc>\u001b[0m in \u001b[0;36mf\u001b[0;34m(a, b)\u001b[0m\n\u001b[1;32m      1\u001b[0m \u001b[0;32mdef\u001b[0m \u001b[0mf\u001b[0m\u001b[0;34m(\u001b[0m\u001b[0ma\u001b[0m\u001b[0;34m,\u001b[0m \u001b[0mb\u001b[0m\u001b[0;34m)\u001b[0m\u001b[0;34m:\u001b[0m\u001b[0;34m\u001b[0m\u001b[0;34m\u001b[0m\u001b[0m\n\u001b[1;32m      2\u001b[0m     \u001b[0;32mif\u001b[0m \u001b[0ma\u001b[0m \u001b[0;32mand\u001b[0m \u001b[0mb\u001b[0m\u001b[0;34m:\u001b[0m     \u001b[0;31m# a와 b가 둘 다 0이 아닐 때\u001b[0m\u001b[0;34m\u001b[0m\u001b[0;34m\u001b[0m\u001b[0m\n\u001b[0;32m----> 3\u001b[0;31m         \u001b[0;32mreturn\u001b[0m \u001b[0;34m(\u001b[0m\u001b[0ma\u001b[0m \u001b[0;34m*\u001b[0m \u001b[0mb\u001b[0m\u001b[0;34m)\u001b[0m \u001b[0;34m+\u001b[0m \u001b[0;34m(\u001b[0m\u001b[0ma\u001b[0m \u001b[0;34m/\u001b[0m \u001b[0mb\u001b[0m\u001b[0;34m)\u001b[0m\u001b[0;34m\u001b[0m\u001b[0;34m\u001b[0m\u001b[0m\n\u001b[0m\u001b[1;32m      4\u001b[0m     \u001b[0;32melif\u001b[0m \u001b[0ma\u001b[0m\u001b[0;34m:\u001b[0m         \u001b[0;31m# 그렇지 않고 a만 0이 아닐 때\u001b[0m\u001b[0;34m\u001b[0m\u001b[0;34m\u001b[0m\u001b[0m\n\u001b[1;32m      5\u001b[0m         \u001b[0;32mreturn\u001b[0m \u001b[0;34m'불능'\u001b[0m\u001b[0;34m\u001b[0m\u001b[0;34m\u001b[0m\u001b[0m\n",
            "\u001b[0;31mTypeError\u001b[0m: can't multiply sequence by non-int of type 'str'"
          ]
        }
      ]
    },
    {
      "cell_type": "code",
      "metadata": {
        "id": "UWwiuyifVGyz"
      },
      "source": [
        "def f(a, b):\n",
        "    try:\n",
        "        if a and b:     # a와 b가 둘 다 0이 아닐 때\n",
        "            return (a * b) + (a / b)\n",
        "        elif a:         # 그렇지 않고 a만 0이 아닐 때\n",
        "            return '불능'\n",
        "        elif b:         # 둘 다 0일 때\n",
        "            return '부정'\n",
        "    except:\n",
        "        return '으아악'"
      ],
      "execution_count": 36,
      "outputs": []
    },
    {
      "cell_type": "markdown",
      "metadata": {
        "id": "7T9rYi65_gHl"
      },
      "source": [
        "#갑자기 알고리즘 문제풀이\n",
        "\n",
        "갑자기 후임 옆에서 지나가다가 수학 문제 푸는거 알고리즘으로 만들 수 있을꺼 같아서 만듬\n",
        "\n",
        "문제 주사위 A,B,C 를 동시에 던져서 나온 눈의수 a,b,c 의 최대값이 4인 경우를 구하시오"
      ]
    },
    {
      "cell_type": "code",
      "metadata": {
        "id": "prf0G3D0F_Fu",
        "colab": {
          "base_uri": "https://localhost:8080/"
        },
        "outputId": "40b6c123-85a2-4872-d232-7097c804cd61"
      },
      "source": [
        "A = range(1,7)\n",
        "B = A\n",
        "C = B\n",
        "l = []\n",
        "for a in A:\n",
        "    for b in B:\n",
        "        for c in C:\n",
        "            if a < 5 and b < 5 and c < 5:\n",
        "                if a == 4 or b == 4 or c ==4:\n",
        "                    l.append([a,b,c])\n",
        "            elif c >= 5:\n",
        "                b += 1\n",
        "            elif b >= 5:\n",
        "                a += 1\n",
        "print(len(l))   #후임이 따봉날리고 감"
      ],
      "execution_count": 21,
      "outputs": [
        {
          "output_type": "stream",
          "text": [
            "37\n"
          ],
          "name": "stdout"
        }
      ]
    },
    {
      "cell_type": "code",
      "metadata": {
        "id": "EDt-DkkXGjCo"
      },
      "source": [
        ""
      ],
      "execution_count": null,
      "outputs": []
    }
  ]
}